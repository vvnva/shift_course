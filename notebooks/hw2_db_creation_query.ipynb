{
 "cells": [
  {
   "cell_type": "markdown",
   "id": "f101b3c4fbe8ae2",
   "metadata": {},
   "source": [
    "## Домашнее задание 2"
   ]
  },
  {
   "cell_type": "markdown",
   "id": "9b7b465d0a190104",
   "metadata": {},
   "source": [
    "1) Установить PostgreSQL;\n",
    "2) Создать БД home_credit, исследовать данные, определить типы данных и загрузить все таблицы. SQL запросы указать либо в ноутбуке, либо отдельными файлами;\n",
    "3) Сделать упражнения по запросам ниже;\n",
    "4) Сгенерировать 5 своих признаков для будущего обучения модели;\n",
    "5) Реализовать их насчет используя ТОЛЬКО SQL-запросы.\n",
    "\n",
    "Результат:\n",
    "1) Настроенная СУБД с загруженными данными из конкурса Home_Credit;\n",
    "2) Сделанные упражнения с выводом данных как в примерах выше;\n",
    "3) Описание в ноутбуке 5 сгенерированных признаков;\n",
    "4) Реализованные в ноутбуке SQL-запросы к базе данных с выводом результата по вышеуказанным фичам;\n",
    "5) Файл конфигурации в папке config, где прописаны параметры коннекта к БД;\n",
    "6) Папка utils в репозиторий, созданный там скрипт с кодом позволяющим обращаться к БД;\n",
    "\n",
    "Бонусные задания:\n",
    "1) Сделать класс для операций с БД вместо функций;\n",
    "2) Проанализировать структуру, назначить в таблицах ключи и индексы запросами к БД."
   ]
  },
  {
   "cell_type": "code",
   "execution_count": 1,
   "id": "a9409c2d20ba266d",
   "metadata": {
    "ExecuteTime": {
     "end_time": "2024-03-31T13:37:21.411436Z",
     "start_time": "2024-03-31T13:37:19.928208Z"
    }
   },
   "outputs": [],
   "source": [
    "import sys\n",
    "sys.path.insert(1, '/Users/vi/DataspellProjects/shift/src/app/utils')\n",
    "import db_connector\n",
    "sys.path.insert(1, '/Users/vi/DataspellProjects/shift/src/config')\n",
    "import db_params"
   ]
  },
  {
   "cell_type": "code",
   "execution_count": 2,
   "id": "d8e1c58033bf964",
   "metadata": {
    "ExecuteTime": {
     "end_time": "2024-03-31T13:37:21.469062Z",
     "start_time": "2024-03-31T13:37:21.396069Z"
    }
   },
   "outputs": [],
   "source": [
    "connector = db_connector.DatabaseConnector(db_params.DB_ARGS)"
   ]
  },
  {
   "cell_type": "markdown",
   "id": "af12904e8cb59542",
   "metadata": {},
   "source": [
    "## Анализ типов переменных"
   ]
  },
  {
   "cell_type": "code",
   "execution_count": 3,
   "id": "2f4bd9e207115623",
   "metadata": {
    "ExecuteTime": {
     "end_time": "2024-03-31T13:37:22.152973Z",
     "start_time": "2024-03-31T13:37:22.038213Z"
    }
   },
   "outputs": [],
   "source": [
    "import pandas as pd"
   ]
  },
  {
   "cell_type": "code",
   "execution_count": 4,
   "id": "782121e6038a5a67",
   "metadata": {
    "ExecuteTime": {
     "end_time": "2024-03-31T13:37:24.538089Z",
     "start_time": "2024-03-31T13:37:22.429743Z"
    }
   },
   "outputs": [],
   "source": [
    "file_path = db_params.DATA_FULL_PATH + 'application_test.csv'\n",
    "application_test = pd.read_csv(file_path)"
   ]
  },
  {
   "cell_type": "code",
   "execution_count": 5,
   "id": "632a7d2a88c1dda4",
   "metadata": {
    "ExecuteTime": {
     "end_time": "2024-03-31T13:37:37.191042Z",
     "start_time": "2024-03-31T13:37:24.299563Z"
    }
   },
   "outputs": [],
   "source": [
    "file_path = db_params.DATA_FULL_PATH + 'application_train.csv'\n",
    "application_train = pd.read_csv(file_path)"
   ]
  },
  {
   "cell_type": "code",
   "execution_count": 6,
   "id": "405b2fddcb0586a",
   "metadata": {
    "ExecuteTime": {
     "end_time": "2024-03-31T13:37:37.906490Z",
     "start_time": "2024-03-31T13:37:37.032577Z"
    }
   },
   "outputs": [],
   "source": [
    "application = pd.concat([application_test, application_train], ignore_index=True)"
   ]
  },
  {
   "cell_type": "code",
   "execution_count": 7,
   "id": "68d239c8a76f0b88",
   "metadata": {
    "ExecuteTime": {
     "end_time": "2024-03-31T13:37:38.183664Z",
     "start_time": "2024-03-31T13:37:37.943688Z"
    }
   },
   "outputs": [
    {
     "data": {
      "text/plain": [
       "SK_ID_CURR                      int64\n",
       "NAME_CONTRACT_TYPE             object\n",
       "CODE_GENDER                    object\n",
       "FLAG_OWN_CAR                   object\n",
       "FLAG_OWN_REALTY                object\n",
       "                               ...   \n",
       "AMT_REQ_CREDIT_BUREAU_WEEK    float64\n",
       "AMT_REQ_CREDIT_BUREAU_MON     float64\n",
       "AMT_REQ_CREDIT_BUREAU_QRT     float64\n",
       "AMT_REQ_CREDIT_BUREAU_YEAR    float64\n",
       "TARGET                        float64\n",
       "Length: 122, dtype: object"
      ]
     },
     "execution_count": 7,
     "metadata": {},
     "output_type": "execute_result"
    }
   ],
   "source": [
    "application.dtypes"
   ]
  },
  {
   "cell_type": "code",
   "execution_count": 8,
   "id": "3dec426e40cbaa25",
   "metadata": {
    "ExecuteTime": {
     "end_time": "2024-03-31T13:37:42.905379Z",
     "start_time": "2024-03-31T13:37:37.970045Z"
    }
   },
   "outputs": [
    {
     "name": "stdout",
     "output_type": "stream",
     "text": [
      "{'NAME_CONTRACT_TYPE': 20, 'CODE_GENDER': 8, 'FLAG_OWN_CAR': 6, 'FLAG_OWN_REALTY': 6, 'NAME_TYPE_SUITE': 20, 'NAME_INCOME_TYPE': 25, 'NAME_EDUCATION_TYPE': 34, 'NAME_FAMILY_STATUS': 25, 'NAME_HOUSING_TYPE': 24, 'OCCUPATION_TYPE': 26, 'WEEKDAY_APPR_PROCESS_START': 14, 'ORGANIZATION_TYPE': 27, 'FONDKAPREMONT_MODE': 26, 'HOUSETYPE_MODE': 21, 'WALLSMATERIAL_MODE': 17, 'EMERGENCYSTATE_MODE': 8}\n"
     ]
    }
   ],
   "source": [
    "type_object= application.select_dtypes(include='object').columns\n",
    "type_varchar = {}\n",
    "for column in type_object:\n",
    "    max_length = application[column].dropna().astype(str).map(len).max()\n",
    "    type_varchar[column] = max_length + 5\n",
    "print(type_varchar)"
   ]
  },
  {
   "cell_type": "code",
   "execution_count": 9,
   "id": "257dc835c628f81b",
   "metadata": {
    "ExecuteTime": {
     "end_time": "2024-03-31T13:37:43.217487Z",
     "start_time": "2024-03-31T13:37:42.910934Z"
    }
   },
   "outputs": [
    {
     "name": "stdout",
     "output_type": "stream",
     "text": [
      "{'SK_ID_CURR': 'integer', 'CNT_CHILDREN': 'smallint', 'DAYS_BIRTH': 'smallint', 'DAYS_EMPLOYED': 'integer', 'DAYS_ID_PUBLISH': 'smallint', 'FLAG_MOBIL': 'smallint', 'FLAG_EMP_PHONE': 'smallint', 'FLAG_WORK_PHONE': 'smallint', 'FLAG_CONT_MOBILE': 'smallint', 'FLAG_PHONE': 'smallint', 'FLAG_EMAIL': 'smallint', 'REGION_RATING_CLIENT': 'smallint', 'REGION_RATING_CLIENT_W_CITY': 'smallint', 'HOUR_APPR_PROCESS_START': 'smallint', 'REG_REGION_NOT_LIVE_REGION': 'smallint', 'REG_REGION_NOT_WORK_REGION': 'smallint', 'LIVE_REGION_NOT_WORK_REGION': 'smallint', 'REG_CITY_NOT_LIVE_CITY': 'smallint', 'REG_CITY_NOT_WORK_CITY': 'smallint', 'LIVE_CITY_NOT_WORK_CITY': 'smallint', 'FLAG_DOCUMENT_2': 'smallint', 'FLAG_DOCUMENT_3': 'smallint', 'FLAG_DOCUMENT_4': 'smallint', 'FLAG_DOCUMENT_5': 'smallint', 'FLAG_DOCUMENT_6': 'smallint', 'FLAG_DOCUMENT_7': 'smallint', 'FLAG_DOCUMENT_8': 'smallint', 'FLAG_DOCUMENT_9': 'smallint', 'FLAG_DOCUMENT_10': 'smallint', 'FLAG_DOCUMENT_11': 'smallint', 'FLAG_DOCUMENT_12': 'smallint', 'FLAG_DOCUMENT_13': 'smallint', 'FLAG_DOCUMENT_14': 'smallint', 'FLAG_DOCUMENT_15': 'smallint', 'FLAG_DOCUMENT_16': 'smallint', 'FLAG_DOCUMENT_17': 'smallint', 'FLAG_DOCUMENT_18': 'smallint', 'FLAG_DOCUMENT_19': 'smallint', 'FLAG_DOCUMENT_20': 'smallint', 'FLAG_DOCUMENT_21': 'smallint'}\n"
     ]
    }
   ],
   "source": [
    "type_integer = {}\n",
    "for column in application.columns:\n",
    "    if application[column].dtype == 'int64':\n",
    "        maximum = application[column].max()\n",
    "        minimum = application[column].min()\n",
    "        # Определяем, подходит ли тип smallint, используя границы значений.\n",
    "        if maximum < 2**15 and minimum > -(2**15):\n",
    "            type_integer[column] = 'smallint'\n",
    "        else:\n",
    "            type_integer[column] = 'integer'\n",
    "print(type_integer)"
   ]
  },
  {
   "cell_type": "markdown",
   "id": "514df27bc99bf988",
   "metadata": {},
   "source": [
    "## Создание БД"
   ]
  },
  {
   "cell_type": "code",
   "execution_count": 10,
   "id": "824fbc666655d5d1",
   "metadata": {
    "ExecuteTime": {
     "end_time": "2024-03-31T13:37:43.375028Z",
     "start_time": "2024-03-31T13:37:43.010327Z"
    }
   },
   "outputs": [],
   "source": [
    "sql_schema_query = \"\"\"\n",
    "      SET search_path TO credit_scoring;\n",
    "      DROP TABLE IF EXISTS bureau; \n",
    "      CREATE TABLE bureau(\n",
    "      SK_ID_CURR integer,\n",
    "      SK_ID_BUREAU integer,\n",
    "      CREDIT_ACTIVE varchar(13),\n",
    "      CREDIT_CURRENCY varchar(15),\n",
    "      DAYS_CREDIT smallint,\n",
    "      CREDIT_DAY_OVERDUE smallint,\n",
    "      DAYS_CREDIT_ENDDATE real,\n",
    "      DAYS_ENDDATE_FACT real,\n",
    "      AMT_CREDIT_MAX_OVERDUE real,\n",
    "      CNT_CREDIT_PROLONG smallint,\n",
    "      AMT_CREDIT_SUM real,\n",
    "      AMT_CREDIT_SUM_DEBT real,\n",
    "      AMT_CREDIT_SUM_LIMIT real,\n",
    "      AMT_CREDIT_SUM_OVERDUE real,\n",
    "      CREDIT_TYPE varchar(49),\n",
    "      DAYS_CREDIT_UPDATE integer,\n",
    "      AMT_ANNUITY  real)\n",
    "\"\"\""
   ]
  },
  {
   "cell_type": "code",
   "execution_count": 11,
   "id": "19635ccd7fa7233",
   "metadata": {
    "ExecuteTime": {
     "end_time": "2024-03-31T13:37:43.715332Z",
     "start_time": "2024-03-31T13:37:43.032934Z"
    }
   },
   "outputs": [
    {
     "name": "stdout",
     "output_type": "stream",
     "text": [
      "CPU times: user 10.8 ms, sys: 9.62 ms, total: 20.4 ms\n",
      "Wall time: 197 ms\n"
     ]
    }
   ],
   "source": [
    "%%time\n",
    "connector.send_sql_query(sql_schema_query)"
   ]
  },
  {
   "cell_type": "code",
   "execution_count": 12,
   "id": "acc5ccaba25b53b7",
   "metadata": {
    "ExecuteTime": {
     "end_time": "2024-03-31T13:37:43.883981Z",
     "start_time": "2024-03-31T13:37:43.243541Z"
    }
   },
   "outputs": [],
   "source": [
    "sql_schema_query = \"\"\"\n",
    "    SET search_path TO credit_scoring;\n",
    "    DROP TABLE IF EXISTS application;\n",
    "    CREATE TABLE application(\n",
    "        SK_ID_CURR integer,\n",
    "        TARGET real,\n",
    "        NAME_CONTRACT_TYPE varchar(20),\n",
    "        CODE_GENDER varchar(8),\n",
    "        FLAG_OWN_CAR varchar(6),\n",
    "        FLAG_OWN_REALTY varchar(6),\n",
    "        CNT_CHILDREN smallint,\n",
    "        AMT_INCOME_TOTAL real,\n",
    "        AMT_CREDIT real,\n",
    "        AMT_ANNUITY real,\n",
    "        AMT_GOODS_PRICE real,\n",
    "        NAME_TYPE_SUITE varchar(20),\n",
    "        NAME_INCOME_TYPE varchar(25),\n",
    "        NAME_EDUCATION_TYPE varchar(34),\n",
    "        NAME_FAMILY_STATUS varchar(25),\n",
    "        NAME_HOUSING_TYPE varchar(24),\n",
    "        REGION_POPULATION_RELATIVE real,\n",
    "        DAYS_BIRTH smallint,\n",
    "        DAYS_EMPLOYED integer,\n",
    "        DAYS_REGISTRATION real,\n",
    "        DAYS_ID_PUBLISH smallint,\n",
    "        OWN_CAR_AGE real,\n",
    "        FLAG_MOBIL smallint,\n",
    "        FLAG_EMP_PHONE smallint,\n",
    "        FLAG_WORK_PHONE smallint,\n",
    "        FLAG_CONT_MOBILE smallint,\n",
    "        FLAG_PHONE smallint,\n",
    "        FLAG_EMAIL smallint,\n",
    "        OCCUPATION_TYPE varchar(26),\n",
    "        CNT_FAM_MEMBERS real,\n",
    "        REGION_RATING_CLIENT smallint,\n",
    "        REGION_RATING_CLIENT_W_CITY smallint,\n",
    "        WEEKDAY_APPR_PROCESS_START varchar(14),\n",
    "        HOUR_APPR_PROCESS_START smallint,\n",
    "        REG_REGION_NOT_LIVE_REGION smallint,\n",
    "        REG_REGION_NOT_WORK_REGION smallint,\n",
    "        LIVE_REGION_NOT_WORK_REGION smallint,\n",
    "        REG_CITY_NOT_LIVE_CITY smallint,\n",
    "        REG_CITY_NOT_WORK_CITY smallint,\n",
    "        LIVE_CITY_NOT_WORK_CITY smallint,\n",
    "        ORGANIZATION_TYPE varchar(27),\n",
    "        EXT_SOURCE_1 real,\n",
    "        EXT_SOURCE_2 real,\n",
    "        EXT_SOURCE_3 real,\n",
    "        APARTMENTS_AVG real,\n",
    "        BASEMENTAREA_AVG real,\n",
    "        YEARS_BEGINEXPLUATATION_AVG real,\n",
    "        YEARS_BUILD_AVG real,\n",
    "        COMMONAREA_AVG real,\n",
    "        ELEVATORS_AVG real,\n",
    "        ENTRANCES_AVG real,\n",
    "        FLOORSMAX_AVG real,\n",
    "        FLOORSMIN_AVG real,\n",
    "        LANDAREA_AVG real,\n",
    "        LIVINGAPARTMENTS_AVG real,\n",
    "        LIVINGAREA_AVG real,\n",
    "        NONLIVINGAPARTMENTS_AVG real,\n",
    "        NONLIVINGAREA_AVG real,\n",
    "        APARTMENTS_MODE real,\n",
    "        BASEMENTAREA_MODE real,\n",
    "        YEARS_BEGINEXPLUATATION_MODE real,\n",
    "        YEARS_BUILD_MODE real,\n",
    "        COMMONAREA_MODE real,\n",
    "        ELEVATORS_MODE real,\n",
    "        ENTRANCES_MODE real,\n",
    "        FLOORSMAX_MODE real,\n",
    "        FLOORSMIN_MODE real,\n",
    "        LANDAREA_MODE real,\n",
    "        LIVINGAPARTMENTS_MODE real,\n",
    "        LIVINGAREA_MODE real,\n",
    "        NONLIVINGAPARTMENTS_MODE real,\n",
    "        NONLIVINGAREA_MODE real,\n",
    "        APARTMENTS_MEDI real,\n",
    "        BASEMENTAREA_MEDI real,\n",
    "        YEARS_BEGINEXPLUATATION_MEDI real,\n",
    "        YEARS_BUILD_MEDI real,\n",
    "        COMMONAREA_MEDI real,\n",
    "        ELEVATORS_MEDI real,\n",
    "        ENTRANCES_MEDI real,\n",
    "        FLOORSMAX_MEDI real,\n",
    "        FLOORSMIN_MEDI real,\n",
    "        LANDAREA_MEDI real,\n",
    "        LIVINGAPARTMENTS_MEDI real,\n",
    "        LIVINGAREA_MEDI real,\n",
    "        NONLIVINGAPARTMENTS_MEDI real,\n",
    "        NONLIVINGAREA_MEDI real,\n",
    "        FONDKAPREMONT_MODE varchar(26),\n",
    "        HOUSETYPE_MODE varchar(21),\n",
    "        TOTALAREA_MODE real,\n",
    "        WALLSMATERIAL_MODE varchar(17),\n",
    "        EMERGENCYSTATE_MODE varchar(8),\n",
    "        OBS_30_CNT_SOCIAL_CIRCLE real,\n",
    "        DEF_30_CNT_SOCIAL_CIRCLE real,\n",
    "        OBS_60_CNT_SOCIAL_CIRCLE real,\n",
    "        DEF_60_CNT_SOCIAL_CIRCLE real,\n",
    "        DAYS_LAST_PHONE_CHANGE real,\n",
    "        FLAG_DOCUMENT_2 smallint,\n",
    "        FLAG_DOCUMENT_3 smallint,\n",
    "        FLAG_DOCUMENT_4 smallint,\n",
    "        FLAG_DOCUMENT_5 smallint,\n",
    "        FLAG_DOCUMENT_6 smallint,\n",
    "        FLAG_DOCUMENT_7 smallint,\n",
    "        FLAG_DOCUMENT_8 smallint,\n",
    "        FLAG_DOCUMENT_9 smallint,\n",
    "        FLAG_DOCUMENT_10 smallint,\n",
    "        FLAG_DOCUMENT_11 smallint,\n",
    "        FLAG_DOCUMENT_12 smallint,\n",
    "        FLAG_DOCUMENT_13 smallint,\n",
    "        FLAG_DOCUMENT_14 smallint,\n",
    "        FLAG_DOCUMENT_15 smallint,\n",
    "        FLAG_DOCUMENT_16 smallint,\n",
    "        FLAG_DOCUMENT_17 smallint,\n",
    "        FLAG_DOCUMENT_18 smallint,\n",
    "        FLAG_DOCUMENT_19 smallint,\n",
    "        FLAG_DOCUMENT_20 smallint,\n",
    "        FLAG_DOCUMENT_21 smallint,\n",
    "        AMT_REQ_CREDIT_BUREAU_HOUR real,\n",
    "        AMT_REQ_CREDIT_BUREAU_DAY real,\n",
    "        AMT_REQ_CREDIT_BUREAU_WEEK real,\n",
    "        AMT_REQ_CREDIT_BUREAU_MON real,\n",
    "        AMT_REQ_CREDIT_BUREAU_QRT real,\n",
    "        AMT_REQ_CREDIT_BUREAU_YEAR real)\n",
    "\"\"\""
   ]
  },
  {
   "cell_type": "code",
   "execution_count": 13,
   "id": "910b8193db36a0bc",
   "metadata": {
    "ExecuteTime": {
     "end_time": "2024-03-31T13:37:44.120978Z",
     "start_time": "2024-03-31T13:37:43.275983Z"
    }
   },
   "outputs": [
    {
     "name": "stdout",
     "output_type": "stream",
     "text": [
      "CPU times: user 5.53 ms, sys: 4.17 ms, total: 9.7 ms\n",
      "Wall time: 54.5 ms\n"
     ]
    }
   ],
   "source": [
    "%%time\n",
    "connector.send_sql_query(sql_schema_query)"
   ]
  },
  {
   "cell_type": "code",
   "execution_count": 14,
   "id": "2b97428db9219750",
   "metadata": {
    "ExecuteTime": {
     "end_time": "2024-03-31T13:37:44.160440Z",
     "start_time": "2024-03-31T13:37:43.342763Z"
    }
   },
   "outputs": [],
   "source": [
    "sql_schema_query = \"\"\"\n",
    "    SET search_path TO credit_scoring;\n",
    "    DROP TABLE IF EXISTS bureau_balance;\n",
    "    CREATE TABLE bureau_balance(\n",
    "        SK_ID_BUREAU integer,\n",
    "        MONTHS_BALANCE smallint,\n",
    "        STATUS varchar(6))\n",
    "\"\"\""
   ]
  },
  {
   "cell_type": "code",
   "execution_count": 15,
   "id": "5febd3c89a86fca7",
   "metadata": {
    "ExecuteTime": {
     "end_time": "2024-03-31T13:37:44.222803Z",
     "start_time": "2024-03-31T13:37:43.357231Z"
    }
   },
   "outputs": [
    {
     "name": "stdout",
     "output_type": "stream",
     "text": [
      "CPU times: user 6.28 ms, sys: 3.85 ms, total: 10.1 ms\n",
      "Wall time: 70.4 ms\n"
     ]
    }
   ],
   "source": [
    "%%time\n",
    "connector.send_sql_query(sql_schema_query)"
   ]
  },
  {
   "cell_type": "code",
   "execution_count": 16,
   "id": "9b5488955c20c18f",
   "metadata": {
    "ExecuteTime": {
     "end_time": "2024-03-31T13:37:44.255232Z",
     "start_time": "2024-03-31T13:37:43.441271Z"
    }
   },
   "outputs": [],
   "source": [
    "sql_schema_query = \"\"\"\n",
    "    SET search_path TO credit_scoring;\n",
    "    DROP TABLE IF EXISTS previous_application;\n",
    "    CREATE TABLE previous_application(\n",
    "        SK_ID_PREV integer,\n",
    "        SK_ID_CURR integer,\n",
    "        NAME_CONTRACT_TYPE varchar(20),\n",
    "        AMT_ANNUITY real,\n",
    "        AMT_APPLICATION real,\n",
    "        AMT_CREDIT real,\n",
    "        AMT_DOWN_PAYMENT real,\n",
    "        AMT_GOODS_PRICE real,\n",
    "        WEEKDAY_APPR_PROCESS_START varchar(14),\n",
    "        HOUR_APPR_PROCESS_START smallint,\n",
    "        FLAG_LAST_APPL_PER_CONTRACT varchar(6),\n",
    "        NFLAG_LAST_APPL_IN_DAY smallint,\n",
    "        RATE_DOWN_PAYMENT real,\n",
    "        RATE_INTEREST_PRIMARY real,\n",
    "        RATE_INTEREST_PRIVILEGED real,\n",
    "        NAME_CASH_LOAN_PURPOSE varchar(37),\n",
    "        NAME_CONTRACT_STATUS varchar(17),\n",
    "        DAYS_DECISION smallint,\n",
    "        NAME_PAYMENT_TYPE varchar(46),\n",
    "        CODE_REJECT_REASON varchar(11),\n",
    "        NAME_TYPE_SUITE varchar(20),\n",
    "        NAME_CLIENT_TYPE varchar(14),\n",
    "        NAME_GOODS_CATEGORY varchar(29),\n",
    "        NAME_PORTFOLIO varchar(10),\n",
    "        NAME_PRODUCT_TYPE varchar(12),\n",
    "        CHANNEL_TYPE varchar(31),\n",
    "        SELLERPLACE_AREA integer,\n",
    "        NAME_SELLER_INDUSTRY varchar(25),\n",
    "        CNT_PAYMENT real,\n",
    "        NAME_YIELD_GROUP varchar(15),\n",
    "        PRODUCT_COMBINATION varchar(35),\n",
    "        DAYS_FIRST_DRAWING real,\n",
    "        DAYS_FIRST_DUE real,\n",
    "        DAYS_LAST_DUE_1ST_VERSION real,\n",
    "        DAYS_LAST_DUE real,\n",
    "        DAYS_TERMINATION real,\n",
    "        NFLAG_INSURED_ON_APPROVAL real)   \n",
    "\"\"\""
   ]
  },
  {
   "cell_type": "code",
   "execution_count": 17,
   "id": "5fce5a9fcaa87c3d",
   "metadata": {
    "ExecuteTime": {
     "end_time": "2024-03-31T13:37:44.257912Z",
     "start_time": "2024-03-31T13:37:43.457277Z"
    }
   },
   "outputs": [
    {
     "name": "stdout",
     "output_type": "stream",
     "text": [
      "CPU times: user 5.29 ms, sys: 3.81 ms, total: 9.1 ms\n",
      "Wall time: 54.6 ms\n"
     ]
    }
   ],
   "source": [
    "%%time\n",
    "connector.send_sql_query(sql_schema_query)"
   ]
  },
  {
   "cell_type": "code",
   "execution_count": 18,
   "id": "e4f17a9a70de4264",
   "metadata": {
    "ExecuteTime": {
     "end_time": "2024-03-31T13:37:44.286301Z",
     "start_time": "2024-03-31T13:37:43.532068Z"
    }
   },
   "outputs": [],
   "source": [
    "sql_schema_query = \"\"\"\n",
    "    SET search_path TO credit_scoring;\n",
    "    DROP TABLE IF EXISTS POS_CASH_balance;\n",
    "    CREATE TABLE POS_CASH_balance(\n",
    "       SK_ID_PREV integer,    \n",
    "       SK_ID_CURR integer,\n",
    "       MONTHS_BALANCE smallint,\n",
    "       CNT_INSTALMENT real,\n",
    "       CNT_INSTALMENT_FUTURE real,\n",
    "       NAME_CONTRACT_STATUS varchar(26),\n",
    "       SK_DPD smallint,\n",
    "       SK_DPD_DEF smallint)\n",
    "\"\"\""
   ]
  },
  {
   "cell_type": "code",
   "execution_count": 19,
   "id": "29a48739bdfb9f99",
   "metadata": {
    "ExecuteTime": {
     "end_time": "2024-03-31T13:37:44.295370Z",
     "start_time": "2024-03-31T13:37:43.547595Z"
    }
   },
   "outputs": [
    {
     "name": "stdout",
     "output_type": "stream",
     "text": [
      "CPU times: user 5.89 ms, sys: 4.17 ms, total: 10.1 ms\n",
      "Wall time: 72.7 ms\n"
     ]
    }
   ],
   "source": [
    "%%time\n",
    "connector.send_sql_query(sql_schema_query)"
   ]
  },
  {
   "cell_type": "code",
   "execution_count": 20,
   "id": "48e6501e8c4fd4cd",
   "metadata": {
    "ExecuteTime": {
     "end_time": "2024-03-31T13:37:44.325208Z",
     "start_time": "2024-03-31T13:37:43.647842Z"
    }
   },
   "outputs": [],
   "source": [
    "sql_schema_query = \"\"\"\n",
    "    SET search_path TO credit_scoring;\n",
    "    DROP TABLE IF EXISTS credit_card_balance;\n",
    "    CREATE TABLE credit_card_balance(\n",
    "       SK_ID_PREV integer,\n",
    "       SK_ID_CURR integer,\n",
    "       MONTHS_BALANCE smallint,\n",
    "       AMT_BALANCE real,\n",
    "       AMT_CREDIT_LIMIT_ACTUAL integer,\n",
    "       AMT_DRAWINGS_ATM_CURRENT real,\n",
    "       AMT_DRAWINGS_CURRENT real,\n",
    "       AMT_DRAWINGS_OTHER_CURRENT real,\n",
    "       AMT_DRAWINGS_POS_CURRENT real,\n",
    "       AMT_INST_MIN_REGULARITY real,\n",
    "       AMT_PAYMENT_CURRENT real,\n",
    "       AMT_PAYMENT_TOTAL_CURRENT real,\n",
    "       AMT_RECEIVABLE_PRINCIPAL real,\n",
    "       AMT_RECIVABLE real,\n",
    "       AMT_TOTAL_RECEIVABLE real,\n",
    "       CNT_DRAWINGS_ATM_CURRENT real,\n",
    "       CNT_DRAWINGS_CURRENT smallint,\n",
    "       CNT_DRAWINGS_OTHER_CURRENT real,\n",
    "       CNT_DRAWINGS_POS_CURRENT real,\n",
    "       CNT_INSTALMENT_MATURE_CUM real,\n",
    "       NAME_CONTRACT_STATUS varchar(18),\n",
    "       SK_DPD smallint,\n",
    "       SK_DPD_DEF smallint)\n",
    "\"\"\""
   ]
  },
  {
   "cell_type": "code",
   "execution_count": 21,
   "id": "869854c848469896",
   "metadata": {
    "ExecuteTime": {
     "end_time": "2024-03-31T13:37:44.458059Z",
     "start_time": "2024-03-31T13:37:43.667046Z"
    }
   },
   "outputs": [
    {
     "name": "stdout",
     "output_type": "stream",
     "text": [
      "CPU times: user 6.46 ms, sys: 3.81 ms, total: 10.3 ms\n",
      "Wall time: 54 ms\n"
     ]
    }
   ],
   "source": [
    "%%time\n",
    "connector.send_sql_query(sql_schema_query)"
   ]
  },
  {
   "cell_type": "code",
   "execution_count": 22,
   "id": "1cffa031265ab96",
   "metadata": {
    "ExecuteTime": {
     "end_time": "2024-03-31T13:37:44.501537Z",
     "start_time": "2024-03-31T13:37:43.735646Z"
    }
   },
   "outputs": [],
   "source": [
    "sql_schema_query = \"\"\"\n",
    "    SET search_path TO credit_scoring;\n",
    "    DROP TABLE IF EXISTS installments_payments;\n",
    "    CREATE TABLE installments_payments(\n",
    "       SK_ID_PREV integer,\n",
    "       SK_ID_CURR integer,\n",
    "       NUM_INSTALMENT_VERSION real,\n",
    "       NUM_INSTALMENT_NUMBER smallint,\n",
    "       DAYS_INSTALMENT real,\n",
    "       DAYS_ENTRY_PAYMENT real,\n",
    "       AMT_INSTALMENT real,\n",
    "       AMT_PAYMENT real)\n",
    "\n",
    "\"\"\""
   ]
  },
  {
   "cell_type": "code",
   "execution_count": 23,
   "id": "1cb9bb3a06ca3fce",
   "metadata": {
    "ExecuteTime": {
     "end_time": "2024-03-31T13:37:44.837464Z",
     "start_time": "2024-03-31T13:37:43.747592Z"
    }
   },
   "outputs": [
    {
     "name": "stdout",
     "output_type": "stream",
     "text": [
      "CPU times: user 5.75 ms, sys: 4.09 ms, total: 9.84 ms\n",
      "Wall time: 32.9 ms\n"
     ]
    }
   ],
   "source": [
    "%%time\n",
    "connector.send_sql_query(sql_schema_query)"
   ]
  },
  {
   "cell_type": "markdown",
   "id": "f9cb3be77f356927",
   "metadata": {},
   "source": [
    "## Наполнение БД"
   ]
  },
  {
   "cell_type": "code",
   "execution_count": 24,
   "id": "2951385a6cd6aa78",
   "metadata": {
    "ExecuteTime": {
     "end_time": "2024-03-31T13:37:44.997892Z",
     "start_time": "2024-03-31T13:37:43.789898Z"
    }
   },
   "outputs": [],
   "source": [
    "sql_data_query = f\"\"\"\n",
    "SET search_path TO credit_scoring;\n",
    "COPY bureau(\n",
    "    SK_ID_CURR,\n",
    "    SK_ID_BUREAU,\n",
    "    CREDIT_ACTIVE,\n",
    "    CREDIT_CURRENCY,\n",
    "    DAYS_CREDIT,\n",
    "    CREDIT_DAY_OVERDUE,\n",
    "    DAYS_CREDIT_ENDDATE,\n",
    "    DAYS_ENDDATE_FACT,\n",
    "    AMT_CREDIT_MAX_OVERDUE,\n",
    "    CNT_CREDIT_PROLONG,\n",
    "    AMT_CREDIT_SUM,\n",
    "    AMT_CREDIT_SUM_DEBT,\n",
    "    AMT_CREDIT_SUM_LIMIT,\n",
    "    AMT_CREDIT_SUM_OVERDUE,\n",
    "    CREDIT_TYPE,\n",
    "    DAYS_CREDIT_UPDATE,\n",
    "    AMT_ANNUITY\n",
    ")\n",
    "FROM '{db_params.DATA_FULL_PATH}bureau.csv' DELIMITER ',' CSV HEADER;\n",
    "\"\"\""
   ]
  },
  {
   "cell_type": "code",
   "execution_count": 25,
   "id": "729c0da20fc4803f",
   "metadata": {
    "ExecuteTime": {
     "end_time": "2024-03-31T13:38:11.001288Z",
     "start_time": "2024-03-31T13:37:43.804395Z"
    }
   },
   "outputs": [
    {
     "name": "stdout",
     "output_type": "stream",
     "text": [
      "CPU times: user 7.49 ms, sys: 4.77 ms, total: 12.3 ms\n",
      "Wall time: 27.2 s\n"
     ]
    }
   ],
   "source": [
    "%%time\n",
    "connector.send_sql_query(sql_data_query)"
   ]
  },
  {
   "cell_type": "code",
   "execution_count": 26,
   "id": "4cfffa3ebd9feb32",
   "metadata": {
    "ExecuteTime": {
     "end_time": "2024-03-31T13:38:11.189856Z",
     "start_time": "2024-03-31T13:38:11.000576Z"
    }
   },
   "outputs": [],
   "source": [
    "sql_data_query = f\"\"\"\n",
    "SET search_path TO credit_scoring;\n",
    "COPY application(\n",
    " SK_ID_CURR,\n",
    " NAME_CONTRACT_TYPE,\n",
    " CODE_GENDER,\n",
    " FLAG_OWN_CAR,\n",
    " FLAG_OWN_REALTY,\n",
    " CNT_CHILDREN,\n",
    " AMT_INCOME_TOTAL,\n",
    " AMT_CREDIT,\n",
    " AMT_ANNUITY,\n",
    " AMT_GOODS_PRICE,\n",
    " NAME_TYPE_SUITE,\n",
    " NAME_INCOME_TYPE,\n",
    " NAME_EDUCATION_TYPE,\n",
    " NAME_FAMILY_STATUS,\n",
    " NAME_HOUSING_TYPE,\n",
    " REGION_POPULATION_RELATIVE,\n",
    " DAYS_BIRTH,\n",
    " DAYS_EMPLOYED,\n",
    " DAYS_REGISTRATION,\n",
    " DAYS_ID_PUBLISH,\n",
    " OWN_CAR_AGE,\n",
    " FLAG_MOBIL,\n",
    " FLAG_EMP_PHONE,\n",
    " FLAG_WORK_PHONE,\n",
    " FLAG_CONT_MOBILE,\n",
    " FLAG_PHONE,\n",
    " FLAG_EMAIL,\n",
    " OCCUPATION_TYPE,\n",
    " CNT_FAM_MEMBERS,\n",
    " REGION_RATING_CLIENT,\n",
    " REGION_RATING_CLIENT_W_CITY,\n",
    " WEEKDAY_APPR_PROCESS_START,\n",
    " HOUR_APPR_PROCESS_START,\n",
    " REG_REGION_NOT_LIVE_REGION,\n",
    " REG_REGION_NOT_WORK_REGION,\n",
    " LIVE_REGION_NOT_WORK_REGION,\n",
    " REG_CITY_NOT_LIVE_CITY,\n",
    " REG_CITY_NOT_WORK_CITY,\n",
    " LIVE_CITY_NOT_WORK_CITY,\n",
    " ORGANIZATION_TYPE,\n",
    " EXT_SOURCE_1,\n",
    " EXT_SOURCE_2,\n",
    " EXT_SOURCE_3,\n",
    " APARTMENTS_AVG,\n",
    " BASEMENTAREA_AVG,\n",
    " YEARS_BEGINEXPLUATATION_AVG,\n",
    " YEARS_BUILD_AVG,\n",
    " COMMONAREA_AVG,\n",
    " ELEVATORS_AVG,\n",
    " ENTRANCES_AVG,\n",
    " FLOORSMAX_AVG,\n",
    " FLOORSMIN_AVG,\n",
    " LANDAREA_AVG,\n",
    " LIVINGAPARTMENTS_AVG,\n",
    " LIVINGAREA_AVG,\n",
    " NONLIVINGAPARTMENTS_AVG,\n",
    " NONLIVINGAREA_AVG,\n",
    " APARTMENTS_MODE,\n",
    " BASEMENTAREA_MODE,\n",
    " YEARS_BEGINEXPLUATATION_MODE,\n",
    " YEARS_BUILD_MODE,\n",
    " COMMONAREA_MODE,\n",
    " ELEVATORS_MODE,\n",
    " ENTRANCES_MODE,\n",
    " FLOORSMAX_MODE,\n",
    " FLOORSMIN_MODE,\n",
    " LANDAREA_MODE,\n",
    " LIVINGAPARTMENTS_MODE,\n",
    " LIVINGAREA_MODE,\n",
    " NONLIVINGAPARTMENTS_MODE,\n",
    " NONLIVINGAREA_MODE,\n",
    " APARTMENTS_MEDI,\n",
    " BASEMENTAREA_MEDI,\n",
    " YEARS_BEGINEXPLUATATION_MEDI,\n",
    " YEARS_BUILD_MEDI,\n",
    " COMMONAREA_MEDI,\n",
    " ELEVATORS_MEDI,\n",
    " ENTRANCES_MEDI,\n",
    " FLOORSMAX_MEDI,\n",
    " FLOORSMIN_MEDI,\n",
    " LANDAREA_MEDI,\n",
    " LIVINGAPARTMENTS_MEDI,\n",
    " LIVINGAREA_MEDI,\n",
    " NONLIVINGAPARTMENTS_MEDI,\n",
    " NONLIVINGAREA_MEDI,\n",
    " FONDKAPREMONT_MODE,\n",
    " HOUSETYPE_MODE,\n",
    " TOTALAREA_MODE,\n",
    " WALLSMATERIAL_MODE,\n",
    " EMERGENCYSTATE_MODE,\n",
    " OBS_30_CNT_SOCIAL_CIRCLE,\n",
    " DEF_30_CNT_SOCIAL_CIRCLE,\n",
    " OBS_60_CNT_SOCIAL_CIRCLE,\n",
    " DEF_60_CNT_SOCIAL_CIRCLE,\n",
    " DAYS_LAST_PHONE_CHANGE,\n",
    " FLAG_DOCUMENT_2,\n",
    " FLAG_DOCUMENT_3,\n",
    " FLAG_DOCUMENT_4,\n",
    " FLAG_DOCUMENT_5,\n",
    " FLAG_DOCUMENT_6,\n",
    " FLAG_DOCUMENT_7,\n",
    " FLAG_DOCUMENT_8,\n",
    " FLAG_DOCUMENT_9,\n",
    " FLAG_DOCUMENT_10,\n",
    " FLAG_DOCUMENT_11,\n",
    " FLAG_DOCUMENT_12,\n",
    " FLAG_DOCUMENT_13,\n",
    " FLAG_DOCUMENT_14,\n",
    " FLAG_DOCUMENT_15,\n",
    " FLAG_DOCUMENT_16,\n",
    " FLAG_DOCUMENT_17,\n",
    " FLAG_DOCUMENT_18,\n",
    " FLAG_DOCUMENT_19,\n",
    " FLAG_DOCUMENT_20,\n",
    " FLAG_DOCUMENT_21,\n",
    " AMT_REQ_CREDIT_BUREAU_HOUR,\n",
    " AMT_REQ_CREDIT_BUREAU_DAY,\n",
    " AMT_REQ_CREDIT_BUREAU_WEEK,\n",
    " AMT_REQ_CREDIT_BUREAU_MON,\n",
    " AMT_REQ_CREDIT_BUREAU_QRT,\n",
    " AMT_REQ_CREDIT_BUREAU_YEAR\n",
    ")\n",
    "FROM '{db_params.DATA_FULL_PATH}application_test.csv' DELIMITER ',' CSV HEADER;\n",
    "\"\"\""
   ]
  },
  {
   "cell_type": "code",
   "execution_count": 27,
   "id": "3b028c249ade6054",
   "metadata": {
    "ExecuteTime": {
     "end_time": "2024-03-31T13:38:13.541674Z",
     "start_time": "2024-03-31T13:38:11.020050Z"
    }
   },
   "outputs": [
    {
     "name": "stdout",
     "output_type": "stream",
     "text": [
      "CPU times: user 6.24 ms, sys: 4.95 ms, total: 11.2 ms\n",
      "Wall time: 2.5 s\n"
     ]
    }
   ],
   "source": [
    "%%time\n",
    "connector.send_sql_query(sql_data_query)"
   ]
  },
  {
   "cell_type": "code",
   "execution_count": 28,
   "id": "915fb809b568064e",
   "metadata": {
    "ExecuteTime": {
     "end_time": "2024-03-31T13:38:13.572276Z",
     "start_time": "2024-03-31T13:38:13.546655Z"
    }
   },
   "outputs": [],
   "source": [
    "sql_data_query = f\"\"\"\n",
    "SET search_path TO credit_scoring;\n",
    "COPY application(\n",
    " SK_ID_CURR,\n",
    " TARGET,\n",
    " NAME_CONTRACT_TYPE,\n",
    " CODE_GENDER,\n",
    " FLAG_OWN_CAR,\n",
    " FLAG_OWN_REALTY,\n",
    " CNT_CHILDREN,\n",
    " AMT_INCOME_TOTAL,\n",
    " AMT_CREDIT,\n",
    " AMT_ANNUITY,\n",
    " AMT_GOODS_PRICE,\n",
    " NAME_TYPE_SUITE,\n",
    " NAME_INCOME_TYPE,\n",
    " NAME_EDUCATION_TYPE,\n",
    " NAME_FAMILY_STATUS,\n",
    " NAME_HOUSING_TYPE,\n",
    " REGION_POPULATION_RELATIVE,\n",
    " DAYS_BIRTH,\n",
    " DAYS_EMPLOYED,\n",
    " DAYS_REGISTRATION,\n",
    " DAYS_ID_PUBLISH,\n",
    " OWN_CAR_AGE,\n",
    " FLAG_MOBIL,\n",
    " FLAG_EMP_PHONE,\n",
    " FLAG_WORK_PHONE,\n",
    " FLAG_CONT_MOBILE,\n",
    " FLAG_PHONE,\n",
    " FLAG_EMAIL,\n",
    " OCCUPATION_TYPE,\n",
    " CNT_FAM_MEMBERS,\n",
    " REGION_RATING_CLIENT,\n",
    " REGION_RATING_CLIENT_W_CITY,\n",
    " WEEKDAY_APPR_PROCESS_START,\n",
    " HOUR_APPR_PROCESS_START,\n",
    " REG_REGION_NOT_LIVE_REGION,\n",
    " REG_REGION_NOT_WORK_REGION,\n",
    " LIVE_REGION_NOT_WORK_REGION,\n",
    " REG_CITY_NOT_LIVE_CITY,\n",
    " REG_CITY_NOT_WORK_CITY,\n",
    " LIVE_CITY_NOT_WORK_CITY,\n",
    " ORGANIZATION_TYPE,\n",
    " EXT_SOURCE_1,\n",
    " EXT_SOURCE_2,\n",
    " EXT_SOURCE_3,\n",
    " APARTMENTS_AVG,\n",
    " BASEMENTAREA_AVG,\n",
    " YEARS_BEGINEXPLUATATION_AVG,\n",
    " YEARS_BUILD_AVG,\n",
    " COMMONAREA_AVG,\n",
    " ELEVATORS_AVG,\n",
    " ENTRANCES_AVG,\n",
    " FLOORSMAX_AVG,\n",
    " FLOORSMIN_AVG,\n",
    " LANDAREA_AVG,\n",
    " LIVINGAPARTMENTS_AVG,\n",
    " LIVINGAREA_AVG,\n",
    " NONLIVINGAPARTMENTS_AVG,\n",
    " NONLIVINGAREA_AVG,\n",
    " APARTMENTS_MODE,\n",
    " BASEMENTAREA_MODE,\n",
    " YEARS_BEGINEXPLUATATION_MODE,\n",
    " YEARS_BUILD_MODE,\n",
    " COMMONAREA_MODE,\n",
    " ELEVATORS_MODE,\n",
    " ENTRANCES_MODE,\n",
    " FLOORSMAX_MODE,\n",
    " FLOORSMIN_MODE,\n",
    " LANDAREA_MODE,\n",
    " LIVINGAPARTMENTS_MODE,\n",
    " LIVINGAREA_MODE,\n",
    " NONLIVINGAPARTMENTS_MODE,\n",
    " NONLIVINGAREA_MODE,\n",
    " APARTMENTS_MEDI,\n",
    " BASEMENTAREA_MEDI,\n",
    " YEARS_BEGINEXPLUATATION_MEDI,\n",
    " YEARS_BUILD_MEDI,\n",
    " COMMONAREA_MEDI,\n",
    " ELEVATORS_MEDI,\n",
    " ENTRANCES_MEDI,\n",
    " FLOORSMAX_MEDI,\n",
    " FLOORSMIN_MEDI,\n",
    " LANDAREA_MEDI,\n",
    " LIVINGAPARTMENTS_MEDI,\n",
    " LIVINGAREA_MEDI,\n",
    " NONLIVINGAPARTMENTS_MEDI,\n",
    " NONLIVINGAREA_MEDI,\n",
    " FONDKAPREMONT_MODE,\n",
    " HOUSETYPE_MODE,\n",
    " TOTALAREA_MODE,\n",
    " WALLSMATERIAL_MODE,\n",
    " EMERGENCYSTATE_MODE,\n",
    " OBS_30_CNT_SOCIAL_CIRCLE,\n",
    " DEF_30_CNT_SOCIAL_CIRCLE,\n",
    " OBS_60_CNT_SOCIAL_CIRCLE,\n",
    " DEF_60_CNT_SOCIAL_CIRCLE,\n",
    " DAYS_LAST_PHONE_CHANGE,\n",
    " FLAG_DOCUMENT_2,\n",
    " FLAG_DOCUMENT_3,\n",
    " FLAG_DOCUMENT_4,\n",
    " FLAG_DOCUMENT_5,\n",
    " FLAG_DOCUMENT_6,\n",
    " FLAG_DOCUMENT_7,\n",
    " FLAG_DOCUMENT_8,\n",
    " FLAG_DOCUMENT_9,\n",
    " FLAG_DOCUMENT_10,\n",
    " FLAG_DOCUMENT_11,\n",
    " FLAG_DOCUMENT_12,\n",
    " FLAG_DOCUMENT_13,\n",
    " FLAG_DOCUMENT_14,\n",
    " FLAG_DOCUMENT_15,\n",
    " FLAG_DOCUMENT_16,\n",
    " FLAG_DOCUMENT_17,\n",
    " FLAG_DOCUMENT_18,\n",
    " FLAG_DOCUMENT_19,\n",
    " FLAG_DOCUMENT_20,\n",
    " FLAG_DOCUMENT_21,\n",
    " AMT_REQ_CREDIT_BUREAU_HOUR,\n",
    " AMT_REQ_CREDIT_BUREAU_DAY,\n",
    " AMT_REQ_CREDIT_BUREAU_WEEK,\n",
    " AMT_REQ_CREDIT_BUREAU_MON,\n",
    " AMT_REQ_CREDIT_BUREAU_QRT,\n",
    " AMT_REQ_CREDIT_BUREAU_YEAR\n",
    ")\n",
    "FROM '{db_params.DATA_FULL_PATH}application_train.csv' DELIMITER ',' CSV HEADER;\n",
    "\"\"\""
   ]
  },
  {
   "cell_type": "code",
   "execution_count": 29,
   "id": "f99b542006c7903c",
   "metadata": {
    "ExecuteTime": {
     "end_time": "2024-03-31T13:38:31.551979Z",
     "start_time": "2024-03-31T13:38:13.562860Z"
    }
   },
   "outputs": [
    {
     "name": "stdout",
     "output_type": "stream",
     "text": [
      "CPU times: user 8.06 ms, sys: 4.95 ms, total: 13 ms\n",
      "Wall time: 17.8 s\n"
     ]
    }
   ],
   "source": [
    "%%time\n",
    "connector.send_sql_query(sql_data_query)"
   ]
  },
  {
   "cell_type": "code",
   "execution_count": 30,
   "id": "34c13fd8079cf462",
   "metadata": {
    "ExecuteTime": {
     "end_time": "2024-03-31T13:38:31.575254Z",
     "start_time": "2024-03-31T13:38:31.369618Z"
    }
   },
   "outputs": [],
   "source": [
    "sql_data_query = f\"\"\"\n",
    "SET search_path TO credit_scoring;\n",
    "COPY installments_payments(\n",
    "  SK_ID_PREV,\n",
    "  SK_ID_CURR,\n",
    "  NUM_INSTALMENT_VERSION,\n",
    "  NUM_INSTALMENT_NUMBER,\n",
    "  DAYS_INSTALMENT,\n",
    "  DAYS_ENTRY_PAYMENT,\n",
    "  AMT_INSTALMENT,\n",
    "  AMT_PAYMENT\n",
    ")\n",
    "FROM '{db_params.DATA_FULL_PATH}installments_payments.csv' DELIMITER ',' CSV HEADER;\n",
    "\"\"\""
   ]
  },
  {
   "cell_type": "code",
   "execution_count": 31,
   "id": "9acfeb304a56a77a",
   "metadata": {
    "ExecuteTime": {
     "end_time": "2024-03-31T13:40:22.054199Z",
     "start_time": "2024-03-31T13:38:31.423502Z"
    }
   },
   "outputs": [
    {
     "name": "stdout",
     "output_type": "stream",
     "text": [
      "CPU times: user 15.2 ms, sys: 10.4 ms, total: 25.6 ms\n",
      "Wall time: 1min 50s\n"
     ]
    }
   ],
   "source": [
    "%%time\n",
    "connector.send_sql_query(sql_data_query)"
   ]
  },
  {
   "cell_type": "code",
   "execution_count": 32,
   "id": "86ddbefc687e00c1",
   "metadata": {
    "ExecuteTime": {
     "end_time": "2024-03-31T13:40:22.309332Z",
     "start_time": "2024-03-31T13:40:22.052050Z"
    }
   },
   "outputs": [],
   "source": [
    "sql_data_query = f\"\"\"\n",
    "SET search_path TO credit_scoring;\n",
    "COPY credit_card_balance(\n",
    "  SK_ID_PREV,\n",
    "  SK_ID_CURR,\n",
    "  MONTHS_BALANCE,\n",
    "  AMT_BALANCE,\n",
    "  AMT_CREDIT_LIMIT_ACTUAL,\n",
    "  AMT_DRAWINGS_ATM_CURRENT,\n",
    "  AMT_DRAWINGS_CURRENT,\n",
    "  AMT_DRAWINGS_OTHER_CURRENT,\n",
    "  AMT_DRAWINGS_POS_CURRENT,\n",
    "  AMT_INST_MIN_REGULARITY,\n",
    "  AMT_PAYMENT_CURRENT,\n",
    "  AMT_PAYMENT_TOTAL_CURRENT,\n",
    "  AMT_RECEIVABLE_PRINCIPAL,\n",
    "  AMT_RECIVABLE,\n",
    "  AMT_TOTAL_RECEIVABLE,\n",
    "  CNT_DRAWINGS_ATM_CURRENT,\n",
    "  CNT_DRAWINGS_CURRENT,\n",
    "  CNT_DRAWINGS_OTHER_CURRENT,\n",
    "  CNT_DRAWINGS_POS_CURRENT,\n",
    "  CNT_INSTALMENT_MATURE_CUM,\n",
    "  NAME_CONTRACT_STATUS,\n",
    "  SK_DPD,\n",
    "  SK_DPD_DEF\n",
    ")\n",
    "FROM '{db_params.DATA_FULL_PATH}credit_card_balance.csv' DELIMITER ',' CSV HEADER;\n",
    "\"\"\""
   ]
  },
  {
   "cell_type": "code",
   "execution_count": 33,
   "id": "a05a8726e8ba3013",
   "metadata": {
    "ExecuteTime": {
     "end_time": "2024-03-31T13:41:00.838218Z",
     "start_time": "2024-03-31T13:40:22.124991Z"
    }
   },
   "outputs": [
    {
     "name": "stdout",
     "output_type": "stream",
     "text": [
      "CPU times: user 9.83 ms, sys: 10.8 ms, total: 20.6 ms\n",
      "Wall time: 38.7 s\n"
     ]
    }
   ],
   "source": [
    "%%time\n",
    "connector.send_sql_query(sql_data_query)"
   ]
  },
  {
   "cell_type": "code",
   "execution_count": 34,
   "id": "34ab5743d74c5465",
   "metadata": {
    "ExecuteTime": {
     "end_time": "2024-03-31T13:41:00.854394Z",
     "start_time": "2024-03-31T13:41:00.840776Z"
    }
   },
   "outputs": [],
   "source": [
    "sql_data_query = f\"\"\"\n",
    "SET search_path TO credit_scoring;\n",
    "COPY POS_CASH_balance(\n",
    "  SK_ID_PREV,\n",
    "  SK_ID_CURR,\n",
    "  MONTHS_BALANCE,\n",
    "  CNT_INSTALMENT,\n",
    "  CNT_INSTALMENT_FUTURE,\n",
    "  NAME_CONTRACT_STATUS,\n",
    "  SK_DPD,\n",
    "  SK_DPD_DEF\n",
    ")\n",
    "FROM '{db_params.DATA_FULL_PATH}POS_CASH_balance.csv' DELIMITER ',' CSV HEADER;\n",
    "\"\"\""
   ]
  },
  {
   "cell_type": "code",
   "execution_count": 35,
   "id": "43aecbdb29a4a996",
   "metadata": {
    "ExecuteTime": {
     "end_time": "2024-03-31T13:41:34.592956Z",
     "start_time": "2024-03-31T13:41:00.856167Z"
    }
   },
   "outputs": [
    {
     "name": "stdout",
     "output_type": "stream",
     "text": [
      "CPU times: user 4.81 ms, sys: 3.82 ms, total: 8.63 ms\n",
      "Wall time: 33.7 s\n"
     ]
    }
   ],
   "source": [
    "%%time\n",
    "connector.send_sql_query(sql_data_query)"
   ]
  },
  {
   "cell_type": "code",
   "execution_count": 36,
   "id": "2efda875c8b4201e",
   "metadata": {
    "ExecuteTime": {
     "end_time": "2024-03-31T13:41:34.724941Z",
     "start_time": "2024-03-31T13:41:34.593235Z"
    }
   },
   "outputs": [],
   "source": [
    "sql_data_query = f\"\"\"\n",
    "SET search_path TO credit_scoring;\n",
    "COPY previous_application(\n",
    "  SK_ID_PREV,\n",
    "  SK_ID_CURR,\n",
    "  NAME_CONTRACT_TYPE,\n",
    "  AMT_ANNUITY,\n",
    "  AMT_APPLICATION,\n",
    "  AMT_CREDIT,\n",
    "  AMT_DOWN_PAYMENT,\n",
    "  AMT_GOODS_PRICE,\n",
    "  WEEKDAY_APPR_PROCESS_START,\n",
    "  HOUR_APPR_PROCESS_START,\n",
    "  FLAG_LAST_APPL_PER_CONTRACT,\n",
    "  NFLAG_LAST_APPL_IN_DAY,\n",
    "  RATE_DOWN_PAYMENT,\n",
    "  RATE_INTEREST_PRIMARY,\n",
    "  RATE_INTEREST_PRIVILEGED,\n",
    "  NAME_CASH_LOAN_PURPOSE,\n",
    "  NAME_CONTRACT_STATUS,\n",
    "  DAYS_DECISION,\n",
    "  NAME_PAYMENT_TYPE,\n",
    "  CODE_REJECT_REASON,\n",
    "  NAME_TYPE_SUITE,\n",
    "  NAME_CLIENT_TYPE,\n",
    "  NAME_GOODS_CATEGORY,\n",
    "  NAME_PORTFOLIO,\n",
    "  NAME_PRODUCT_TYPE,\n",
    "  CHANNEL_TYPE,\n",
    "  SELLERPLACE_AREA,\n",
    "  NAME_SELLER_INDUSTRY,\n",
    "  CNT_PAYMENT,\n",
    "  NAME_YIELD_GROUP,\n",
    "  PRODUCT_COMBINATION,\n",
    "  DAYS_FIRST_DRAWING,\n",
    "  DAYS_FIRST_DUE,\n",
    "  DAYS_LAST_DUE_1ST_VERSION,\n",
    "  DAYS_LAST_DUE,\n",
    "  DAYS_TERMINATION,\n",
    "  NFLAG_INSURED_ON_APPROVAL\n",
    ")\n",
    "FROM '{db_params.DATA_FULL_PATH}previous_application.csv' DELIMITER ',' CSV HEADER;\n",
    "\"\"\""
   ]
  },
  {
   "cell_type": "code",
   "execution_count": 37,
   "id": "6f3ea32304f5548e",
   "metadata": {
    "ExecuteTime": {
     "end_time": "2024-03-31T13:42:02.873876Z",
     "start_time": "2024-03-31T13:41:34.609986Z"
    }
   },
   "outputs": [
    {
     "name": "stdout",
     "output_type": "stream",
     "text": [
      "CPU times: user 7.55 ms, sys: 4.1 ms, total: 11.6 ms\n",
      "Wall time: 28.2 s\n"
     ]
    }
   ],
   "source": [
    "%%time\n",
    "connector.send_sql_query(sql_data_query)"
   ]
  },
  {
   "cell_type": "code",
   "execution_count": 38,
   "id": "27eb6e67cea2e966",
   "metadata": {
    "ExecuteTime": {
     "end_time": "2024-03-31T13:42:02.936396Z",
     "start_time": "2024-03-31T13:42:02.870405Z"
    }
   },
   "outputs": [],
   "source": [
    "sql_data_query = f\"\"\"\n",
    "SET search_path TO credit_scoring;\n",
    "COPY bureau_balance(\n",
    "SK_ID_BUREAU,\n",
    "MONTHS_BALANCE,\n",
    "STATUS\n",
    ")\n",
    "FROM '{db_params.DATA_FULL_PATH}bureau_balance.csv' DELIMITER ',' CSV HEADER;\n",
    "\"\"\""
   ]
  },
  {
   "cell_type": "code",
   "execution_count": 39,
   "id": "fada1bfc53853a5a",
   "metadata": {
    "ExecuteTime": {
     "end_time": "2024-03-31T13:42:45.531115Z",
     "start_time": "2024-03-31T13:42:02.885751Z"
    }
   },
   "outputs": [
    {
     "name": "stdout",
     "output_type": "stream",
     "text": [
      "CPU times: user 8.89 ms, sys: 4.23 ms, total: 13.1 ms\n",
      "Wall time: 42.6 s\n"
     ]
    }
   ],
   "source": [
    "%%time\n",
    "connector.send_sql_query(sql_data_query)"
   ]
  },
  {
   "cell_type": "markdown",
   "id": "971d00299a85105",
   "metadata": {},
   "source": [
    "## Создание связей в таблицах"
   ]
  },
  {
   "cell_type": "code",
   "execution_count": 40,
   "id": "567f390768bf49e6",
   "metadata": {
    "ExecuteTime": {
     "end_time": "2024-03-31T13:42:58.692484Z",
     "start_time": "2024-03-31T13:42:45.528391Z"
    }
   },
   "outputs": [
    {
     "name": "stdout",
     "output_type": "stream",
     "text": [
      "CPU times: user 5.77 ms, sys: 5.69 ms, total: 11.5 ms\n",
      "Wall time: 13.2 s\n"
     ]
    }
   ],
   "source": [
    "%%time\n",
    "sql_schema_query = \"\"\"\n",
    "SET search_path TO credit_scoring;\n",
    "\n",
    "-- Application table\n",
    "ALTER TABLE application ADD PRIMARY KEY (SK_ID_CURR);\n",
    "\n",
    "-- Bureau table\n",
    "ALTER TABLE bureau ADD PRIMARY KEY (SK_ID_BUREAU);\n",
    "ALTER TABLE bureau ADD CONSTRAINT fk_bureau_application FOREIGN KEY (SK_ID_CURR) REFERENCES application(SK_ID_CURR);\n",
    "\"\"\"\n",
    "connector.send_sql_query(sql_schema_query)"
   ]
  },
  {
   "cell_type": "code",
   "execution_count": 41,
   "id": "cbc590a0829f977c",
   "metadata": {
    "ExecuteTime": {
     "end_time": "2024-03-31T13:43:13.782562Z",
     "start_time": "2024-03-31T13:42:58.690932Z"
    }
   },
   "outputs": [
    {
     "name": "stdout",
     "output_type": "stream",
     "text": [
      "CPU times: user 5.09 ms, sys: 3.8 ms, total: 8.89 ms\n",
      "Wall time: 15.1 s\n"
     ]
    }
   ],
   "source": [
    "%%time\n",
    "sql_schema_query = \"\"\"\n",
    "SET search_path TO credit_scoring;\n",
    "-- Previous Application table\n",
    "ALTER TABLE previous_application ADD PRIMARY KEY (SK_ID_PREV);\n",
    "ALTER TABLE previous_application ADD CONSTRAINT fk_previous_application_application FOREIGN KEY (SK_ID_CURR) REFERENCES application(SK_ID_CURR);\n",
    "\"\"\"\n",
    "connector.send_sql_query(sql_schema_query)"
   ]
  },
  {
   "cell_type": "code",
   "execution_count": 42,
   "id": "b064a6a80909adf0",
   "metadata": {
    "ExecuteTime": {
     "end_time": "2024-03-31T13:43:44.915495Z",
     "start_time": "2024-03-31T13:43:13.777888Z"
    }
   },
   "outputs": [
    {
     "name": "stdout",
     "output_type": "stream",
     "text": [
      "CPU times: user 6.98 ms, sys: 5.23 ms, total: 12.2 ms\n",
      "Wall time: 31.1 s\n"
     ]
    }
   ],
   "source": [
    "%%time\n",
    "sql_schema_query = \"\"\"\n",
    "SET search_path TO credit_scoring;\n",
    "ALTER TABLE pos_cash_balance ADD CONSTRAINT fk_pos_cash_balance_application FOREIGN KEY (SK_ID_CURR) REFERENCES application(SK_ID_CURR);\n",
    "\"\"\"\n",
    "connector.send_sql_query(sql_schema_query)"
   ]
  },
  {
   "cell_type": "code",
   "execution_count": 43,
   "id": "92f147610e6d1ee5",
   "metadata": {
    "ExecuteTime": {
     "end_time": "2024-03-31T13:43:54.235510Z",
     "start_time": "2024-03-31T13:43:44.904987Z"
    }
   },
   "outputs": [
    {
     "name": "stdout",
     "output_type": "stream",
     "text": [
      "CPU times: user 7.65 ms, sys: 5.75 ms, total: 13.4 ms\n",
      "Wall time: 9.32 s\n"
     ]
    }
   ],
   "source": [
    "%%time\n",
    "sql_schema_query = \"\"\"\n",
    "SET search_path TO credit_scoring;\n",
    "ALTER TABLE credit_card_balance ADD CONSTRAINT fk_credit_card_balance_application FOREIGN KEY (SK_ID_CURR) REFERENCES application(SK_ID_CURR);\n",
    "\"\"\"\n",
    "connector.send_sql_query(sql_schema_query)"
   ]
  },
  {
   "cell_type": "code",
   "execution_count": 44,
   "id": "7be74e2b439ac57d",
   "metadata": {
    "ExecuteTime": {
     "end_time": "2024-03-31T13:44:17.936748Z",
     "start_time": "2024-03-31T13:43:54.234344Z"
    }
   },
   "outputs": [
    {
     "name": "stdout",
     "output_type": "stream",
     "text": [
      "CPU times: user 6.65 ms, sys: 5.13 ms, total: 11.8 ms\n",
      "Wall time: 23.7 s\n"
     ]
    }
   ],
   "source": [
    "%%time\n",
    "sql_schema_query = \"\"\"\n",
    "SET search_path TO credit_scoring;\n",
    "ALTER TABLE installments_payments ADD CONSTRAINT fk_installments_payments_application FOREIGN KEY (SK_ID_CURR) REFERENCES application(SK_ID_CURR);\n",
    "\"\"\"\n",
    "connector.send_sql_query(sql_schema_query)"
   ]
  },
  {
   "cell_type": "markdown",
   "id": "771279b14404c309",
   "metadata": {},
   "source": [
    "## Задания"
   ]
  },
  {
   "cell_type": "markdown",
   "id": "527db751b424461b",
   "metadata": {},
   "source": [
    "Вывести средний доход среди всех клиентов"
   ]
  },
  {
   "cell_type": "code",
   "execution_count": 3,
   "id": "7af780d1b1495946",
   "metadata": {
    "ExecuteTime": {
     "end_time": "2024-03-31T13:44:20.216551Z",
     "start_time": "2024-03-31T13:44:17.936193Z"
    }
   },
   "outputs": [
    {
     "name": "stderr",
     "output_type": "stream",
     "text": [
      "/Users/vi/DataspellProjects/shift/src/app/utils/db_connector.py:37: UserWarning: pandas only supports SQLAlchemy connectable (engine/connection) or database string URI or sqlite3 DBAPI2 connection. Other DBAPI2 objects are not tested. Please consider using SQLAlchemy.\n",
      "  df = pd.read_sql(query, conn)\n"
     ]
    },
    {
     "name": "stdout",
     "output_type": "stream",
     "text": [
      "CPU times: user 207 ms, sys: 47.3 ms, total: 254 ms\n",
      "Wall time: 2.86 s\n"
     ]
    },
    {
     "data": {
      "text/html": [
       "<div>\n",
       "<style scoped>\n",
       "    .dataframe tbody tr th:only-of-type {\n",
       "        vertical-align: middle;\n",
       "    }\n",
       "\n",
       "    .dataframe tbody tr th {\n",
       "        vertical-align: top;\n",
       "    }\n",
       "\n",
       "    .dataframe thead th {\n",
       "        text-align: right;\n",
       "    }\n",
       "</style>\n",
       "<table border=\"1\" class=\"dataframe\">\n",
       "  <thead>\n",
       "    <tr style=\"text-align: right;\">\n",
       "      <th></th>\n",
       "      <th>average_income</th>\n",
       "    </tr>\n",
       "  </thead>\n",
       "  <tbody>\n",
       "    <tr>\n",
       "      <th>0</th>\n",
       "      <td>170116.05986</td>\n",
       "    </tr>\n",
       "  </tbody>\n",
       "</table>\n",
       "</div>"
      ],
      "text/plain": [
       "   average_income\n",
       "0    170116.05986"
      ]
     },
     "execution_count": 3,
     "metadata": {},
     "output_type": "execute_result"
    }
   ],
   "source": [
    "%%time\n",
    "sql_query = \"\"\"\n",
    "SET search_path TO credit_scoring;\n",
    "SELECT AVG(AMT_INCOME_TOTAL) AS average_income FROM application\n",
    "\"\"\"\n",
    "connector.get_df_from_query(sql_query)"
   ]
  },
  {
   "cell_type": "markdown",
   "id": "609e42ddfa47336a",
   "metadata": {},
   "source": [
    "вывести минимальный и максимальный возраст среди всех клиентов"
   ]
  },
  {
   "cell_type": "code",
   "execution_count": 4,
   "id": "ad1132125c05a7df",
   "metadata": {
    "ExecuteTime": {
     "end_time": "2024-03-31T13:44:20.647672Z",
     "start_time": "2024-03-31T13:44:20.209443Z"
    }
   },
   "outputs": [
    {
     "name": "stderr",
     "output_type": "stream",
     "text": [
      "/Users/vi/DataspellProjects/shift/src/app/utils/db_connector.py:37: UserWarning: pandas only supports SQLAlchemy connectable (engine/connection) or database string URI or sqlite3 DBAPI2 connection. Other DBAPI2 objects are not tested. Please consider using SQLAlchemy.\n",
      "  df = pd.read_sql(query, conn)\n"
     ]
    },
    {
     "name": "stdout",
     "output_type": "stream",
     "text": [
      "CPU times: user 8.1 ms, sys: 4.34 ms, total: 12.4 ms\n",
      "Wall time: 346 ms\n"
     ]
    },
    {
     "data": {
      "text/html": [
       "<div>\n",
       "<style scoped>\n",
       "    .dataframe tbody tr th:only-of-type {\n",
       "        vertical-align: middle;\n",
       "    }\n",
       "\n",
       "    .dataframe tbody tr th {\n",
       "        vertical-align: top;\n",
       "    }\n",
       "\n",
       "    .dataframe thead th {\n",
       "        text-align: right;\n",
       "    }\n",
       "</style>\n",
       "<table border=\"1\" class=\"dataframe\">\n",
       "  <thead>\n",
       "    <tr style=\"text-align: right;\">\n",
       "      <th></th>\n",
       "      <th>min_age</th>\n",
       "      <th>max_age</th>\n",
       "    </tr>\n",
       "  </thead>\n",
       "  <tbody>\n",
       "    <tr>\n",
       "      <th>0</th>\n",
       "      <td>20</td>\n",
       "      <td>69</td>\n",
       "    </tr>\n",
       "  </tbody>\n",
       "</table>\n",
       "</div>"
      ],
      "text/plain": [
       "   min_age  max_age\n",
       "0       20       69"
      ]
     },
     "execution_count": 4,
     "metadata": {},
     "output_type": "execute_result"
    }
   ],
   "source": [
    "%%time\n",
    "sql_query = \"\"\"\n",
    "SET search_path TO credit_scoring;\n",
    "SELECT\n",
    "MIN(ABS(DAYS_BIRTH)/365) AS min_age,\n",
    "MAX(ABS(DAYS_BIRTH)/365) AS max_age\n",
    "FROM credit_scoring.application;\n",
    "\"\"\"\n",
    "connector.get_df_from_query(sql_query)"
   ]
  },
  {
   "cell_type": "markdown",
   "id": "6ecc9c7ba9b8867a",
   "metadata": {},
   "source": [
    "Вывести количество мужчин и женщин"
   ]
  },
  {
   "cell_type": "code",
   "execution_count": 5,
   "id": "48efab224861642f",
   "metadata": {
    "ExecuteTime": {
     "end_time": "2024-03-31T13:44:21.255462Z",
     "start_time": "2024-03-31T13:44:20.607462Z"
    }
   },
   "outputs": [
    {
     "name": "stderr",
     "output_type": "stream",
     "text": [
      "/Users/vi/DataspellProjects/shift/src/app/utils/db_connector.py:37: UserWarning: pandas only supports SQLAlchemy connectable (engine/connection) or database string URI or sqlite3 DBAPI2 connection. Other DBAPI2 objects are not tested. Please consider using SQLAlchemy.\n",
      "  df = pd.read_sql(query, conn)\n"
     ]
    },
    {
     "name": "stdout",
     "output_type": "stream",
     "text": [
      "CPU times: user 8.28 ms, sys: 4.57 ms, total: 12.8 ms\n",
      "Wall time: 548 ms\n"
     ]
    },
    {
     "data": {
      "text/html": [
       "<div>\n",
       "<style scoped>\n",
       "    .dataframe tbody tr th:only-of-type {\n",
       "        vertical-align: middle;\n",
       "    }\n",
       "\n",
       "    .dataframe tbody tr th {\n",
       "        vertical-align: top;\n",
       "    }\n",
       "\n",
       "    .dataframe thead th {\n",
       "        text-align: right;\n",
       "    }\n",
       "</style>\n",
       "<table border=\"1\" class=\"dataframe\">\n",
       "  <thead>\n",
       "    <tr style=\"text-align: right;\">\n",
       "      <th></th>\n",
       "      <th>code_gender</th>\n",
       "      <th>total</th>\n",
       "    </tr>\n",
       "  </thead>\n",
       "  <tbody>\n",
       "    <tr>\n",
       "      <th>0</th>\n",
       "      <td>F</td>\n",
       "      <td>235126</td>\n",
       "    </tr>\n",
       "    <tr>\n",
       "      <th>1</th>\n",
       "      <td>M</td>\n",
       "      <td>121125</td>\n",
       "    </tr>\n",
       "  </tbody>\n",
       "</table>\n",
       "</div>"
      ],
      "text/plain": [
       "  code_gender   total\n",
       "0           F  235126\n",
       "1           M  121125"
      ]
     },
     "execution_count": 5,
     "metadata": {},
     "output_type": "execute_result"
    }
   ],
   "source": [
    "%%time\n",
    "sql_query = \"\"\"\n",
    "SET search_path TO credit_scoring;\n",
    "SELECT\n",
    "    CODE_GENDER,\n",
    "    COUNT(*) AS total\n",
    "FROM credit_scoring.application\n",
    "WHERE CODE_GENDER IN ('M', 'F')\n",
    "GROUP BY CODE_GENDER;\n",
    "\"\"\"\n",
    "connector.get_df_from_query(sql_query)"
   ]
  },
  {
   "cell_type": "markdown",
   "id": "fd575bd3be1431f8",
   "metadata": {},
   "source": [
    "вывести общую сумму, количество и среднюю сумму, запрошенную клиентами в кредит с авто и без"
   ]
  },
  {
   "cell_type": "code",
   "execution_count": 6,
   "id": "776d7e57e5aca51e",
   "metadata": {
    "ExecuteTime": {
     "end_time": "2024-03-31T13:44:21.874821Z",
     "start_time": "2024-03-31T13:44:21.150290Z"
    }
   },
   "outputs": [
    {
     "name": "stderr",
     "output_type": "stream",
     "text": [
      "/Users/vi/DataspellProjects/shift/src/app/utils/db_connector.py:37: UserWarning: pandas only supports SQLAlchemy connectable (engine/connection) or database string URI or sqlite3 DBAPI2 connection. Other DBAPI2 objects are not tested. Please consider using SQLAlchemy.\n",
      "  df = pd.read_sql(query, conn)\n"
     ]
    },
    {
     "name": "stdout",
     "output_type": "stream",
     "text": [
      "CPU times: user 8.41 ms, sys: 3.95 ms, total: 12.4 ms\n",
      "Wall time: 522 ms\n"
     ]
    },
    {
     "data": {
      "text/html": [
       "<div>\n",
       "<style scoped>\n",
       "    .dataframe tbody tr th:only-of-type {\n",
       "        vertical-align: middle;\n",
       "    }\n",
       "\n",
       "    .dataframe tbody tr th {\n",
       "        vertical-align: top;\n",
       "    }\n",
       "\n",
       "    .dataframe thead th {\n",
       "        text-align: right;\n",
       "    }\n",
       "</style>\n",
       "<table border=\"1\" class=\"dataframe\">\n",
       "  <thead>\n",
       "    <tr style=\"text-align: right;\">\n",
       "      <th></th>\n",
       "      <th>flag_own_car</th>\n",
       "      <th>total_loans</th>\n",
       "      <th>total_amount</th>\n",
       "      <th>average_amount</th>\n",
       "    </tr>\n",
       "  </thead>\n",
       "  <tbody>\n",
       "    <tr>\n",
       "      <th>0</th>\n",
       "      <td>N</td>\n",
       "      <td>235235</td>\n",
       "      <td>1.304039e+11</td>\n",
       "      <td>554317.381867</td>\n",
       "    </tr>\n",
       "    <tr>\n",
       "      <th>1</th>\n",
       "      <td>Y</td>\n",
       "      <td>121020</td>\n",
       "      <td>7.900278e+10</td>\n",
       "      <td>652786.569683</td>\n",
       "    </tr>\n",
       "  </tbody>\n",
       "</table>\n",
       "</div>"
      ],
      "text/plain": [
       "  flag_own_car  total_loans  total_amount  average_amount\n",
       "0            N       235235  1.304039e+11   554317.381867\n",
       "1            Y       121020  7.900278e+10   652786.569683"
      ]
     },
     "execution_count": 6,
     "metadata": {},
     "output_type": "execute_result"
    }
   ],
   "source": [
    "%%time\n",
    "sql_query = \"\"\"\n",
    "SET search_path TO credit_scoring;\n",
    "SELECT\n",
    "    FLAG_OWN_CAR,\n",
    "    COUNT(*) AS total_loans,\n",
    "    SUM(AMT_CREDIT) AS total_amount,\n",
    "    AVG(AMT_CREDIT) AS average_amount\n",
    "FROM credit_scoring.application\n",
    "GROUP BY FLAG_OWN_CAR;\n",
    "\"\"\"\n",
    "connector.get_df_from_query(sql_query)"
   ]
  },
  {
   "cell_type": "markdown",
   "id": "5a9e68738ce29f6f",
   "metadata": {},
   "source": [
    "вывести доли клиентов с различным образованием"
   ]
  },
  {
   "cell_type": "code",
   "execution_count": 7,
   "id": "ed446076c3c6d637",
   "metadata": {
    "ExecuteTime": {
     "end_time": "2024-03-31T13:44:22.300693Z",
     "start_time": "2024-03-31T13:44:21.603498Z"
    }
   },
   "outputs": [
    {
     "name": "stderr",
     "output_type": "stream",
     "text": [
      "/Users/vi/DataspellProjects/shift/src/app/utils/db_connector.py:37: UserWarning: pandas only supports SQLAlchemy connectable (engine/connection) or database string URI or sqlite3 DBAPI2 connection. Other DBAPI2 objects are not tested. Please consider using SQLAlchemy.\n",
      "  df = pd.read_sql(query, conn)\n"
     ]
    },
    {
     "name": "stdout",
     "output_type": "stream",
     "text": [
      "CPU times: user 8.17 ms, sys: 4.17 ms, total: 12.3 ms\n",
      "Wall time: 442 ms\n"
     ]
    },
    {
     "data": {
      "text/html": [
       "<div>\n",
       "<style scoped>\n",
       "    .dataframe tbody tr th:only-of-type {\n",
       "        vertical-align: middle;\n",
       "    }\n",
       "\n",
       "    .dataframe tbody tr th {\n",
       "        vertical-align: top;\n",
       "    }\n",
       "\n",
       "    .dataframe thead th {\n",
       "        text-align: right;\n",
       "    }\n",
       "</style>\n",
       "<table border=\"1\" class=\"dataframe\">\n",
       "  <thead>\n",
       "    <tr style=\"text-align: right;\">\n",
       "      <th></th>\n",
       "      <th>name_education_type</th>\n",
       "      <th>proportion</th>\n",
       "    </tr>\n",
       "  </thead>\n",
       "  <tbody>\n",
       "    <tr>\n",
       "      <th>0</th>\n",
       "      <td>Secondary / secondary special</td>\n",
       "      <td>0.708422</td>\n",
       "    </tr>\n",
       "    <tr>\n",
       "      <th>1</th>\n",
       "      <td>Higher education</td>\n",
       "      <td>0.245271</td>\n",
       "    </tr>\n",
       "    <tr>\n",
       "      <th>2</th>\n",
       "      <td>Incomplete higher</td>\n",
       "      <td>0.033687</td>\n",
       "    </tr>\n",
       "    <tr>\n",
       "      <th>3</th>\n",
       "      <td>Lower secondary</td>\n",
       "      <td>0.012045</td>\n",
       "    </tr>\n",
       "    <tr>\n",
       "      <th>4</th>\n",
       "      <td>Academic degree</td>\n",
       "      <td>0.000575</td>\n",
       "    </tr>\n",
       "  </tbody>\n",
       "</table>\n",
       "</div>"
      ],
      "text/plain": [
       "             name_education_type  proportion\n",
       "0  Secondary / secondary special    0.708422\n",
       "1               Higher education    0.245271\n",
       "2              Incomplete higher    0.033687\n",
       "3                Lower secondary    0.012045\n",
       "4                Academic degree    0.000575"
      ]
     },
     "execution_count": 7,
     "metadata": {},
     "output_type": "execute_result"
    }
   ],
   "source": [
    "%%time\n",
    "sql_query = \"\"\"\n",
    "SET search_path TO credit_scoring;\n",
    "SELECT\n",
    "    NAME_EDUCATION_TYPE,\n",
    "    ROUND((COUNT(*)::DECIMAL / SUM(COUNT(*)) OVER ()), 6) AS proportion\n",
    "FROM credit_scoring.application\n",
    "GROUP BY NAME_EDUCATION_TYPE\n",
    "ORDER BY proportion DESC;\n",
    "\"\"\"\n",
    "connector.get_df_from_query(sql_query)"
   ]
  },
  {
   "cell_type": "markdown",
   "id": "ff4984d84a77b758",
   "metadata": {},
   "source": [
    "подсчитать количество полных лет для клиентов, у которых есть во владении автомобиль и недвижимость. вывести топ 10 по возрастанию"
   ]
  },
  {
   "cell_type": "code",
   "execution_count": 8,
   "id": "2c2d0155cafae035",
   "metadata": {
    "ExecuteTime": {
     "end_time": "2024-03-31T13:44:22.756275Z",
     "start_time": "2024-03-31T13:44:22.147922Z"
    }
   },
   "outputs": [
    {
     "name": "stderr",
     "output_type": "stream",
     "text": [
      "/Users/vi/DataspellProjects/shift/src/app/utils/db_connector.py:37: UserWarning: pandas only supports SQLAlchemy connectable (engine/connection) or database string URI or sqlite3 DBAPI2 connection. Other DBAPI2 objects are not tested. Please consider using SQLAlchemy.\n",
      "  df = pd.read_sql(query, conn)\n"
     ]
    },
    {
     "name": "stdout",
     "output_type": "stream",
     "text": [
      "CPU times: user 7.19 ms, sys: 3.64 ms, total: 10.8 ms\n",
      "Wall time: 370 ms\n"
     ]
    },
    {
     "data": {
      "text/html": [
       "<div>\n",
       "<style scoped>\n",
       "    .dataframe tbody tr th:only-of-type {\n",
       "        vertical-align: middle;\n",
       "    }\n",
       "\n",
       "    .dataframe tbody tr th {\n",
       "        vertical-align: top;\n",
       "    }\n",
       "\n",
       "    .dataframe thead th {\n",
       "        text-align: right;\n",
       "    }\n",
       "</style>\n",
       "<table border=\"1\" class=\"dataframe\">\n",
       "  <thead>\n",
       "    <tr style=\"text-align: right;\">\n",
       "      <th></th>\n",
       "      <th>sk_id_curr</th>\n",
       "      <th>age_years</th>\n",
       "    </tr>\n",
       "  </thead>\n",
       "  <tbody>\n",
       "    <tr>\n",
       "      <th>0</th>\n",
       "      <td>283094</td>\n",
       "      <td>20</td>\n",
       "    </tr>\n",
       "    <tr>\n",
       "      <th>1</th>\n",
       "      <td>372716</td>\n",
       "      <td>20</td>\n",
       "    </tr>\n",
       "    <tr>\n",
       "      <th>2</th>\n",
       "      <td>139382</td>\n",
       "      <td>21</td>\n",
       "    </tr>\n",
       "    <tr>\n",
       "      <th>3</th>\n",
       "      <td>320344</td>\n",
       "      <td>21</td>\n",
       "    </tr>\n",
       "    <tr>\n",
       "      <th>4</th>\n",
       "      <td>128649</td>\n",
       "      <td>21</td>\n",
       "    </tr>\n",
       "    <tr>\n",
       "      <th>5</th>\n",
       "      <td>136734</td>\n",
       "      <td>21</td>\n",
       "    </tr>\n",
       "    <tr>\n",
       "      <th>6</th>\n",
       "      <td>165193</td>\n",
       "      <td>21</td>\n",
       "    </tr>\n",
       "    <tr>\n",
       "      <th>7</th>\n",
       "      <td>123826</td>\n",
       "      <td>21</td>\n",
       "    </tr>\n",
       "    <tr>\n",
       "      <th>8</th>\n",
       "      <td>107794</td>\n",
       "      <td>21</td>\n",
       "    </tr>\n",
       "    <tr>\n",
       "      <th>9</th>\n",
       "      <td>125940</td>\n",
       "      <td>21</td>\n",
       "    </tr>\n",
       "  </tbody>\n",
       "</table>\n",
       "</div>"
      ],
      "text/plain": [
       "   sk_id_curr  age_years\n",
       "0      283094         20\n",
       "1      372716         20\n",
       "2      139382         21\n",
       "3      320344         21\n",
       "4      128649         21\n",
       "5      136734         21\n",
       "6      165193         21\n",
       "7      123826         21\n",
       "8      107794         21\n",
       "9      125940         21"
      ]
     },
     "execution_count": 8,
     "metadata": {},
     "output_type": "execute_result"
    }
   ],
   "source": [
    "%%time\n",
    "sql_query = \"\"\"\n",
    "SET search_path TO credit_scoring;\n",
    "SELECT\n",
    "    SK_ID_CURR,\n",
    "    ABS(DAYS_BIRTH) / 365 AS age_years\n",
    "FROM credit_scoring.application\n",
    "WHERE FLAG_OWN_CAR = 'Y' AND FLAG_OWN_REALTY = 'Y'\n",
    "ORDER BY age_years ASC\n",
    "LIMIT 10;\n",
    "\"\"\"\n",
    "connector.get_df_from_query(sql_query)"
   ]
  },
  {
   "cell_type": "markdown",
   "id": "93ebc5476d47f8ba",
   "metadata": {},
   "source": [
    "Вывести тех клиентов, у кого доход на одного члена семьи в два раза больше, чем в среднем на одного члена семьи по выборке"
   ]
  },
  {
   "cell_type": "code",
   "execution_count": 9,
   "id": "8837ff2b88c2a910",
   "metadata": {
    "ExecuteTime": {
     "end_time": "2024-03-31T13:44:24.429128Z",
     "start_time": "2024-03-31T13:44:22.692615Z"
    }
   },
   "outputs": [
    {
     "name": "stderr",
     "output_type": "stream",
     "text": [
      "/Users/vi/DataspellProjects/shift/src/app/utils/db_connector.py:37: UserWarning: pandas only supports SQLAlchemy connectable (engine/connection) or database string URI or sqlite3 DBAPI2 connection. Other DBAPI2 objects are not tested. Please consider using SQLAlchemy.\n",
      "  df = pd.read_sql(query, conn)\n"
     ]
    },
    {
     "name": "stdout",
     "output_type": "stream",
     "text": [
      "CPU times: user 56.1 ms, sys: 12.7 ms, total: 68.8 ms\n",
      "Wall time: 1.2 s\n"
     ]
    },
    {
     "data": {
      "text/html": [
       "<div>\n",
       "<style scoped>\n",
       "    .dataframe tbody tr th:only-of-type {\n",
       "        vertical-align: middle;\n",
       "    }\n",
       "\n",
       "    .dataframe tbody tr th {\n",
       "        vertical-align: top;\n",
       "    }\n",
       "\n",
       "    .dataframe thead th {\n",
       "        text-align: right;\n",
       "    }\n",
       "</style>\n",
       "<table border=\"1\" class=\"dataframe\">\n",
       "  <thead>\n",
       "    <tr style=\"text-align: right;\">\n",
       "      <th></th>\n",
       "      <th>sk_id_curr</th>\n",
       "      <th>amt_income_total</th>\n",
       "      <th>cnt_fam_members</th>\n",
       "      <th>income_per_family_member</th>\n",
       "    </tr>\n",
       "  </thead>\n",
       "  <tbody>\n",
       "    <tr>\n",
       "      <th>0</th>\n",
       "      <td>100002</td>\n",
       "      <td>202500.0</td>\n",
       "      <td>1.0</td>\n",
       "      <td>202500.0</td>\n",
       "    </tr>\n",
       "    <tr>\n",
       "      <th>1</th>\n",
       "      <td>100033</td>\n",
       "      <td>270000.0</td>\n",
       "      <td>1.0</td>\n",
       "      <td>270000.0</td>\n",
       "    </tr>\n",
       "    <tr>\n",
       "      <th>2</th>\n",
       "      <td>100053</td>\n",
       "      <td>202500.0</td>\n",
       "      <td>1.0</td>\n",
       "      <td>202500.0</td>\n",
       "    </tr>\n",
       "    <tr>\n",
       "      <th>3</th>\n",
       "      <td>100070</td>\n",
       "      <td>540000.0</td>\n",
       "      <td>1.0</td>\n",
       "      <td>540000.0</td>\n",
       "    </tr>\n",
       "    <tr>\n",
       "      <th>4</th>\n",
       "      <td>100079</td>\n",
       "      <td>225000.0</td>\n",
       "      <td>1.0</td>\n",
       "      <td>225000.0</td>\n",
       "    </tr>\n",
       "    <tr>\n",
       "      <th>...</th>\n",
       "      <td>...</td>\n",
       "      <td>...</td>\n",
       "      <td>...</td>\n",
       "      <td>...</td>\n",
       "    </tr>\n",
       "    <tr>\n",
       "      <th>27728</th>\n",
       "      <td>456184</td>\n",
       "      <td>270000.0</td>\n",
       "      <td>1.0</td>\n",
       "      <td>270000.0</td>\n",
       "    </tr>\n",
       "    <tr>\n",
       "      <th>27729</th>\n",
       "      <td>456189</td>\n",
       "      <td>270000.0</td>\n",
       "      <td>1.0</td>\n",
       "      <td>270000.0</td>\n",
       "    </tr>\n",
       "    <tr>\n",
       "      <th>27730</th>\n",
       "      <td>456209</td>\n",
       "      <td>202500.0</td>\n",
       "      <td>1.0</td>\n",
       "      <td>202500.0</td>\n",
       "    </tr>\n",
       "    <tr>\n",
       "      <th>27731</th>\n",
       "      <td>456228</td>\n",
       "      <td>540000.0</td>\n",
       "      <td>2.0</td>\n",
       "      <td>270000.0</td>\n",
       "    </tr>\n",
       "    <tr>\n",
       "      <th>27732</th>\n",
       "      <td>456236</td>\n",
       "      <td>585000.0</td>\n",
       "      <td>2.0</td>\n",
       "      <td>292500.0</td>\n",
       "    </tr>\n",
       "  </tbody>\n",
       "</table>\n",
       "<p>27733 rows × 4 columns</p>\n",
       "</div>"
      ],
      "text/plain": [
       "       sk_id_curr  amt_income_total  cnt_fam_members  income_per_family_member\n",
       "0          100002          202500.0              1.0                  202500.0\n",
       "1          100033          270000.0              1.0                  270000.0\n",
       "2          100053          202500.0              1.0                  202500.0\n",
       "3          100070          540000.0              1.0                  540000.0\n",
       "4          100079          225000.0              1.0                  225000.0\n",
       "...           ...               ...              ...                       ...\n",
       "27728      456184          270000.0              1.0                  270000.0\n",
       "27729      456189          270000.0              1.0                  270000.0\n",
       "27730      456209          202500.0              1.0                  202500.0\n",
       "27731      456228          540000.0              2.0                  270000.0\n",
       "27732      456236          585000.0              2.0                  292500.0\n",
       "\n",
       "[27733 rows x 4 columns]"
      ]
     },
     "execution_count": 9,
     "metadata": {},
     "output_type": "execute_result"
    }
   ],
   "source": [
    "%%time\n",
    "sql_query = \"\"\"\n",
    "SET search_path TO credit_scoring;\n",
    "\n",
    "SELECT\n",
    "    SK_ID_CURR,\n",
    "    AMT_INCOME_TOTAL,\n",
    "    CNT_FAM_MEMBERS,\n",
    "    (AMT_INCOME_TOTAL / CNT_FAM_MEMBERS) AS income_per_family_member\n",
    "FROM credit_scoring.application\n",
    "WHERE (AMT_INCOME_TOTAL / CNT_FAM_MEMBERS) > 2 * (\n",
    "    SELECT AVG(AMT_INCOME_TOTAL / CNT_FAM_MEMBERS) FROM credit_scoring.application\n",
    ")\n",
    "ORDER BY SK_ID_CURR;\n",
    "\n",
    "\"\"\"\n",
    "connector.get_df_from_query(sql_query)"
   ]
  },
  {
   "cell_type": "markdown",
   "id": "b827edad04820643",
   "metadata": {},
   "source": [
    "вывести клиентов старше 60 лет по которым нет данных в bureau"
   ]
  },
  {
   "cell_type": "code",
   "execution_count": 10,
   "id": "178638214144a5fe",
   "metadata": {
    "ExecuteTime": {
     "end_time": "2024-03-31T13:44:28.836931Z",
     "start_time": "2024-03-31T13:44:24.430904Z"
    }
   },
   "outputs": [
    {
     "name": "stderr",
     "output_type": "stream",
     "text": [
      "/Users/vi/DataspellProjects/shift/src/app/utils/db_connector.py:37: UserWarning: pandas only supports SQLAlchemy connectable (engine/connection) or database string URI or sqlite3 DBAPI2 connection. Other DBAPI2 objects are not tested. Please consider using SQLAlchemy.\n",
      "  df = pd.read_sql(query, conn)\n"
     ]
    },
    {
     "name": "stdout",
     "output_type": "stream",
     "text": [
      "CPU times: user 11.7 ms, sys: 4.06 ms, total: 15.7 ms\n",
      "Wall time: 4.72 s\n"
     ]
    },
    {
     "data": {
      "text/html": [
       "<div>\n",
       "<style scoped>\n",
       "    .dataframe tbody tr th:only-of-type {\n",
       "        vertical-align: middle;\n",
       "    }\n",
       "\n",
       "    .dataframe tbody tr th {\n",
       "        vertical-align: top;\n",
       "    }\n",
       "\n",
       "    .dataframe thead th {\n",
       "        text-align: right;\n",
       "    }\n",
       "</style>\n",
       "<table border=\"1\" class=\"dataframe\">\n",
       "  <thead>\n",
       "    <tr style=\"text-align: right;\">\n",
       "      <th></th>\n",
       "      <th>sk_id_curr</th>\n",
       "      <th>age_years</th>\n",
       "    </tr>\n",
       "  </thead>\n",
       "  <tbody>\n",
       "    <tr>\n",
       "      <th>0</th>\n",
       "      <td>249376</td>\n",
       "      <td>61.0</td>\n",
       "    </tr>\n",
       "    <tr>\n",
       "      <th>1</th>\n",
       "      <td>113210</td>\n",
       "      <td>64.0</td>\n",
       "    </tr>\n",
       "    <tr>\n",
       "      <th>2</th>\n",
       "      <td>234614</td>\n",
       "      <td>61.0</td>\n",
       "    </tr>\n",
       "    <tr>\n",
       "      <th>3</th>\n",
       "      <td>106076</td>\n",
       "      <td>64.0</td>\n",
       "    </tr>\n",
       "    <tr>\n",
       "      <th>4</th>\n",
       "      <td>124764</td>\n",
       "      <td>62.0</td>\n",
       "    </tr>\n",
       "    <tr>\n",
       "      <th>...</th>\n",
       "      <td>...</td>\n",
       "      <td>...</td>\n",
       "    </tr>\n",
       "    <tr>\n",
       "      <th>5051</th>\n",
       "      <td>369504</td>\n",
       "      <td>62.0</td>\n",
       "    </tr>\n",
       "    <tr>\n",
       "      <th>5052</th>\n",
       "      <td>352484</td>\n",
       "      <td>66.0</td>\n",
       "    </tr>\n",
       "    <tr>\n",
       "      <th>5053</th>\n",
       "      <td>144610</td>\n",
       "      <td>67.0</td>\n",
       "    </tr>\n",
       "    <tr>\n",
       "      <th>5054</th>\n",
       "      <td>432774</td>\n",
       "      <td>64.0</td>\n",
       "    </tr>\n",
       "    <tr>\n",
       "      <th>5055</th>\n",
       "      <td>351285</td>\n",
       "      <td>63.0</td>\n",
       "    </tr>\n",
       "  </tbody>\n",
       "</table>\n",
       "<p>5056 rows × 2 columns</p>\n",
       "</div>"
      ],
      "text/plain": [
       "      sk_id_curr  age_years\n",
       "0         249376       61.0\n",
       "1         113210       64.0\n",
       "2         234614       61.0\n",
       "3         106076       64.0\n",
       "4         124764       62.0\n",
       "...          ...        ...\n",
       "5051      369504       62.0\n",
       "5052      352484       66.0\n",
       "5053      144610       67.0\n",
       "5054      432774       64.0\n",
       "5055      351285       63.0\n",
       "\n",
       "[5056 rows x 2 columns]"
      ]
     },
     "execution_count": 10,
     "metadata": {},
     "output_type": "execute_result"
    }
   ],
   "source": [
    "%%time\n",
    "sql_query = \"\"\"\n",
    "SET search_path TO credit_scoring;\n",
    "SELECT a.SK_ID_CURR, floor(ABS(a.DAYS_BIRTH) / 365) AS age_years\n",
    "FROM credit_scoring.application AS a\n",
    "LEFT JOIN credit_scoring.bureau AS b ON a.SK_ID_CURR = b.SK_ID_CURR\n",
    "WHERE b.SK_ID_CURR IS NULL\n",
    "AND floor(ABS(a.DAYS_BIRTH) / 365) > 60;\n",
    "\"\"\"\n",
    "connector.get_df_from_query(sql_query)"
   ]
  },
  {
   "cell_type": "markdown",
   "id": "9a4375223c044e02",
   "metadata": {},
   "source": [
    "Вывести женщин, у которых в истории bureau было больше двух кредитов, просроченных на 61 день и более. отсортировать в порядке убывания по кол-ву таких кредитов"
   ]
  },
  {
   "cell_type": "code",
   "execution_count": 11,
   "id": "bb35ec1efd4d1b8",
   "metadata": {
    "ExecuteTime": {
     "end_time": "2024-03-31T13:45:05.743942Z",
     "start_time": "2024-03-31T13:44:28.814396Z"
    }
   },
   "outputs": [
    {
     "name": "stderr",
     "output_type": "stream",
     "text": [
      "/Users/vi/DataspellProjects/shift/src/app/utils/db_connector.py:37: UserWarning: pandas only supports SQLAlchemy connectable (engine/connection) or database string URI or sqlite3 DBAPI2 connection. Other DBAPI2 objects are not tested. Please consider using SQLAlchemy.\n",
      "  df = pd.read_sql(query, conn)\n"
     ]
    },
    {
     "name": "stdout",
     "output_type": "stream",
     "text": [
      "CPU times: user 9.94 ms, sys: 5.37 ms, total: 15.3 ms\n",
      "Wall time: 39 s\n"
     ]
    },
    {
     "data": {
      "text/html": [
       "<div>\n",
       "<style scoped>\n",
       "    .dataframe tbody tr th:only-of-type {\n",
       "        vertical-align: middle;\n",
       "    }\n",
       "\n",
       "    .dataframe tbody tr th {\n",
       "        vertical-align: top;\n",
       "    }\n",
       "\n",
       "    .dataframe thead th {\n",
       "        text-align: right;\n",
       "    }\n",
       "</style>\n",
       "<table border=\"1\" class=\"dataframe\">\n",
       "  <thead>\n",
       "    <tr style=\"text-align: right;\">\n",
       "      <th></th>\n",
       "      <th>sk_id_curr</th>\n",
       "      <th>cnt_credit</th>\n",
       "    </tr>\n",
       "  </thead>\n",
       "  <tbody>\n",
       "    <tr>\n",
       "      <th>0</th>\n",
       "      <td>279826</td>\n",
       "      <td>14</td>\n",
       "    </tr>\n",
       "    <tr>\n",
       "      <th>1</th>\n",
       "      <td>246788</td>\n",
       "      <td>13</td>\n",
       "    </tr>\n",
       "    <tr>\n",
       "      <th>2</th>\n",
       "      <td>441227</td>\n",
       "      <td>13</td>\n",
       "    </tr>\n",
       "    <tr>\n",
       "      <th>3</th>\n",
       "      <td>129529</td>\n",
       "      <td>10</td>\n",
       "    </tr>\n",
       "    <tr>\n",
       "      <th>4</th>\n",
       "      <td>164862</td>\n",
       "      <td>10</td>\n",
       "    </tr>\n",
       "    <tr>\n",
       "      <th>...</th>\n",
       "      <td>...</td>\n",
       "      <td>...</td>\n",
       "    </tr>\n",
       "    <tr>\n",
       "      <th>335</th>\n",
       "      <td>109847</td>\n",
       "      <td>3</td>\n",
       "    </tr>\n",
       "    <tr>\n",
       "      <th>336</th>\n",
       "      <td>389699</td>\n",
       "      <td>3</td>\n",
       "    </tr>\n",
       "    <tr>\n",
       "      <th>337</th>\n",
       "      <td>391359</td>\n",
       "      <td>3</td>\n",
       "    </tr>\n",
       "    <tr>\n",
       "      <th>338</th>\n",
       "      <td>171589</td>\n",
       "      <td>3</td>\n",
       "    </tr>\n",
       "    <tr>\n",
       "      <th>339</th>\n",
       "      <td>171225</td>\n",
       "      <td>3</td>\n",
       "    </tr>\n",
       "  </tbody>\n",
       "</table>\n",
       "<p>340 rows × 2 columns</p>\n",
       "</div>"
      ],
      "text/plain": [
       "     sk_id_curr  cnt_credit\n",
       "0        279826          14\n",
       "1        246788          13\n",
       "2        441227          13\n",
       "3        129529          10\n",
       "4        164862          10\n",
       "..          ...         ...\n",
       "335      109847           3\n",
       "336      389699           3\n",
       "337      391359           3\n",
       "338      171589           3\n",
       "339      171225           3\n",
       "\n",
       "[340 rows x 2 columns]"
      ]
     },
     "execution_count": 11,
     "metadata": {},
     "output_type": "execute_result"
    }
   ],
   "source": [
    "%%time\n",
    "sql_query = \"\"\"\n",
    "SET search_path TO credit_scoring;\n",
    "WITH CTE AS\n",
    "  (SELECT sk_id_curr, SUM(status) AS cnt_credit\n",
    "   FROM bureau\n",
    "   JOIN\n",
    "     (SELECT sk_id_bureau, 1 AS status\n",
    "      FROM bureau_balance\n",
    "      WHERE status in ('3','4','5')\n",
    "      GROUP BY sk_id_bureau) AS bb ON bureau.sk_id_bureau = bb.sk_id_bureau\n",
    "   GROUP BY sk_id_curr)\n",
    "\n",
    "SELECT a.sk_id_curr,\n",
    "       cnt_credit\n",
    "FROM application AS a\n",
    "JOIN CTE ON a.sk_id_curr = CTE.sk_id_curr\n",
    "WHERE code_gender = 'F' AND cnt_credit > 2\n",
    "ORDER BY cnt_credit DESC\n",
    "\"\"\"\n",
    "connector.get_df_from_query(sql_query)"
   ]
  },
  {
   "cell_type": "markdown",
   "id": "2f02a1f510a7a05d",
   "metadata": {},
   "source": [
    "По данным из bureau (БКИ) расчитать долю просрочки в активных займах для каждого клиента. вывести топ 7 мужчин с наибольшей суммой просрочки, указав для них, помимо прочего, сумму активных кредитов и суммы всех кредитов (активных и закрытых)."
   ]
  },
  {
   "cell_type": "code",
   "execution_count": 12,
   "id": "fcf22311c31cfd96",
   "metadata": {
    "ExecuteTime": {
     "end_time": "2024-03-31T13:45:17.465077Z",
     "start_time": "2024-03-31T13:45:05.751291Z"
    }
   },
   "outputs": [
    {
     "name": "stderr",
     "output_type": "stream",
     "text": [
      "/Users/vi/DataspellProjects/shift/src/app/utils/db_connector.py:37: UserWarning: pandas only supports SQLAlchemy connectable (engine/connection) or database string URI or sqlite3 DBAPI2 connection. Other DBAPI2 objects are not tested. Please consider using SQLAlchemy.\n",
      "  df = pd.read_sql(query, conn)\n"
     ]
    },
    {
     "name": "stdout",
     "output_type": "stream",
     "text": [
      "CPU times: user 6.8 ms, sys: 2.88 ms, total: 9.68 ms\n",
      "Wall time: 6.42 s\n"
     ]
    },
    {
     "data": {
      "text/html": [
       "<div>\n",
       "<style scoped>\n",
       "    .dataframe tbody tr th:only-of-type {\n",
       "        vertical-align: middle;\n",
       "    }\n",
       "\n",
       "    .dataframe tbody tr th {\n",
       "        vertical-align: top;\n",
       "    }\n",
       "\n",
       "    .dataframe thead th {\n",
       "        text-align: right;\n",
       "    }\n",
       "</style>\n",
       "<table border=\"1\" class=\"dataframe\">\n",
       "  <thead>\n",
       "    <tr style=\"text-align: right;\">\n",
       "      <th></th>\n",
       "      <th>sk_id_curr</th>\n",
       "      <th>overdueshare</th>\n",
       "      <th>totaloverdue</th>\n",
       "      <th>activecreditssum</th>\n",
       "      <th>totalcreditssum</th>\n",
       "    </tr>\n",
       "  </thead>\n",
       "  <tbody>\n",
       "    <tr>\n",
       "      <th>0</th>\n",
       "      <td>435405</td>\n",
       "      <td>0.997578</td>\n",
       "      <td>3681063.00</td>\n",
       "      <td>3690000.0</td>\n",
       "      <td>4054000.5</td>\n",
       "    </tr>\n",
       "    <tr>\n",
       "      <th>1</th>\n",
       "      <td>427996</td>\n",
       "      <td>0.371418</td>\n",
       "      <td>1571697.00</td>\n",
       "      <td>4231615.5</td>\n",
       "      <td>7431583.5</td>\n",
       "    </tr>\n",
       "    <tr>\n",
       "      <th>2</th>\n",
       "      <td>394113</td>\n",
       "      <td>0.870897</td>\n",
       "      <td>1332472.50</td>\n",
       "      <td>1530000.0</td>\n",
       "      <td>1825801.0</td>\n",
       "    </tr>\n",
       "    <tr>\n",
       "      <th>3</th>\n",
       "      <td>266765</td>\n",
       "      <td>0.907018</td>\n",
       "      <td>1224474.90</td>\n",
       "      <td>1350000.0</td>\n",
       "      <td>1421955.0</td>\n",
       "    </tr>\n",
       "    <tr>\n",
       "      <th>4</th>\n",
       "      <td>167085</td>\n",
       "      <td>4.925314</td>\n",
       "      <td>780192.00</td>\n",
       "      <td>158404.5</td>\n",
       "      <td>176404.5</td>\n",
       "    </tr>\n",
       "    <tr>\n",
       "      <th>5</th>\n",
       "      <td>154595</td>\n",
       "      <td>0.749991</td>\n",
       "      <td>742491.00</td>\n",
       "      <td>990000.0</td>\n",
       "      <td>4245754.5</td>\n",
       "    </tr>\n",
       "    <tr>\n",
       "      <th>6</th>\n",
       "      <td>262411</td>\n",
       "      <td>0.538240</td>\n",
       "      <td>709669.25</td>\n",
       "      <td>1318500.0</td>\n",
       "      <td>1773000.0</td>\n",
       "    </tr>\n",
       "  </tbody>\n",
       "</table>\n",
       "</div>"
      ],
      "text/plain": [
       "   sk_id_curr  overdueshare  totaloverdue  activecreditssum  totalcreditssum\n",
       "0      435405      0.997578    3681063.00         3690000.0        4054000.5\n",
       "1      427996      0.371418    1571697.00         4231615.5        7431583.5\n",
       "2      394113      0.870897    1332472.50         1530000.0        1825801.0\n",
       "3      266765      0.907018    1224474.90         1350000.0        1421955.0\n",
       "4      167085      4.925314     780192.00          158404.5         176404.5\n",
       "5      154595      0.749991     742491.00          990000.0        4245754.5\n",
       "6      262411      0.538240     709669.25         1318500.0        1773000.0"
      ]
     },
     "execution_count": 12,
     "metadata": {},
     "output_type": "execute_result"
    }
   ],
   "source": [
    "%%time\n",
    "sql_query = \"\"\"\n",
    "SET search_path TO credit_scoring;\n",
    "WITH CreditInfo AS (\n",
    "    SELECT\n",
    "        bureau.SK_ID_CURR,\n",
    "        SUM(CASE WHEN CREDIT_ACTIVE = 'Active' THEN AMT_CREDIT_SUM_OVERDUE ELSE 0 END) AS TotalOverdue,\n",
    "        SUM(CASE WHEN CREDIT_ACTIVE = 'Active' THEN AMT_CREDIT_SUM ELSE 0 END) AS ActiveCreditsSum,\n",
    "        SUM(AMT_CREDIT_SUM) AS TotalCreditsSum,\n",
    "        CASE \n",
    "            WHEN SUM(CASE WHEN CREDIT_ACTIVE = 'Active' THEN AMT_CREDIT_SUM ELSE 0 END) > 0 THEN \n",
    "                SUM(CASE WHEN CREDIT_ACTIVE = 'Active' THEN AMT_CREDIT_SUM_OVERDUE ELSE 0 END) / \n",
    "                SUM(CASE WHEN CREDIT_ACTIVE = 'Active' THEN AMT_CREDIT_SUM ELSE 0 END) \n",
    "            ELSE 0 \n",
    "        END AS OverdueShare\n",
    "    FROM bureau\n",
    "    GROUP BY bureau.SK_ID_CURR\n",
    "),\n",
    "RankedMen AS (\n",
    "    SELECT\n",
    "        app.SK_ID_CURR,\n",
    "        ci.TotalOverdue,\n",
    "        ci.ActiveCreditsSum,\n",
    "        ci.TotalCreditsSum,\n",
    "        ci.OverdueShare,\n",
    "        RANK() OVER (ORDER BY ci.TotalOverdue DESC) AS Rank\n",
    "    FROM application AS app\n",
    "    JOIN CreditInfo AS ci ON app.SK_ID_CURR = ci.SK_ID_CURR\n",
    "    WHERE app.CODE_GENDER = 'M' AND ci.TotalOverdue > 0\n",
    ")\n",
    "SELECT SK_ID_CURR, OverdueShare, TotalOverdue, ActiveCreditsSum, TotalCreditsSum\n",
    "FROM RankedMen\n",
    "WHERE Rank <= 7;\n",
    "\"\"\"\n",
    "connector.get_df_from_query(sql_query)"
   ]
  },
  {
   "cell_type": "markdown",
   "id": "8fdd105bef46f49a",
   "metadata": {},
   "source": [
    "## Генерация своих признаков"
   ]
  },
  {
   "cell_type": "markdown",
   "id": "eb08e0d50a89bb29",
   "metadata": {},
   "source": [
    "Молодые семьи с 2мя и больше детьми"
   ]
  },
  {
   "cell_type": "code",
   "execution_count": 13,
   "id": "8717cd268104269e",
   "metadata": {
    "ExecuteTime": {
     "end_time": "2024-03-31T13:45:18.369202Z",
     "start_time": "2024-03-31T13:45:17.449975Z"
    }
   },
   "outputs": [
    {
     "name": "stderr",
     "output_type": "stream",
     "text": [
      "/Users/vi/DataspellProjects/shift/src/app/utils/db_connector.py:37: UserWarning: pandas only supports SQLAlchemy connectable (engine/connection) or database string URI or sqlite3 DBAPI2 connection. Other DBAPI2 objects are not tested. Please consider using SQLAlchemy.\n",
      "  df = pd.read_sql(query, conn)\n"
     ]
    },
    {
     "name": "stdout",
     "output_type": "stream",
     "text": [
      "CPU times: user 13.7 ms, sys: 4.34 ms, total: 18.1 ms\n",
      "Wall time: 382 ms\n"
     ]
    },
    {
     "data": {
      "text/html": [
       "<div>\n",
       "<style scoped>\n",
       "    .dataframe tbody tr th:only-of-type {\n",
       "        vertical-align: middle;\n",
       "    }\n",
       "\n",
       "    .dataframe tbody tr th {\n",
       "        vertical-align: top;\n",
       "    }\n",
       "\n",
       "    .dataframe thead th {\n",
       "        text-align: right;\n",
       "    }\n",
       "</style>\n",
       "<table border=\"1\" class=\"dataframe\">\n",
       "  <thead>\n",
       "    <tr style=\"text-align: right;\">\n",
       "      <th></th>\n",
       "      <th>sk_id_curr</th>\n",
       "      <th>age</th>\n",
       "      <th>cnt_children</th>\n",
       "    </tr>\n",
       "  </thead>\n",
       "  <tbody>\n",
       "    <tr>\n",
       "      <th>0</th>\n",
       "      <td>263170</td>\n",
       "      <td>21</td>\n",
       "      <td>2</td>\n",
       "    </tr>\n",
       "    <tr>\n",
       "      <th>1</th>\n",
       "      <td>100665</td>\n",
       "      <td>21</td>\n",
       "      <td>2</td>\n",
       "    </tr>\n",
       "    <tr>\n",
       "      <th>2</th>\n",
       "      <td>146991</td>\n",
       "      <td>21</td>\n",
       "      <td>2</td>\n",
       "    </tr>\n",
       "    <tr>\n",
       "      <th>3</th>\n",
       "      <td>346121</td>\n",
       "      <td>21</td>\n",
       "      <td>2</td>\n",
       "    </tr>\n",
       "    <tr>\n",
       "      <th>4</th>\n",
       "      <td>226721</td>\n",
       "      <td>21</td>\n",
       "      <td>2</td>\n",
       "    </tr>\n",
       "    <tr>\n",
       "      <th>...</th>\n",
       "      <td>...</td>\n",
       "      <td>...</td>\n",
       "      <td>...</td>\n",
       "    </tr>\n",
       "    <tr>\n",
       "      <th>1884</th>\n",
       "      <td>410367</td>\n",
       "      <td>27</td>\n",
       "      <td>2</td>\n",
       "    </tr>\n",
       "    <tr>\n",
       "      <th>1885</th>\n",
       "      <td>411992</td>\n",
       "      <td>27</td>\n",
       "      <td>2</td>\n",
       "    </tr>\n",
       "    <tr>\n",
       "      <th>1886</th>\n",
       "      <td>412105</td>\n",
       "      <td>27</td>\n",
       "      <td>2</td>\n",
       "    </tr>\n",
       "    <tr>\n",
       "      <th>1887</th>\n",
       "      <td>413306</td>\n",
       "      <td>27</td>\n",
       "      <td>2</td>\n",
       "    </tr>\n",
       "    <tr>\n",
       "      <th>1888</th>\n",
       "      <td>415316</td>\n",
       "      <td>27</td>\n",
       "      <td>2</td>\n",
       "    </tr>\n",
       "  </tbody>\n",
       "</table>\n",
       "<p>1889 rows × 3 columns</p>\n",
       "</div>"
      ],
      "text/plain": [
       "      sk_id_curr  age  cnt_children\n",
       "0         263170   21             2\n",
       "1         100665   21             2\n",
       "2         146991   21             2\n",
       "3         346121   21             2\n",
       "4         226721   21             2\n",
       "...          ...  ...           ...\n",
       "1884      410367   27             2\n",
       "1885      411992   27             2\n",
       "1886      412105   27             2\n",
       "1887      413306   27             2\n",
       "1888      415316   27             2\n",
       "\n",
       "[1889 rows x 3 columns]"
      ]
     },
     "execution_count": 13,
     "metadata": {},
     "output_type": "execute_result"
    }
   ],
   "source": [
    "%%time\n",
    "sql_query = \"\"\"\n",
    "SET search_path TO credit_scoring;\n",
    "SELECT\n",
    "    SK_ID_CURR,\n",
    "    ABS(DAYS_BIRTH) / 365 AS Age,\n",
    "    CNT_CHILDREN\n",
    "FROM application\n",
    "WHERE\n",
    "    ABS(DAYS_BIRTH) / 365 <= 27\n",
    "    AND CNT_CHILDREN >= 2\n",
    "ORDER BY Age ASC;\n",
    "\"\"\"\n",
    "connector.get_df_from_query(sql_query)"
   ]
  },
  {
   "cell_type": "markdown",
   "id": "d328390bad5ead67",
   "metadata": {},
   "source": [
    "Отношение кредита к сумме платежа по кредиту"
   ]
  },
  {
   "cell_type": "code",
   "execution_count": 14,
   "id": "6bf84608b0e41680",
   "metadata": {
    "ExecuteTime": {
     "end_time": "2024-03-31T13:45:20.799769Z",
     "start_time": "2024-03-31T13:45:18.774290Z"
    }
   },
   "outputs": [
    {
     "name": "stderr",
     "output_type": "stream",
     "text": [
      "/Users/vi/DataspellProjects/shift/src/app/utils/db_connector.py:37: UserWarning: pandas only supports SQLAlchemy connectable (engine/connection) or database string URI or sqlite3 DBAPI2 connection. Other DBAPI2 objects are not tested. Please consider using SQLAlchemy.\n",
      "  df = pd.read_sql(query, conn)\n"
     ]
    },
    {
     "name": "stdout",
     "output_type": "stream",
     "text": [
      "CPU times: user 292 ms, sys: 101 ms, total: 392 ms\n",
      "Wall time: 1.32 s\n"
     ]
    },
    {
     "data": {
      "text/html": [
       "<div>\n",
       "<style scoped>\n",
       "    .dataframe tbody tr th:only-of-type {\n",
       "        vertical-align: middle;\n",
       "    }\n",
       "\n",
       "    .dataframe tbody tr th {\n",
       "        vertical-align: top;\n",
       "    }\n",
       "\n",
       "    .dataframe thead th {\n",
       "        text-align: right;\n",
       "    }\n",
       "</style>\n",
       "<table border=\"1\" class=\"dataframe\">\n",
       "  <thead>\n",
       "    <tr style=\"text-align: right;\">\n",
       "      <th></th>\n",
       "      <th>sk_id_curr</th>\n",
       "      <th>annuity_credit_ratio</th>\n",
       "    </tr>\n",
       "  </thead>\n",
       "  <tbody>\n",
       "    <tr>\n",
       "      <th>0</th>\n",
       "      <td>100001</td>\n",
       "      <td>27.664698</td>\n",
       "    </tr>\n",
       "    <tr>\n",
       "      <th>1</th>\n",
       "      <td>100005</td>\n",
       "      <td>12.824870</td>\n",
       "    </tr>\n",
       "    <tr>\n",
       "      <th>2</th>\n",
       "      <td>100013</td>\n",
       "      <td>9.505482</td>\n",
       "    </tr>\n",
       "    <tr>\n",
       "      <th>3</th>\n",
       "      <td>100028</td>\n",
       "      <td>32.130726</td>\n",
       "    </tr>\n",
       "    <tr>\n",
       "      <th>4</th>\n",
       "      <td>100038</td>\n",
       "      <td>19.506035</td>\n",
       "    </tr>\n",
       "    <tr>\n",
       "      <th>...</th>\n",
       "      <td>...</td>\n",
       "      <td>...</td>\n",
       "    </tr>\n",
       "    <tr>\n",
       "      <th>356250</th>\n",
       "      <td>456251</td>\n",
       "      <td>9.242325</td>\n",
       "    </tr>\n",
       "    <tr>\n",
       "      <th>356251</th>\n",
       "      <td>456252</td>\n",
       "      <td>22.459692</td>\n",
       "    </tr>\n",
       "    <tr>\n",
       "      <th>356252</th>\n",
       "      <td>456253</td>\n",
       "      <td>22.604624</td>\n",
       "    </tr>\n",
       "    <tr>\n",
       "      <th>356253</th>\n",
       "      <td>456254</td>\n",
       "      <td>18.317595</td>\n",
       "    </tr>\n",
       "    <tr>\n",
       "      <th>356254</th>\n",
       "      <td>456255</td>\n",
       "      <td>13.742557</td>\n",
       "    </tr>\n",
       "  </tbody>\n",
       "</table>\n",
       "<p>356255 rows × 2 columns</p>\n",
       "</div>"
      ],
      "text/plain": [
       "        sk_id_curr  annuity_credit_ratio\n",
       "0           100001             27.664698\n",
       "1           100005             12.824870\n",
       "2           100013              9.505482\n",
       "3           100028             32.130726\n",
       "4           100038             19.506035\n",
       "...            ...                   ...\n",
       "356250      456251              9.242325\n",
       "356251      456252             22.459692\n",
       "356252      456253             22.604624\n",
       "356253      456254             18.317595\n",
       "356254      456255             13.742557\n",
       "\n",
       "[356255 rows x 2 columns]"
      ]
     },
     "execution_count": 14,
     "metadata": {},
     "output_type": "execute_result"
    }
   ],
   "source": [
    "%%time\n",
    "sql_query = \"\"\"\n",
    "SET search_path TO credit_scoring;\n",
    "SELECT sk_id_curr, (amt_credit / amt_annuity) AS annuity_credit_ratio\n",
    "FROM application\n",
    "\"\"\"\n",
    "connector.get_df_from_query(sql_query)"
   ]
  },
  {
   "cell_type": "markdown",
   "id": "b058a07a34ac64ff",
   "metadata": {},
   "source": [
    "Средний лимит по карте по клиентам"
   ]
  },
  {
   "cell_type": "code",
   "execution_count": 15,
   "id": "7aa1725438918dae",
   "metadata": {
    "ExecuteTime": {
     "end_time": "2024-03-31T13:45:39.089094Z",
     "start_time": "2024-03-31T13:45:20.743451Z"
    }
   },
   "outputs": [
    {
     "name": "stderr",
     "output_type": "stream",
     "text": [
      "/Users/vi/DataspellProjects/shift/src/app/utils/db_connector.py:37: UserWarning: pandas only supports SQLAlchemy connectable (engine/connection) or database string URI or sqlite3 DBAPI2 connection. Other DBAPI2 objects are not tested. Please consider using SQLAlchemy.\n",
      "  df = pd.read_sql(query, conn)\n"
     ]
    },
    {
     "name": "stdout",
     "output_type": "stream",
     "text": [
      "CPU times: user 257 ms, sys: 27.2 ms, total: 284 ms\n",
      "Wall time: 19.1 s\n"
     ]
    },
    {
     "data": {
      "text/html": [
       "<div>\n",
       "<style scoped>\n",
       "    .dataframe tbody tr th:only-of-type {\n",
       "        vertical-align: middle;\n",
       "    }\n",
       "\n",
       "    .dataframe tbody tr th {\n",
       "        vertical-align: top;\n",
       "    }\n",
       "\n",
       "    .dataframe thead th {\n",
       "        text-align: right;\n",
       "    }\n",
       "</style>\n",
       "<table border=\"1\" class=\"dataframe\">\n",
       "  <thead>\n",
       "    <tr style=\"text-align: right;\">\n",
       "      <th></th>\n",
       "      <th>sk_id_curr</th>\n",
       "      <th>averagecreditcardlimit</th>\n",
       "    </tr>\n",
       "  </thead>\n",
       "  <tbody>\n",
       "    <tr>\n",
       "      <th>0</th>\n",
       "      <td>217324</td>\n",
       "      <td>1350000.0</td>\n",
       "    </tr>\n",
       "    <tr>\n",
       "      <th>1</th>\n",
       "      <td>180956</td>\n",
       "      <td>1350000.0</td>\n",
       "    </tr>\n",
       "    <tr>\n",
       "      <th>2</th>\n",
       "      <td>150126</td>\n",
       "      <td>1350000.0</td>\n",
       "    </tr>\n",
       "    <tr>\n",
       "      <th>3</th>\n",
       "      <td>135194</td>\n",
       "      <td>1350000.0</td>\n",
       "    </tr>\n",
       "    <tr>\n",
       "      <th>4</th>\n",
       "      <td>154897</td>\n",
       "      <td>1350000.0</td>\n",
       "    </tr>\n",
       "    <tr>\n",
       "      <th>...</th>\n",
       "      <td>...</td>\n",
       "      <td>...</td>\n",
       "    </tr>\n",
       "    <tr>\n",
       "      <th>103553</th>\n",
       "      <td>363214</td>\n",
       "      <td>0.0</td>\n",
       "    </tr>\n",
       "    <tr>\n",
       "      <th>103554</th>\n",
       "      <td>370279</td>\n",
       "      <td>0.0</td>\n",
       "    </tr>\n",
       "    <tr>\n",
       "      <th>103555</th>\n",
       "      <td>370288</td>\n",
       "      <td>0.0</td>\n",
       "    </tr>\n",
       "    <tr>\n",
       "      <th>103556</th>\n",
       "      <td>381912</td>\n",
       "      <td>0.0</td>\n",
       "    </tr>\n",
       "    <tr>\n",
       "      <th>103557</th>\n",
       "      <td>431237</td>\n",
       "      <td>0.0</td>\n",
       "    </tr>\n",
       "  </tbody>\n",
       "</table>\n",
       "<p>103558 rows × 2 columns</p>\n",
       "</div>"
      ],
      "text/plain": [
       "        sk_id_curr  averagecreditcardlimit\n",
       "0           217324               1350000.0\n",
       "1           180956               1350000.0\n",
       "2           150126               1350000.0\n",
       "3           135194               1350000.0\n",
       "4           154897               1350000.0\n",
       "...            ...                     ...\n",
       "103553      363214                     0.0\n",
       "103554      370279                     0.0\n",
       "103555      370288                     0.0\n",
       "103556      381912                     0.0\n",
       "103557      431237                     0.0\n",
       "\n",
       "[103558 rows x 2 columns]"
      ]
     },
     "execution_count": 15,
     "metadata": {},
     "output_type": "execute_result"
    }
   ],
   "source": [
    "%%time\n",
    "sql_query = \"\"\"\n",
    "SET search_path TO credit_scoring;\n",
    "SELECT\n",
    "    SK_ID_CURR,\n",
    "    AVG(AMT_CREDIT_LIMIT_ACTUAL) AS AverageCreditCardLimit\n",
    "FROM credit_card_balance\n",
    "GROUP BY SK_ID_CURR\n",
    "ORDER BY AverageCreditCardLimit DESC;\n",
    "\"\"\"\n",
    "connector.get_df_from_query(sql_query)"
   ]
  },
  {
   "cell_type": "markdown",
   "id": "1a32da86a0199a55",
   "metadata": {},
   "source": [
    "Доля кредитного использования  — отношение общей суммы задолженности по кредитным картам к общему кредитному лимиту, доступному клиенту"
   ]
  },
  {
   "cell_type": "code",
   "execution_count": 16,
   "id": "c4e4216bd0953a10",
   "metadata": {
    "ExecuteTime": {
     "end_time": "2024-03-31T13:45:50.115731Z",
     "start_time": "2024-03-31T13:45:39.088186Z"
    }
   },
   "outputs": [
    {
     "name": "stderr",
     "output_type": "stream",
     "text": [
      "/Users/vi/DataspellProjects/shift/src/app/utils/db_connector.py:37: UserWarning: pandas only supports SQLAlchemy connectable (engine/connection) or database string URI or sqlite3 DBAPI2 connection. Other DBAPI2 objects are not tested. Please consider using SQLAlchemy.\n",
      "  df = pd.read_sql(query, conn)\n"
     ]
    },
    {
     "name": "stdout",
     "output_type": "stream",
     "text": [
      "CPU times: user 125 ms, sys: 19 ms, total: 144 ms\n",
      "Wall time: 16.9 s\n"
     ]
    },
    {
     "data": {
      "text/html": [
       "<div>\n",
       "<style scoped>\n",
       "    .dataframe tbody tr th:only-of-type {\n",
       "        vertical-align: middle;\n",
       "    }\n",
       "\n",
       "    .dataframe tbody tr th {\n",
       "        vertical-align: top;\n",
       "    }\n",
       "\n",
       "    .dataframe thead th {\n",
       "        text-align: right;\n",
       "    }\n",
       "</style>\n",
       "<table border=\"1\" class=\"dataframe\">\n",
       "  <thead>\n",
       "    <tr style=\"text-align: right;\">\n",
       "      <th></th>\n",
       "      <th>sk_id_curr</th>\n",
       "      <th>creditutilizationratio</th>\n",
       "    </tr>\n",
       "  </thead>\n",
       "  <tbody>\n",
       "    <tr>\n",
       "      <th>0</th>\n",
       "      <td>155492</td>\n",
       "      <td>2.138789</td>\n",
       "    </tr>\n",
       "    <tr>\n",
       "      <th>1</th>\n",
       "      <td>172610</td>\n",
       "      <td>2.131796</td>\n",
       "    </tr>\n",
       "    <tr>\n",
       "      <th>2</th>\n",
       "      <td>289267</td>\n",
       "      <td>1.564907</td>\n",
       "    </tr>\n",
       "    <tr>\n",
       "      <th>3</th>\n",
       "      <td>148211</td>\n",
       "      <td>1.398834</td>\n",
       "    </tr>\n",
       "    <tr>\n",
       "      <th>4</th>\n",
       "      <td>377094</td>\n",
       "      <td>1.286950</td>\n",
       "    </tr>\n",
       "    <tr>\n",
       "      <th>...</th>\n",
       "      <td>...</td>\n",
       "      <td>...</td>\n",
       "    </tr>\n",
       "    <tr>\n",
       "      <th>103553</th>\n",
       "      <td>179113</td>\n",
       "      <td>-0.007783</td>\n",
       "    </tr>\n",
       "    <tr>\n",
       "      <th>103554</th>\n",
       "      <td>385987</td>\n",
       "      <td>-0.009199</td>\n",
       "    </tr>\n",
       "    <tr>\n",
       "      <th>103555</th>\n",
       "      <td>203520</td>\n",
       "      <td>-0.010800</td>\n",
       "    </tr>\n",
       "    <tr>\n",
       "      <th>103556</th>\n",
       "      <td>337680</td>\n",
       "      <td>-0.084848</td>\n",
       "    </tr>\n",
       "    <tr>\n",
       "      <th>103557</th>\n",
       "      <td>172723</td>\n",
       "      <td>-0.084848</td>\n",
       "    </tr>\n",
       "  </tbody>\n",
       "</table>\n",
       "<p>103558 rows × 2 columns</p>\n",
       "</div>"
      ],
      "text/plain": [
       "        sk_id_curr  creditutilizationratio\n",
       "0           155492                2.138789\n",
       "1           172610                2.131796\n",
       "2           289267                1.564907\n",
       "3           148211                1.398834\n",
       "4           377094                1.286950\n",
       "...            ...                     ...\n",
       "103553      179113               -0.007783\n",
       "103554      385987               -0.009199\n",
       "103555      203520               -0.010800\n",
       "103556      337680               -0.084848\n",
       "103557      172723               -0.084848\n",
       "\n",
       "[103558 rows x 2 columns]"
      ]
     },
     "execution_count": 16,
     "metadata": {},
     "output_type": "execute_result"
    }
   ],
   "source": [
    "%%time\n",
    "sql_query = \"\"\"\n",
    "SET search_path TO credit_scoring;\n",
    "SELECT\n",
    "    SK_ID_CURR,\n",
    "    CASE \n",
    "        WHEN SUM(AMT_CREDIT_LIMIT_ACTUAL) > 0 THEN \n",
    "            SUM(AMT_BALANCE) / SUM(AMT_CREDIT_LIMIT_ACTUAL)\n",
    "        ELSE \n",
    "            0 \n",
    "    END AS CreditUtilizationRatio\n",
    "FROM credit_card_balance\n",
    "GROUP BY SK_ID_CURR\n",
    "ORDER BY CreditUtilizationRatio DESC;\n",
    "\"\"\"\n",
    "connector.get_df_from_query(sql_query)"
   ]
  },
  {
   "cell_type": "markdown",
   "id": "a493370efdead1a3",
   "metadata": {},
   "source": [
    "Отношение платежа по кредиту к зарплате для каждого клиента"
   ]
  },
  {
   "cell_type": "code",
   "execution_count": 17,
   "id": "fd2b466b4a7f9924",
   "metadata": {
    "ExecuteTime": {
     "end_time": "2024-03-31T13:45:58.127935Z",
     "start_time": "2024-03-31T13:45:50.116461Z"
    }
   },
   "outputs": [
    {
     "name": "stderr",
     "output_type": "stream",
     "text": [
      "/Users/vi/DataspellProjects/shift/src/app/utils/db_connector.py:37: UserWarning: pandas only supports SQLAlchemy connectable (engine/connection) or database string URI or sqlite3 DBAPI2 connection. Other DBAPI2 objects are not tested. Please consider using SQLAlchemy.\n",
      "  df = pd.read_sql(query, conn)\n"
     ]
    },
    {
     "name": "stdout",
     "output_type": "stream",
     "text": [
      "CPU times: user 409 ms, sys: 136 ms, total: 545 ms\n",
      "Wall time: 4.78 s\n"
     ]
    },
    {
     "data": {
      "text/html": [
       "<div>\n",
       "<style scoped>\n",
       "    .dataframe tbody tr th:only-of-type {\n",
       "        vertical-align: middle;\n",
       "    }\n",
       "\n",
       "    .dataframe tbody tr th {\n",
       "        vertical-align: top;\n",
       "    }\n",
       "\n",
       "    .dataframe thead th {\n",
       "        text-align: right;\n",
       "    }\n",
       "</style>\n",
       "<table border=\"1\" class=\"dataframe\">\n",
       "  <thead>\n",
       "    <tr style=\"text-align: right;\">\n",
       "      <th></th>\n",
       "      <th>sk_id_curr</th>\n",
       "      <th>ratio_annuity_income</th>\n",
       "    </tr>\n",
       "  </thead>\n",
       "  <tbody>\n",
       "    <tr>\n",
       "      <th>0</th>\n",
       "      <td>125263</td>\n",
       "      <td>0.108720</td>\n",
       "    </tr>\n",
       "    <tr>\n",
       "      <th>1</th>\n",
       "      <td>399518</td>\n",
       "      <td>0.063978</td>\n",
       "    </tr>\n",
       "    <tr>\n",
       "      <th>2</th>\n",
       "      <td>399518</td>\n",
       "      <td>0.000000</td>\n",
       "    </tr>\n",
       "    <tr>\n",
       "      <th>3</th>\n",
       "      <td>200527</td>\n",
       "      <td>0.073292</td>\n",
       "    </tr>\n",
       "    <tr>\n",
       "      <th>4</th>\n",
       "      <td>200527</td>\n",
       "      <td>0.073292</td>\n",
       "    </tr>\n",
       "    <tr>\n",
       "      <th>...</th>\n",
       "      <td>...</td>\n",
       "      <td>...</td>\n",
       "    </tr>\n",
       "    <tr>\n",
       "      <th>489632</th>\n",
       "      <td>410949</td>\n",
       "      <td>0.033717</td>\n",
       "    </tr>\n",
       "    <tr>\n",
       "      <th>489633</th>\n",
       "      <td>115067</td>\n",
       "      <td>0.071000</td>\n",
       "    </tr>\n",
       "    <tr>\n",
       "      <th>489634</th>\n",
       "      <td>377669</td>\n",
       "      <td>0.000000</td>\n",
       "    </tr>\n",
       "    <tr>\n",
       "      <th>489635</th>\n",
       "      <td>431028</td>\n",
       "      <td>0.000000</td>\n",
       "    </tr>\n",
       "    <tr>\n",
       "      <th>489636</th>\n",
       "      <td>363575</td>\n",
       "      <td>0.162650</td>\n",
       "    </tr>\n",
       "  </tbody>\n",
       "</table>\n",
       "<p>489637 rows × 2 columns</p>\n",
       "</div>"
      ],
      "text/plain": [
       "        sk_id_curr  ratio_annuity_income\n",
       "0           125263              0.108720\n",
       "1           399518              0.063978\n",
       "2           399518              0.000000\n",
       "3           200527              0.073292\n",
       "4           200527              0.073292\n",
       "...            ...                   ...\n",
       "489632      410949              0.033717\n",
       "489633      115067              0.071000\n",
       "489634      377669              0.000000\n",
       "489635      431028              0.000000\n",
       "489636      363575              0.162650\n",
       "\n",
       "[489637 rows x 2 columns]"
      ]
     },
     "execution_count": 17,
     "metadata": {},
     "output_type": "execute_result"
    }
   ],
   "source": [
    "%%time\n",
    "sql_query = \"\"\"\n",
    "SET search_path TO credit_scoring;\n",
    "SELECT a.sk_id_curr,\n",
    "       bur.amt_annuity / a.amt_income_total AS ratio_annuity_income\n",
    "FROM application a\n",
    "JOIN bureau bur ON a.sk_id_curr = bur.sk_id_curr\n",
    "WHERE bur.amt_annuity IS NOT NULL;\n",
    "\"\"\"\n",
    "connector.get_df_from_query(sql_query)"
   ]
  },
  {
   "cell_type": "code",
   "execution_count": null,
   "id": "34ea7556",
   "metadata": {},
   "outputs": [],
   "source": []
  }
 ],
 "metadata": {
  "kernelspec": {
   "display_name": "Python 3 (ipykernel)",
   "language": "python",
   "name": "python3"
  },
  "language_info": {
   "codemirror_mode": {
    "name": "ipython",
    "version": 3
   },
   "file_extension": ".py",
   "mimetype": "text/x-python",
   "name": "python",
   "nbconvert_exporter": "python",
   "pygments_lexer": "ipython3",
   "version": "3.10.9"
  }
 },
 "nbformat": 4,
 "nbformat_minor": 5
}
