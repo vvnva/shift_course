{
 "cells": [
  {
   "cell_type": "code",
   "execution_count": 1,
   "id": "4ec6596f0a49dec6",
   "metadata": {
    "ExecuteTime": {
     "end_time": "2024-04-17T17:09:16.198960Z",
     "start_time": "2024-04-17T17:09:14.476689Z"
    }
   },
   "outputs": [],
   "source": [
    "import pandas as pd\n",
    "from api import Features\n",
    "from model import Model_with_scoring\n",
    "import joblib"
   ]
  },
  {
   "cell_type": "markdown",
   "id": "b6bcb3871fc3465",
   "metadata": {},
   "source": [
    "### Результат prob'ы должен совпасть с использованием интерфейса модели на прямую (predict_proba())"
   ]
  },
  {
   "cell_type": "code",
   "execution_count": 2,
   "id": "b1da925640109aca",
   "metadata": {
    "ExecuteTime": {
     "end_time": "2024-04-17T17:09:19.599573Z",
     "start_time": "2024-04-17T17:09:16.214577Z"
    }
   },
   "outputs": [
    {
     "name": "stderr",
     "output_type": "stream",
     "text": [
      "/Users/vi/DataspellProjects/shift/.venv/lib/python3.10/site-packages/sklearn/base.py:376: InconsistentVersionWarning: Trying to unpickle estimator LabelEncoder from version 1.3.0 when using version 1.4.2. This might lead to breaking code or invalid results. Use at your own risk. For more info please refer to:\n",
      "https://scikit-learn.org/stable/model_persistence.html#security-maintainability-limitations\n",
      "  warnings.warn(\n"
     ]
    }
   ],
   "source": [
    "test = pd.read_csv('cut_test.csv')\n",
    "model = joblib.load('lightgbm_optuna_model_cut.pkl')"
   ]
  },
  {
   "cell_type": "code",
   "execution_count": 3,
   "id": "b5ad3a8ac675226",
   "metadata": {
    "ExecuteTime": {
     "end_time": "2024-04-17T17:09:19.636307Z",
     "start_time": "2024-04-17T17:09:19.594240Z"
    }
   },
   "outputs": [],
   "source": [
    "x_test=test.drop(['target', 'sk_id_curr'], axis=1)\n",
    "y_test = test['target']\n",
    "sub_test = pd.DataFrame(test['sk_id_curr'].copy())"
   ]
  },
  {
   "cell_type": "code",
   "execution_count": 4,
   "id": "def1d2b42ab22a9e",
   "metadata": {
    "ExecuteTime": {
     "end_time": "2024-04-17T17:09:19.691585Z",
     "start_time": "2024-04-17T17:09:19.611728Z"
    }
   },
   "outputs": [],
   "source": [
    "sub_test['lgbm']=model.predict_proba(x_test)[:, 1] "
   ]
  },
  {
   "cell_type": "code",
   "execution_count": 5,
   "id": "b3a6f8c51b1e0d47",
   "metadata": {
    "ExecuteTime": {
     "end_time": "2024-04-17T17:09:20.249596Z",
     "start_time": "2024-04-17T17:09:19.681139Z"
    }
   },
   "outputs": [
    {
     "name": "stderr",
     "output_type": "stream",
     "text": [
      "/Users/vi/DataspellProjects/shift/.venv/lib/python3.10/site-packages/sklearn/base.py:376: InconsistentVersionWarning: Trying to unpickle estimator LabelEncoder from version 1.3.0 when using version 1.4.2. This might lead to breaking code or invalid results. Use at your own risk. For more info please refer to:\n",
      "https://scikit-learn.org/stable/model_persistence.html#security-maintainability-limitations\n",
      "  warnings.warn(\n"
     ]
    },
    {
     "name": "stdout",
     "output_type": "stream",
     "text": [
      "   sk_id_curr      lgbm  lgbm_core\n",
      "0      146856  0.229928   0.229928\n",
      "1      285764  0.369700   0.369700\n",
      "2      150665  0.653448   0.653448\n",
      "3      305131  0.493769   0.493769\n",
      "4      376689  0.165342   0.165342\n"
     ]
    }
   ],
   "source": [
    "model_core = Model_with_scoring('lightgbm_optuna_model_cut.pkl')\n",
    "x_test['result'] = x_test.apply(lambda x: model_core.get_scoring_result(Features(*x)),axis=1,)\n",
    "sub_test['lgbm_core'] = x_test['result'].apply(lambda x: x.proba)\n",
    "print(sub_test.head())"
   ]
  },
  {
   "cell_type": "markdown",
   "source": [
    "### Вывод решения по сумме выдачи и расчет прибыли"
   ],
   "metadata": {
    "collapsed": false
   },
   "id": "96ba50e8a4e387e2"
  },
  {
   "cell_type": "code",
   "execution_count": 6,
   "id": "42e383568924d5aa",
   "metadata": {
    "ExecuteTime": {
     "end_time": "2024-04-17T17:09:21.174257Z",
     "start_time": "2024-04-17T17:09:21.154443Z"
    }
   },
   "outputs": [],
   "source": [
    "x_test=test.drop(['target', 'sk_id_curr'], axis=1)\n",
    "y_test = test['target']"
   ]
  },
  {
   "cell_type": "code",
   "execution_count": 7,
   "id": "62a9a65eb086fd38",
   "metadata": {
    "ExecuteTime": {
     "end_time": "2024-04-17T17:09:23.120276Z",
     "start_time": "2024-04-17T17:09:22.358721Z"
    }
   },
   "outputs": [],
   "source": [
    "x_test['result'] = x_test.apply(lambda x: model_core.get_scoring_result(Features(*x)),axis=1,)\n",
    "x_test['decision'] = x_test['result'].apply(lambda x: x.decision.name)\n",
    "x_test['amount'] = x_test['result'].apply(lambda x: x.amount)\n",
    "x_test['proba'] = x_test['result'].apply(lambda x: x.proba)"
   ]
  },
  {
   "cell_type": "code",
   "execution_count": 8,
   "id": "834c31fd5ee2dcef",
   "metadata": {
    "ExecuteTime": {
     "end_time": "2024-04-17T17:09:26.619275Z",
     "start_time": "2024-04-17T17:09:26.589980Z"
    }
   },
   "outputs": [
    {
     "name": "stdout",
     "output_type": "stream",
     "text": [
      "   sk_id_curr  decision  amount     proba\n",
      "0      146856  ACCEPTED  190000  0.229928\n",
      "1      285764  DECLINED       0  0.369700\n",
      "2      150665  DECLINED       0  0.653448\n",
      "3      305131  DECLINED       0  0.493769\n",
      "4      376689  ACCEPTED  365000  0.165342\n"
     ]
    }
   ],
   "source": [
    "decisions=pd.concat([test['sk_id_curr'], x_test[['decision', 'amount', 'proba']]], axis=1)\n",
    "print(decisions.head())"
   ]
  },
  {
   "cell_type": "code",
   "execution_count": 9,
   "id": "28b997a3db552cf7",
   "metadata": {
    "ExecuteTime": {
     "end_time": "2024-04-17T17:09:35.938201Z",
     "start_time": "2024-04-17T17:09:35.854517Z"
    }
   },
   "outputs": [
    {
     "name": "stdout",
     "output_type": "stream",
     "text": [
      "    decision  amount     proba  count\n",
      "0   ACCEPTED   25000  0.225450      7\n",
      "1   ACCEPTED   50000  0.171333      6\n",
      "2   ACCEPTED   65000  0.192477      6\n",
      "3   ACCEPTED   90000  0.147886      2\n",
      "4   ACCEPTED  100000  0.155722      2\n",
      "5   ACCEPTED  125000  0.226883      1\n",
      "6   ACCEPTED  150000  0.198043      2\n",
      "7   ACCEPTED  185000  0.245555      1\n",
      "8   ACCEPTED  190000  0.152495      9\n",
      "9   ACCEPTED  225000  0.177112      4\n",
      "10  ACCEPTED  250000  0.088938      1\n",
      "11  ACCEPTED  325000  0.193247      5\n",
      "12  ACCEPTED  350000  0.174115      2\n",
      "13  ACCEPTED  365000  0.145812      3\n",
      "14  ACCEPTED  390000  0.115624      1\n",
      "15  ACCEPTED  400000  0.242209      1\n",
      "16  ACCEPTED  450000  0.094770      1\n",
      "17  ACCEPTED  765000  0.095573      1\n",
      "18  DECLINED       0  0.494620    145\n"
     ]
    }
   ],
   "source": [
    "result = decisions.groupby(['decision', 'amount']).agg({'proba': 'mean', 'sk_id_curr': 'count'}).rename(columns={'sk_id_curr': 'count'}).reset_index()\n",
    "print(result)"
   ]
  },
  {
   "cell_type": "code",
   "execution_count": 10,
   "id": "af2a186e452b4ff9",
   "metadata": {
    "ExecuteTime": {
     "end_time": "2024-04-17T17:09:46.740826Z",
     "start_time": "2024-04-17T17:09:46.679958Z"
    }
   },
   "outputs": [
    {
     "name": "stdout",
     "output_type": "stream",
     "text": [
      "    decision  amount     proba  count  default  return      loss   revenue  \\\n",
      "0   ACCEPTED   25000  0.225450      7      2.0     5.0   50000.0   12500.0   \n",
      "1   ACCEPTED   50000  0.171333      6      1.0     5.0   50000.0   25000.0   \n",
      "2   ACCEPTED   65000  0.192477      6      1.0     5.0   65000.0   32500.0   \n",
      "3   ACCEPTED   90000  0.147886      2      0.0     2.0       0.0   18000.0   \n",
      "4   ACCEPTED  100000  0.155722      2      0.0     2.0       0.0   20000.0   \n",
      "5   ACCEPTED  125000  0.226883      1      0.0     1.0       0.0   12500.0   \n",
      "6   ACCEPTED  150000  0.198043      2      0.0     2.0       0.0   30000.0   \n",
      "7   ACCEPTED  185000  0.245555      1      0.0     1.0       0.0   18500.0   \n",
      "8   ACCEPTED  190000  0.152495      9      1.0     8.0  190000.0  152000.0   \n",
      "9   ACCEPTED  225000  0.177112      4      1.0     3.0  225000.0   67500.0   \n",
      "10  ACCEPTED  250000  0.088938      1      0.0     1.0       0.0   25000.0   \n",
      "11  ACCEPTED  325000  0.193247      5      1.0     4.0  325000.0  130000.0   \n",
      "12  ACCEPTED  350000  0.174115      2      0.0     2.0       0.0   70000.0   \n",
      "13  ACCEPTED  365000  0.145812      3      0.0     3.0       0.0  109500.0   \n",
      "14  ACCEPTED  390000  0.115624      1      0.0     1.0       0.0   39000.0   \n",
      "15  ACCEPTED  400000  0.242209      1      0.0     1.0       0.0   40000.0   \n",
      "16  ACCEPTED  450000  0.094770      1      0.0     1.0       0.0   45000.0   \n",
      "17  ACCEPTED  765000  0.095573      1      0.0     1.0       0.0   76500.0   \n",
      "18  DECLINED       0  0.494620    145     72.0    73.0       0.0       0.0   \n",
      "\n",
      "      profit  \n",
      "0   -37500.0  \n",
      "1   -25000.0  \n",
      "2   -32500.0  \n",
      "3    18000.0  \n",
      "4    20000.0  \n",
      "5    12500.0  \n",
      "6    30000.0  \n",
      "7    18500.0  \n",
      "8   -38000.0  \n",
      "9  -157500.0  \n",
      "10   25000.0  \n",
      "11 -195000.0  \n",
      "12   70000.0  \n",
      "13  109500.0  \n",
      "14   39000.0  \n",
      "15   40000.0  \n",
      "16   45000.0  \n",
      "17   76500.0  \n",
      "18       0.0  \n"
     ]
    }
   ],
   "source": [
    "result['default'] = round(result['count'] * result['proba'])\n",
    "result['return'] = result['count'] - result['default']\n",
    "result['loss'] = result['default'] * result['amount']\n",
    "result['revenue'] = result['return'] * result['amount']*0.1\n",
    "result['profit'] = result['revenue'] - result['loss']\n",
    "print(result)"
   ]
  },
  {
   "cell_type": "code",
   "execution_count": 11,
   "id": "a642011986c2aaf4",
   "metadata": {
    "ExecuteTime": {
     "end_time": "2024-04-17T17:10:03.371630Z",
     "start_time": "2024-04-17T17:10:03.347988Z"
    }
   },
   "outputs": [
    {
     "data": {
      "text/plain": "18500.0"
     },
     "execution_count": 11,
     "metadata": {},
     "output_type": "execute_result"
    }
   ],
   "source": [
    "result[\"profit\"].sum()"
   ]
  },
  {
   "cell_type": "code",
   "outputs": [],
   "source": [],
   "metadata": {
    "collapsed": false
   },
   "id": "ad8108286ca72c93"
  }
 ],
 "metadata": {
  "kernelspec": {
   "display_name": "Python 3 (ipykernel)",
   "language": "python",
   "name": "python3"
  },
  "language_info": {
   "codemirror_mode": {
    "name": "ipython",
    "version": 3
   },
   "file_extension": ".py",
   "mimetype": "text/x-python",
   "name": "python",
   "nbconvert_exporter": "python",
   "pygments_lexer": "ipython3",
   "version": "3.10.9"
  }
 },
 "nbformat": 4,
 "nbformat_minor": 5
}
