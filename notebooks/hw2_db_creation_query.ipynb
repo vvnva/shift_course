{
 "cells": [
  {
   "cell_type": "markdown",
   "source": [
    "## Домашнее задание 2"
   ],
   "metadata": {
    "collapsed": false
   },
   "id": "f101b3c4fbe8ae2"
  },
  {
   "cell_type": "markdown",
   "source": [
    "1) Установить PostgreSQL;\n",
    "2) Создать БД home_credit, исследовать данные, определить типы данных и загрузить все таблицы. SQL запросы указать либо в ноутбуке, либо отдельными файлами;\n",
    "3) Сделать упражнения по запросам ниже;\n",
    "4) Сгенерировать 5 своих признаков для будущего обучения модели;\n",
    "5) Реализовать их насчет используя ТОЛЬКО SQL-запросы.\n",
    "\n",
    "Результат:\n",
    "1) Настроенная СУБД с загруженными данными из конкурса Home_Credit;\n",
    "2) Сделанные упражнения с выводом данных как в примерах выше;\n",
    "3) Описание в ноутбуке 5 сгенерированных признаков;\n",
    "4) Реализованные в ноутбуке SQL-запросы к базе данных с выводом результата по вышеуказанным фичам;\n",
    "5) Файл конфигурации в папке config, где прописаны параметры коннекта к БД;\n",
    "6) Папка utils в репозиторий, созданный там скрипт с кодом позволяющим обращаться к БД;\n",
    "\n",
    "Бонусные задания:\n",
    "1) Сделать класс для операций с БД вместо функций;\n",
    "2) Проанализировать структуру, назначить в таблицах ключи и индексы запросами к БД."
   ],
   "metadata": {
    "collapsed": false
   },
   "id": "9b7b465d0a190104"
  },
  {
   "cell_type": "code",
   "outputs": [],
   "source": [
    "import sys\n",
    "sys.path.insert(1, '/Users/vi/DataspellProjects/shift/src/app/utils')\n",
    "import db_connector\n",
    "sys.path.insert(1, '/Users/vi/DataspellProjects/shift/src/config')\n",
    "import db_params"
   ],
   "metadata": {
    "collapsed": false,
    "ExecuteTime": {
     "end_time": "2024-03-31T13:37:21.411436Z",
     "start_time": "2024-03-31T13:37:19.928208Z"
    }
   },
   "id": "a9409c2d20ba266d",
   "execution_count": 1
  },
  {
   "cell_type": "code",
   "outputs": [],
   "source": [
    "connector = db_connector.database_connector(db_params.DB_ARGS)"
   ],
   "metadata": {
    "collapsed": false,
    "ExecuteTime": {
     "end_time": "2024-03-31T13:37:21.469062Z",
     "start_time": "2024-03-31T13:37:21.396069Z"
    }
   },
   "id": "d8e1c58033bf964",
   "execution_count": 2
  },
  {
   "cell_type": "markdown",
   "source": [
    "## Анализ типов переменных"
   ],
   "metadata": {
    "collapsed": false
   },
   "id": "af12904e8cb59542"
  },
  {
   "cell_type": "code",
   "outputs": [],
   "source": [
    "import pandas as pd"
   ],
   "metadata": {
    "collapsed": false,
    "ExecuteTime": {
     "end_time": "2024-03-31T13:37:22.152973Z",
     "start_time": "2024-03-31T13:37:22.038213Z"
    }
   },
   "id": "2f4bd9e207115623",
   "execution_count": 3
  },
  {
   "cell_type": "code",
   "outputs": [],
   "source": [
    "file_path = db_params.DATA_FULL_PATH + 'application_test.csv'\n",
    "application_test = pd.read_csv(file_path)"
   ],
   "metadata": {
    "collapsed": false,
    "ExecuteTime": {
     "end_time": "2024-03-31T13:37:24.538089Z",
     "start_time": "2024-03-31T13:37:22.429743Z"
    }
   },
   "id": "782121e6038a5a67",
   "execution_count": 4
  },
  {
   "cell_type": "code",
   "outputs": [],
   "source": [
    "file_path = db_params.DATA_FULL_PATH + 'application_train.csv'\n",
    "application_train = pd.read_csv(file_path)"
   ],
   "metadata": {
    "collapsed": false,
    "ExecuteTime": {
     "end_time": "2024-03-31T13:37:37.191042Z",
     "start_time": "2024-03-31T13:37:24.299563Z"
    }
   },
   "id": "632a7d2a88c1dda4",
   "execution_count": 5
  },
  {
   "cell_type": "code",
   "outputs": [],
   "source": [
    "application = pd.concat([application_test, application_train], ignore_index=True)"
   ],
   "metadata": {
    "collapsed": false,
    "ExecuteTime": {
     "end_time": "2024-03-31T13:37:37.906490Z",
     "start_time": "2024-03-31T13:37:37.032577Z"
    }
   },
   "id": "405b2fddcb0586a",
   "execution_count": 6
  },
  {
   "cell_type": "code",
   "outputs": [
    {
     "data": {
      "text/plain": "SK_ID_CURR                      int64\nNAME_CONTRACT_TYPE             object\nCODE_GENDER                    object\nFLAG_OWN_CAR                   object\nFLAG_OWN_REALTY                object\n                               ...   \nAMT_REQ_CREDIT_BUREAU_WEEK    float64\nAMT_REQ_CREDIT_BUREAU_MON     float64\nAMT_REQ_CREDIT_BUREAU_QRT     float64\nAMT_REQ_CREDIT_BUREAU_YEAR    float64\nTARGET                        float64\nLength: 122, dtype: object"
     },
     "execution_count": 7,
     "metadata": {},
     "output_type": "execute_result"
    }
   ],
   "source": [
    "application.dtypes"
   ],
   "metadata": {
    "collapsed": false,
    "ExecuteTime": {
     "end_time": "2024-03-31T13:37:38.183664Z",
     "start_time": "2024-03-31T13:37:37.943688Z"
    }
   },
   "id": "68d239c8a76f0b88",
   "execution_count": 7
  },
  {
   "cell_type": "code",
   "outputs": [
    {
     "name": "stdout",
     "output_type": "stream",
     "text": [
      "{'NAME_CONTRACT_TYPE': 20, 'CODE_GENDER': 8, 'FLAG_OWN_CAR': 6, 'FLAG_OWN_REALTY': 6, 'NAME_TYPE_SUITE': 20, 'NAME_INCOME_TYPE': 25, 'NAME_EDUCATION_TYPE': 34, 'NAME_FAMILY_STATUS': 25, 'NAME_HOUSING_TYPE': 24, 'OCCUPATION_TYPE': 26, 'WEEKDAY_APPR_PROCESS_START': 14, 'ORGANIZATION_TYPE': 27, 'FONDKAPREMONT_MODE': 26, 'HOUSETYPE_MODE': 21, 'WALLSMATERIAL_MODE': 17, 'EMERGENCYSTATE_MODE': 8}\n"
     ]
    }
   ],
   "source": [
    "type_object= application.select_dtypes(include='object').columns\n",
    "type_varchar = {}\n",
    "for column in type_object:\n",
    "    max_length = application[column].dropna().astype(str).map(len).max()\n",
    "    type_varchar[column] = max_length + 5\n",
    "print(type_varchar)"
   ],
   "metadata": {
    "collapsed": false,
    "ExecuteTime": {
     "end_time": "2024-03-31T13:37:42.905379Z",
     "start_time": "2024-03-31T13:37:37.970045Z"
    }
   },
   "id": "3dec426e40cbaa25",
   "execution_count": 8
  },
  {
   "cell_type": "code",
   "outputs": [
    {
     "name": "stdout",
     "output_type": "stream",
     "text": [
      "{'SK_ID_CURR': 'integer', 'CNT_CHILDREN': 'smallint', 'DAYS_BIRTH': 'smallint', 'DAYS_EMPLOYED': 'integer', 'DAYS_ID_PUBLISH': 'smallint', 'FLAG_MOBIL': 'smallint', 'FLAG_EMP_PHONE': 'smallint', 'FLAG_WORK_PHONE': 'smallint', 'FLAG_CONT_MOBILE': 'smallint', 'FLAG_PHONE': 'smallint', 'FLAG_EMAIL': 'smallint', 'REGION_RATING_CLIENT': 'smallint', 'REGION_RATING_CLIENT_W_CITY': 'smallint', 'HOUR_APPR_PROCESS_START': 'smallint', 'REG_REGION_NOT_LIVE_REGION': 'smallint', 'REG_REGION_NOT_WORK_REGION': 'smallint', 'LIVE_REGION_NOT_WORK_REGION': 'smallint', 'REG_CITY_NOT_LIVE_CITY': 'smallint', 'REG_CITY_NOT_WORK_CITY': 'smallint', 'LIVE_CITY_NOT_WORK_CITY': 'smallint', 'FLAG_DOCUMENT_2': 'smallint', 'FLAG_DOCUMENT_3': 'smallint', 'FLAG_DOCUMENT_4': 'smallint', 'FLAG_DOCUMENT_5': 'smallint', 'FLAG_DOCUMENT_6': 'smallint', 'FLAG_DOCUMENT_7': 'smallint', 'FLAG_DOCUMENT_8': 'smallint', 'FLAG_DOCUMENT_9': 'smallint', 'FLAG_DOCUMENT_10': 'smallint', 'FLAG_DOCUMENT_11': 'smallint', 'FLAG_DOCUMENT_12': 'smallint', 'FLAG_DOCUMENT_13': 'smallint', 'FLAG_DOCUMENT_14': 'smallint', 'FLAG_DOCUMENT_15': 'smallint', 'FLAG_DOCUMENT_16': 'smallint', 'FLAG_DOCUMENT_17': 'smallint', 'FLAG_DOCUMENT_18': 'smallint', 'FLAG_DOCUMENT_19': 'smallint', 'FLAG_DOCUMENT_20': 'smallint', 'FLAG_DOCUMENT_21': 'smallint'}\n"
     ]
    }
   ],
   "source": [
    "type_integer = {}\n",
    "for column in application.columns:\n",
    "    if application[column].dtype == 'int64':\n",
    "        maximum = application[column].max()\n",
    "        minimum = application[column].min()\n",
    "        # Определяем, подходит ли тип smallint, используя границы значений.\n",
    "        if maximum < 2**15 and minimum > -(2**15):\n",
    "            type_integer[column] = 'smallint'\n",
    "        else:\n",
    "            type_integer[column] = 'integer'\n",
    "print(type_integer)"
   ],
   "metadata": {
    "collapsed": false,
    "ExecuteTime": {
     "end_time": "2024-03-31T13:37:43.217487Z",
     "start_time": "2024-03-31T13:37:42.910934Z"
    }
   },
   "id": "257dc835c628f81b",
   "execution_count": 9
  },
  {
   "cell_type": "markdown",
   "source": [
    "## Создание БД"
   ],
   "metadata": {
    "collapsed": false
   },
   "id": "514df27bc99bf988"
  },
  {
   "cell_type": "code",
   "outputs": [],
   "source": [
    "sql_schema_query = \"\"\"\n",
    "      SET search_path TO credit_scoring;\n",
    "      DROP TABLE IF EXISTS bureau; \n",
    "      CREATE TABLE bureau(\n",
    "      SK_ID_CURR integer,\n",
    "      SK_ID_BUREAU integer,\n",
    "      CREDIT_ACTIVE varchar(13),\n",
    "      CREDIT_CURRENCY varchar(15),\n",
    "      DAYS_CREDIT smallint,\n",
    "      CREDIT_DAY_OVERDUE smallint,\n",
    "      DAYS_CREDIT_ENDDATE real,\n",
    "      DAYS_ENDDATE_FACT real,\n",
    "      AMT_CREDIT_MAX_OVERDUE real,\n",
    "      CNT_CREDIT_PROLONG smallint,\n",
    "      AMT_CREDIT_SUM real,\n",
    "      AMT_CREDIT_SUM_DEBT real,\n",
    "      AMT_CREDIT_SUM_LIMIT real,\n",
    "      AMT_CREDIT_SUM_OVERDUE real,\n",
    "      CREDIT_TYPE varchar(49),\n",
    "      DAYS_CREDIT_UPDATE integer,\n",
    "      AMT_ANNUITY  real)\n",
    "\"\"\""
   ],
   "metadata": {
    "collapsed": false,
    "ExecuteTime": {
     "end_time": "2024-03-31T13:37:43.375028Z",
     "start_time": "2024-03-31T13:37:43.010327Z"
    }
   },
   "id": "824fbc666655d5d1",
   "execution_count": 10
  },
  {
   "cell_type": "code",
   "outputs": [
    {
     "name": "stdout",
     "output_type": "stream",
     "text": [
      "CPU times: user 10.8 ms, sys: 9.62 ms, total: 20.4 ms\n",
      "Wall time: 197 ms\n"
     ]
    }
   ],
   "source": [
    "%%time\n",
    "connector.send_sql_query(sql_schema_query)"
   ],
   "metadata": {
    "collapsed": false,
    "ExecuteTime": {
     "end_time": "2024-03-31T13:37:43.715332Z",
     "start_time": "2024-03-31T13:37:43.032934Z"
    }
   },
   "id": "19635ccd7fa7233",
   "execution_count": 11
  },
  {
   "cell_type": "code",
   "outputs": [],
   "source": [
    "sql_schema_query = \"\"\"\n",
    "    SET search_path TO credit_scoring;\n",
    "    DROP TABLE IF EXISTS application;\n",
    "    CREATE TABLE application(\n",
    "        SK_ID_CURR integer,\n",
    "        TARGET real,\n",
    "        NAME_CONTRACT_TYPE varchar(20),\n",
    "        CODE_GENDER varchar(8),\n",
    "        FLAG_OWN_CAR varchar(6),\n",
    "        FLAG_OWN_REALTY varchar(6),\n",
    "        CNT_CHILDREN smallint,\n",
    "        AMT_INCOME_TOTAL real,\n",
    "        AMT_CREDIT real,\n",
    "        AMT_ANNUITY real,\n",
    "        AMT_GOODS_PRICE real,\n",
    "        NAME_TYPE_SUITE varchar(20),\n",
    "        NAME_INCOME_TYPE varchar(25),\n",
    "        NAME_EDUCATION_TYPE varchar(34),\n",
    "        NAME_FAMILY_STATUS varchar(25),\n",
    "        NAME_HOUSING_TYPE varchar(24),\n",
    "        REGION_POPULATION_RELATIVE real,\n",
    "        DAYS_BIRTH smallint,\n",
    "        DAYS_EMPLOYED integer,\n",
    "        DAYS_REGISTRATION real,\n",
    "        DAYS_ID_PUBLISH smallint,\n",
    "        OWN_CAR_AGE real,\n",
    "        FLAG_MOBIL smallint,\n",
    "        FLAG_EMP_PHONE smallint,\n",
    "        FLAG_WORK_PHONE smallint,\n",
    "        FLAG_CONT_MOBILE smallint,\n",
    "        FLAG_PHONE smallint,\n",
    "        FLAG_EMAIL smallint,\n",
    "        OCCUPATION_TYPE varchar(26),\n",
    "        CNT_FAM_MEMBERS real,\n",
    "        REGION_RATING_CLIENT smallint,\n",
    "        REGION_RATING_CLIENT_W_CITY smallint,\n",
    "        WEEKDAY_APPR_PROCESS_START varchar(14),\n",
    "        HOUR_APPR_PROCESS_START smallint,\n",
    "        REG_REGION_NOT_LIVE_REGION smallint,\n",
    "        REG_REGION_NOT_WORK_REGION smallint,\n",
    "        LIVE_REGION_NOT_WORK_REGION smallint,\n",
    "        REG_CITY_NOT_LIVE_CITY smallint,\n",
    "        REG_CITY_NOT_WORK_CITY smallint,\n",
    "        LIVE_CITY_NOT_WORK_CITY smallint,\n",
    "        ORGANIZATION_TYPE varchar(27),\n",
    "        EXT_SOURCE_1 real,\n",
    "        EXT_SOURCE_2 real,\n",
    "        EXT_SOURCE_3 real,\n",
    "        APARTMENTS_AVG real,\n",
    "        BASEMENTAREA_AVG real,\n",
    "        YEARS_BEGINEXPLUATATION_AVG real,\n",
    "        YEARS_BUILD_AVG real,\n",
    "        COMMONAREA_AVG real,\n",
    "        ELEVATORS_AVG real,\n",
    "        ENTRANCES_AVG real,\n",
    "        FLOORSMAX_AVG real,\n",
    "        FLOORSMIN_AVG real,\n",
    "        LANDAREA_AVG real,\n",
    "        LIVINGAPARTMENTS_AVG real,\n",
    "        LIVINGAREA_AVG real,\n",
    "        NONLIVINGAPARTMENTS_AVG real,\n",
    "        NONLIVINGAREA_AVG real,\n",
    "        APARTMENTS_MODE real,\n",
    "        BASEMENTAREA_MODE real,\n",
    "        YEARS_BEGINEXPLUATATION_MODE real,\n",
    "        YEARS_BUILD_MODE real,\n",
    "        COMMONAREA_MODE real,\n",
    "        ELEVATORS_MODE real,\n",
    "        ENTRANCES_MODE real,\n",
    "        FLOORSMAX_MODE real,\n",
    "        FLOORSMIN_MODE real,\n",
    "        LANDAREA_MODE real,\n",
    "        LIVINGAPARTMENTS_MODE real,\n",
    "        LIVINGAREA_MODE real,\n",
    "        NONLIVINGAPARTMENTS_MODE real,\n",
    "        NONLIVINGAREA_MODE real,\n",
    "        APARTMENTS_MEDI real,\n",
    "        BASEMENTAREA_MEDI real,\n",
    "        YEARS_BEGINEXPLUATATION_MEDI real,\n",
    "        YEARS_BUILD_MEDI real,\n",
    "        COMMONAREA_MEDI real,\n",
    "        ELEVATORS_MEDI real,\n",
    "        ENTRANCES_MEDI real,\n",
    "        FLOORSMAX_MEDI real,\n",
    "        FLOORSMIN_MEDI real,\n",
    "        LANDAREA_MEDI real,\n",
    "        LIVINGAPARTMENTS_MEDI real,\n",
    "        LIVINGAREA_MEDI real,\n",
    "        NONLIVINGAPARTMENTS_MEDI real,\n",
    "        NONLIVINGAREA_MEDI real,\n",
    "        FONDKAPREMONT_MODE varchar(26),\n",
    "        HOUSETYPE_MODE varchar(21),\n",
    "        TOTALAREA_MODE real,\n",
    "        WALLSMATERIAL_MODE varchar(17),\n",
    "        EMERGENCYSTATE_MODE varchar(8),\n",
    "        OBS_30_CNT_SOCIAL_CIRCLE real,\n",
    "        DEF_30_CNT_SOCIAL_CIRCLE real,\n",
    "        OBS_60_CNT_SOCIAL_CIRCLE real,\n",
    "        DEF_60_CNT_SOCIAL_CIRCLE real,\n",
    "        DAYS_LAST_PHONE_CHANGE real,\n",
    "        FLAG_DOCUMENT_2 smallint,\n",
    "        FLAG_DOCUMENT_3 smallint,\n",
    "        FLAG_DOCUMENT_4 smallint,\n",
    "        FLAG_DOCUMENT_5 smallint,\n",
    "        FLAG_DOCUMENT_6 smallint,\n",
    "        FLAG_DOCUMENT_7 smallint,\n",
    "        FLAG_DOCUMENT_8 smallint,\n",
    "        FLAG_DOCUMENT_9 smallint,\n",
    "        FLAG_DOCUMENT_10 smallint,\n",
    "        FLAG_DOCUMENT_11 smallint,\n",
    "        FLAG_DOCUMENT_12 smallint,\n",
    "        FLAG_DOCUMENT_13 smallint,\n",
    "        FLAG_DOCUMENT_14 smallint,\n",
    "        FLAG_DOCUMENT_15 smallint,\n",
    "        FLAG_DOCUMENT_16 smallint,\n",
    "        FLAG_DOCUMENT_17 smallint,\n",
    "        FLAG_DOCUMENT_18 smallint,\n",
    "        FLAG_DOCUMENT_19 smallint,\n",
    "        FLAG_DOCUMENT_20 smallint,\n",
    "        FLAG_DOCUMENT_21 smallint,\n",
    "        AMT_REQ_CREDIT_BUREAU_HOUR real,\n",
    "        AMT_REQ_CREDIT_BUREAU_DAY real,\n",
    "        AMT_REQ_CREDIT_BUREAU_WEEK real,\n",
    "        AMT_REQ_CREDIT_BUREAU_MON real,\n",
    "        AMT_REQ_CREDIT_BUREAU_QRT real,\n",
    "        AMT_REQ_CREDIT_BUREAU_YEAR real)\n",
    "\"\"\""
   ],
   "metadata": {
    "collapsed": false,
    "ExecuteTime": {
     "end_time": "2024-03-31T13:37:43.883981Z",
     "start_time": "2024-03-31T13:37:43.243541Z"
    }
   },
   "id": "acc5ccaba25b53b7",
   "execution_count": 12
  },
  {
   "cell_type": "code",
   "outputs": [
    {
     "name": "stdout",
     "output_type": "stream",
     "text": [
      "CPU times: user 5.53 ms, sys: 4.17 ms, total: 9.7 ms\n",
      "Wall time: 54.5 ms\n"
     ]
    }
   ],
   "source": [
    "%%time\n",
    "connector.send_sql_query(sql_schema_query)"
   ],
   "metadata": {
    "collapsed": false,
    "ExecuteTime": {
     "end_time": "2024-03-31T13:37:44.120978Z",
     "start_time": "2024-03-31T13:37:43.275983Z"
    }
   },
   "id": "910b8193db36a0bc",
   "execution_count": 13
  },
  {
   "cell_type": "code",
   "outputs": [],
   "source": [
    "sql_schema_query = \"\"\"\n",
    "    SET search_path TO credit_scoring;\n",
    "    DROP TABLE IF EXISTS bureau_balance;\n",
    "    CREATE TABLE bureau_balance(\n",
    "        SK_ID_BUREAU integer,\n",
    "        MONTHS_BALANCE smallint,\n",
    "        STATUS varchar(6))\n",
    "\"\"\""
   ],
   "metadata": {
    "collapsed": false,
    "ExecuteTime": {
     "end_time": "2024-03-31T13:37:44.160440Z",
     "start_time": "2024-03-31T13:37:43.342763Z"
    }
   },
   "id": "2b97428db9219750",
   "execution_count": 14
  },
  {
   "cell_type": "code",
   "outputs": [
    {
     "name": "stdout",
     "output_type": "stream",
     "text": [
      "CPU times: user 6.28 ms, sys: 3.85 ms, total: 10.1 ms\n",
      "Wall time: 70.4 ms\n"
     ]
    }
   ],
   "source": [
    "%%time\n",
    "connector.send_sql_query(sql_schema_query)"
   ],
   "metadata": {
    "collapsed": false,
    "ExecuteTime": {
     "end_time": "2024-03-31T13:37:44.222803Z",
     "start_time": "2024-03-31T13:37:43.357231Z"
    }
   },
   "id": "5febd3c89a86fca7",
   "execution_count": 15
  },
  {
   "cell_type": "code",
   "outputs": [],
   "source": [
    "sql_schema_query = \"\"\"\n",
    "    SET search_path TO credit_scoring;\n",
    "    DROP TABLE IF EXISTS previous_application;\n",
    "    CREATE TABLE previous_application(\n",
    "        SK_ID_PREV integer,\n",
    "        SK_ID_CURR integer,\n",
    "        NAME_CONTRACT_TYPE varchar(20),\n",
    "        AMT_ANNUITY real,\n",
    "        AMT_APPLICATION real,\n",
    "        AMT_CREDIT real,\n",
    "        AMT_DOWN_PAYMENT real,\n",
    "        AMT_GOODS_PRICE real,\n",
    "        WEEKDAY_APPR_PROCESS_START varchar(14),\n",
    "        HOUR_APPR_PROCESS_START smallint,\n",
    "        FLAG_LAST_APPL_PER_CONTRACT varchar(6),\n",
    "        NFLAG_LAST_APPL_IN_DAY smallint,\n",
    "        RATE_DOWN_PAYMENT real,\n",
    "        RATE_INTEREST_PRIMARY real,\n",
    "        RATE_INTEREST_PRIVILEGED real,\n",
    "        NAME_CASH_LOAN_PURPOSE varchar(37),\n",
    "        NAME_CONTRACT_STATUS varchar(17),\n",
    "        DAYS_DECISION smallint,\n",
    "        NAME_PAYMENT_TYPE varchar(46),\n",
    "        CODE_REJECT_REASON varchar(11),\n",
    "        NAME_TYPE_SUITE varchar(20),\n",
    "        NAME_CLIENT_TYPE varchar(14),\n",
    "        NAME_GOODS_CATEGORY varchar(29),\n",
    "        NAME_PORTFOLIO varchar(10),\n",
    "        NAME_PRODUCT_TYPE varchar(12),\n",
    "        CHANNEL_TYPE varchar(31),\n",
    "        SELLERPLACE_AREA integer,\n",
    "        NAME_SELLER_INDUSTRY varchar(25),\n",
    "        CNT_PAYMENT real,\n",
    "        NAME_YIELD_GROUP varchar(15),\n",
    "        PRODUCT_COMBINATION varchar(35),\n",
    "        DAYS_FIRST_DRAWING real,\n",
    "        DAYS_FIRST_DUE real,\n",
    "        DAYS_LAST_DUE_1ST_VERSION real,\n",
    "        DAYS_LAST_DUE real,\n",
    "        DAYS_TERMINATION real,\n",
    "        NFLAG_INSURED_ON_APPROVAL real)   \n",
    "\"\"\""
   ],
   "metadata": {
    "collapsed": false,
    "ExecuteTime": {
     "end_time": "2024-03-31T13:37:44.255232Z",
     "start_time": "2024-03-31T13:37:43.441271Z"
    }
   },
   "id": "9b5488955c20c18f",
   "execution_count": 16
  },
  {
   "cell_type": "code",
   "outputs": [
    {
     "name": "stdout",
     "output_type": "stream",
     "text": [
      "CPU times: user 5.29 ms, sys: 3.81 ms, total: 9.1 ms\n",
      "Wall time: 54.6 ms\n"
     ]
    }
   ],
   "source": [
    "%%time\n",
    "connector.send_sql_query(sql_schema_query)"
   ],
   "metadata": {
    "collapsed": false,
    "ExecuteTime": {
     "end_time": "2024-03-31T13:37:44.257912Z",
     "start_time": "2024-03-31T13:37:43.457277Z"
    }
   },
   "id": "5fce5a9fcaa87c3d",
   "execution_count": 17
  },
  {
   "cell_type": "code",
   "outputs": [],
   "source": [
    "sql_schema_query = \"\"\"\n",
    "    SET search_path TO credit_scoring;\n",
    "    DROP TABLE IF EXISTS POS_CASH_balance;\n",
    "    CREATE TABLE POS_CASH_balance(\n",
    "       SK_ID_PREV integer,    \n",
    "       SK_ID_CURR integer,\n",
    "       MONTHS_BALANCE smallint,\n",
    "       CNT_INSTALMENT real,\n",
    "       CNT_INSTALMENT_FUTURE real,\n",
    "       NAME_CONTRACT_STATUS varchar(26),\n",
    "       SK_DPD smallint,\n",
    "       SK_DPD_DEF smallint)\n",
    "\"\"\""
   ],
   "metadata": {
    "collapsed": false,
    "ExecuteTime": {
     "end_time": "2024-03-31T13:37:44.286301Z",
     "start_time": "2024-03-31T13:37:43.532068Z"
    }
   },
   "id": "e4f17a9a70de4264",
   "execution_count": 18
  },
  {
   "cell_type": "code",
   "outputs": [
    {
     "name": "stdout",
     "output_type": "stream",
     "text": [
      "CPU times: user 5.89 ms, sys: 4.17 ms, total: 10.1 ms\n",
      "Wall time: 72.7 ms\n"
     ]
    }
   ],
   "source": [
    "%%time\n",
    "connector.send_sql_query(sql_schema_query)"
   ],
   "metadata": {
    "collapsed": false,
    "ExecuteTime": {
     "end_time": "2024-03-31T13:37:44.295370Z",
     "start_time": "2024-03-31T13:37:43.547595Z"
    }
   },
   "id": "29a48739bdfb9f99",
   "execution_count": 19
  },
  {
   "cell_type": "code",
   "outputs": [],
   "source": [
    "sql_schema_query = \"\"\"\n",
    "    SET search_path TO credit_scoring;\n",
    "    DROP TABLE IF EXISTS credit_card_balance;\n",
    "    CREATE TABLE credit_card_balance(\n",
    "       SK_ID_PREV integer,\n",
    "       SK_ID_CURR integer,\n",
    "       MONTHS_BALANCE smallint,\n",
    "       AMT_BALANCE real,\n",
    "       AMT_CREDIT_LIMIT_ACTUAL integer,\n",
    "       AMT_DRAWINGS_ATM_CURRENT real,\n",
    "       AMT_DRAWINGS_CURRENT real,\n",
    "       AMT_DRAWINGS_OTHER_CURRENT real,\n",
    "       AMT_DRAWINGS_POS_CURRENT real,\n",
    "       AMT_INST_MIN_REGULARITY real,\n",
    "       AMT_PAYMENT_CURRENT real,\n",
    "       AMT_PAYMENT_TOTAL_CURRENT real,\n",
    "       AMT_RECEIVABLE_PRINCIPAL real,\n",
    "       AMT_RECIVABLE real,\n",
    "       AMT_TOTAL_RECEIVABLE real,\n",
    "       CNT_DRAWINGS_ATM_CURRENT real,\n",
    "       CNT_DRAWINGS_CURRENT smallint,\n",
    "       CNT_DRAWINGS_OTHER_CURRENT real,\n",
    "       CNT_DRAWINGS_POS_CURRENT real,\n",
    "       CNT_INSTALMENT_MATURE_CUM real,\n",
    "       NAME_CONTRACT_STATUS varchar(18),\n",
    "       SK_DPD smallint,\n",
    "       SK_DPD_DEF smallint)\n",
    "\"\"\""
   ],
   "metadata": {
    "collapsed": false,
    "ExecuteTime": {
     "end_time": "2024-03-31T13:37:44.325208Z",
     "start_time": "2024-03-31T13:37:43.647842Z"
    }
   },
   "id": "48e6501e8c4fd4cd",
   "execution_count": 20
  },
  {
   "cell_type": "code",
   "outputs": [
    {
     "name": "stdout",
     "output_type": "stream",
     "text": [
      "CPU times: user 6.46 ms, sys: 3.81 ms, total: 10.3 ms\n",
      "Wall time: 54 ms\n"
     ]
    }
   ],
   "source": [
    "%%time\n",
    "connector.send_sql_query(sql_schema_query)"
   ],
   "metadata": {
    "collapsed": false,
    "ExecuteTime": {
     "end_time": "2024-03-31T13:37:44.458059Z",
     "start_time": "2024-03-31T13:37:43.667046Z"
    }
   },
   "id": "869854c848469896",
   "execution_count": 21
  },
  {
   "cell_type": "code",
   "outputs": [],
   "source": [
    "sql_schema_query = \"\"\"\n",
    "    SET search_path TO credit_scoring;\n",
    "    DROP TABLE IF EXISTS installments_payments;\n",
    "    CREATE TABLE installments_payments(\n",
    "       SK_ID_PREV integer,\n",
    "       SK_ID_CURR integer,\n",
    "       NUM_INSTALMENT_VERSION real,\n",
    "       NUM_INSTALMENT_NUMBER smallint,\n",
    "       DAYS_INSTALMENT real,\n",
    "       DAYS_ENTRY_PAYMENT real,\n",
    "       AMT_INSTALMENT real,\n",
    "       AMT_PAYMENT real)\n",
    "\n",
    "\"\"\""
   ],
   "metadata": {
    "collapsed": false,
    "ExecuteTime": {
     "end_time": "2024-03-31T13:37:44.501537Z",
     "start_time": "2024-03-31T13:37:43.735646Z"
    }
   },
   "id": "1cffa031265ab96",
   "execution_count": 22
  },
  {
   "cell_type": "code",
   "outputs": [
    {
     "name": "stdout",
     "output_type": "stream",
     "text": [
      "CPU times: user 5.75 ms, sys: 4.09 ms, total: 9.84 ms\n",
      "Wall time: 32.9 ms\n"
     ]
    }
   ],
   "source": [
    "%%time\n",
    "connector.send_sql_query(sql_schema_query)"
   ],
   "metadata": {
    "collapsed": false,
    "ExecuteTime": {
     "end_time": "2024-03-31T13:37:44.837464Z",
     "start_time": "2024-03-31T13:37:43.747592Z"
    }
   },
   "id": "1cb9bb3a06ca3fce",
   "execution_count": 23
  },
  {
   "cell_type": "markdown",
   "source": [
    "## Наполнение БД"
   ],
   "metadata": {
    "collapsed": false
   },
   "id": "f9cb3be77f356927"
  },
  {
   "cell_type": "code",
   "outputs": [],
   "source": [
    "sql_data_query = f\"\"\"\n",
    "SET search_path TO credit_scoring;\n",
    "COPY bureau(\n",
    "    SK_ID_CURR,\n",
    "    SK_ID_BUREAU,\n",
    "    CREDIT_ACTIVE,\n",
    "    CREDIT_CURRENCY,\n",
    "    DAYS_CREDIT,\n",
    "    CREDIT_DAY_OVERDUE,\n",
    "    DAYS_CREDIT_ENDDATE,\n",
    "    DAYS_ENDDATE_FACT,\n",
    "    AMT_CREDIT_MAX_OVERDUE,\n",
    "    CNT_CREDIT_PROLONG,\n",
    "    AMT_CREDIT_SUM,\n",
    "    AMT_CREDIT_SUM_DEBT,\n",
    "    AMT_CREDIT_SUM_LIMIT,\n",
    "    AMT_CREDIT_SUM_OVERDUE,\n",
    "    CREDIT_TYPE,\n",
    "    DAYS_CREDIT_UPDATE,\n",
    "    AMT_ANNUITY\n",
    ")\n",
    "FROM '{db_params.DATA_FULL_PATH}bureau.csv' DELIMITER ',' CSV HEADER;\n",
    "\"\"\""
   ],
   "metadata": {
    "collapsed": false,
    "ExecuteTime": {
     "end_time": "2024-03-31T13:37:44.997892Z",
     "start_time": "2024-03-31T13:37:43.789898Z"
    }
   },
   "id": "2951385a6cd6aa78",
   "execution_count": 24
  },
  {
   "cell_type": "code",
   "outputs": [
    {
     "name": "stdout",
     "output_type": "stream",
     "text": [
      "CPU times: user 7.49 ms, sys: 4.77 ms, total: 12.3 ms\n",
      "Wall time: 27.2 s\n"
     ]
    }
   ],
   "source": [
    "%%time\n",
    "connector.send_sql_query(sql_data_query)"
   ],
   "metadata": {
    "collapsed": false,
    "ExecuteTime": {
     "end_time": "2024-03-31T13:38:11.001288Z",
     "start_time": "2024-03-31T13:37:43.804395Z"
    }
   },
   "id": "729c0da20fc4803f",
   "execution_count": 25
  },
  {
   "cell_type": "code",
   "outputs": [],
   "source": [
    "sql_data_query = f\"\"\"\n",
    "SET search_path TO credit_scoring;\n",
    "COPY application(\n",
    " SK_ID_CURR,\n",
    " NAME_CONTRACT_TYPE,\n",
    " CODE_GENDER,\n",
    " FLAG_OWN_CAR,\n",
    " FLAG_OWN_REALTY,\n",
    " CNT_CHILDREN,\n",
    " AMT_INCOME_TOTAL,\n",
    " AMT_CREDIT,\n",
    " AMT_ANNUITY,\n",
    " AMT_GOODS_PRICE,\n",
    " NAME_TYPE_SUITE,\n",
    " NAME_INCOME_TYPE,\n",
    " NAME_EDUCATION_TYPE,\n",
    " NAME_FAMILY_STATUS,\n",
    " NAME_HOUSING_TYPE,\n",
    " REGION_POPULATION_RELATIVE,\n",
    " DAYS_BIRTH,\n",
    " DAYS_EMPLOYED,\n",
    " DAYS_REGISTRATION,\n",
    " DAYS_ID_PUBLISH,\n",
    " OWN_CAR_AGE,\n",
    " FLAG_MOBIL,\n",
    " FLAG_EMP_PHONE,\n",
    " FLAG_WORK_PHONE,\n",
    " FLAG_CONT_MOBILE,\n",
    " FLAG_PHONE,\n",
    " FLAG_EMAIL,\n",
    " OCCUPATION_TYPE,\n",
    " CNT_FAM_MEMBERS,\n",
    " REGION_RATING_CLIENT,\n",
    " REGION_RATING_CLIENT_W_CITY,\n",
    " WEEKDAY_APPR_PROCESS_START,\n",
    " HOUR_APPR_PROCESS_START,\n",
    " REG_REGION_NOT_LIVE_REGION,\n",
    " REG_REGION_NOT_WORK_REGION,\n",
    " LIVE_REGION_NOT_WORK_REGION,\n",
    " REG_CITY_NOT_LIVE_CITY,\n",
    " REG_CITY_NOT_WORK_CITY,\n",
    " LIVE_CITY_NOT_WORK_CITY,\n",
    " ORGANIZATION_TYPE,\n",
    " EXT_SOURCE_1,\n",
    " EXT_SOURCE_2,\n",
    " EXT_SOURCE_3,\n",
    " APARTMENTS_AVG,\n",
    " BASEMENTAREA_AVG,\n",
    " YEARS_BEGINEXPLUATATION_AVG,\n",
    " YEARS_BUILD_AVG,\n",
    " COMMONAREA_AVG,\n",
    " ELEVATORS_AVG,\n",
    " ENTRANCES_AVG,\n",
    " FLOORSMAX_AVG,\n",
    " FLOORSMIN_AVG,\n",
    " LANDAREA_AVG,\n",
    " LIVINGAPARTMENTS_AVG,\n",
    " LIVINGAREA_AVG,\n",
    " NONLIVINGAPARTMENTS_AVG,\n",
    " NONLIVINGAREA_AVG,\n",
    " APARTMENTS_MODE,\n",
    " BASEMENTAREA_MODE,\n",
    " YEARS_BEGINEXPLUATATION_MODE,\n",
    " YEARS_BUILD_MODE,\n",
    " COMMONAREA_MODE,\n",
    " ELEVATORS_MODE,\n",
    " ENTRANCES_MODE,\n",
    " FLOORSMAX_MODE,\n",
    " FLOORSMIN_MODE,\n",
    " LANDAREA_MODE,\n",
    " LIVINGAPARTMENTS_MODE,\n",
    " LIVINGAREA_MODE,\n",
    " NONLIVINGAPARTMENTS_MODE,\n",
    " NONLIVINGAREA_MODE,\n",
    " APARTMENTS_MEDI,\n",
    " BASEMENTAREA_MEDI,\n",
    " YEARS_BEGINEXPLUATATION_MEDI,\n",
    " YEARS_BUILD_MEDI,\n",
    " COMMONAREA_MEDI,\n",
    " ELEVATORS_MEDI,\n",
    " ENTRANCES_MEDI,\n",
    " FLOORSMAX_MEDI,\n",
    " FLOORSMIN_MEDI,\n",
    " LANDAREA_MEDI,\n",
    " LIVINGAPARTMENTS_MEDI,\n",
    " LIVINGAREA_MEDI,\n",
    " NONLIVINGAPARTMENTS_MEDI,\n",
    " NONLIVINGAREA_MEDI,\n",
    " FONDKAPREMONT_MODE,\n",
    " HOUSETYPE_MODE,\n",
    " TOTALAREA_MODE,\n",
    " WALLSMATERIAL_MODE,\n",
    " EMERGENCYSTATE_MODE,\n",
    " OBS_30_CNT_SOCIAL_CIRCLE,\n",
    " DEF_30_CNT_SOCIAL_CIRCLE,\n",
    " OBS_60_CNT_SOCIAL_CIRCLE,\n",
    " DEF_60_CNT_SOCIAL_CIRCLE,\n",
    " DAYS_LAST_PHONE_CHANGE,\n",
    " FLAG_DOCUMENT_2,\n",
    " FLAG_DOCUMENT_3,\n",
    " FLAG_DOCUMENT_4,\n",
    " FLAG_DOCUMENT_5,\n",
    " FLAG_DOCUMENT_6,\n",
    " FLAG_DOCUMENT_7,\n",
    " FLAG_DOCUMENT_8,\n",
    " FLAG_DOCUMENT_9,\n",
    " FLAG_DOCUMENT_10,\n",
    " FLAG_DOCUMENT_11,\n",
    " FLAG_DOCUMENT_12,\n",
    " FLAG_DOCUMENT_13,\n",
    " FLAG_DOCUMENT_14,\n",
    " FLAG_DOCUMENT_15,\n",
    " FLAG_DOCUMENT_16,\n",
    " FLAG_DOCUMENT_17,\n",
    " FLAG_DOCUMENT_18,\n",
    " FLAG_DOCUMENT_19,\n",
    " FLAG_DOCUMENT_20,\n",
    " FLAG_DOCUMENT_21,\n",
    " AMT_REQ_CREDIT_BUREAU_HOUR,\n",
    " AMT_REQ_CREDIT_BUREAU_DAY,\n",
    " AMT_REQ_CREDIT_BUREAU_WEEK,\n",
    " AMT_REQ_CREDIT_BUREAU_MON,\n",
    " AMT_REQ_CREDIT_BUREAU_QRT,\n",
    " AMT_REQ_CREDIT_BUREAU_YEAR\n",
    ")\n",
    "FROM '{db_params.DATA_FULL_PATH}application_test.csv' DELIMITER ',' CSV HEADER;\n",
    "\"\"\""
   ],
   "metadata": {
    "collapsed": false,
    "ExecuteTime": {
     "end_time": "2024-03-31T13:38:11.189856Z",
     "start_time": "2024-03-31T13:38:11.000576Z"
    }
   },
   "id": "4cfffa3ebd9feb32",
   "execution_count": 26
  },
  {
   "cell_type": "code",
   "outputs": [
    {
     "name": "stdout",
     "output_type": "stream",
     "text": [
      "CPU times: user 6.24 ms, sys: 4.95 ms, total: 11.2 ms\n",
      "Wall time: 2.5 s\n"
     ]
    }
   ],
   "source": [
    "%%time\n",
    "connector.send_sql_query(sql_data_query)"
   ],
   "metadata": {
    "collapsed": false,
    "ExecuteTime": {
     "end_time": "2024-03-31T13:38:13.541674Z",
     "start_time": "2024-03-31T13:38:11.020050Z"
    }
   },
   "id": "3b028c249ade6054",
   "execution_count": 27
  },
  {
   "cell_type": "code",
   "outputs": [],
   "source": [
    "sql_data_query = f\"\"\"\n",
    "SET search_path TO credit_scoring;\n",
    "COPY application(\n",
    " SK_ID_CURR,\n",
    " TARGET,\n",
    " NAME_CONTRACT_TYPE,\n",
    " CODE_GENDER,\n",
    " FLAG_OWN_CAR,\n",
    " FLAG_OWN_REALTY,\n",
    " CNT_CHILDREN,\n",
    " AMT_INCOME_TOTAL,\n",
    " AMT_CREDIT,\n",
    " AMT_ANNUITY,\n",
    " AMT_GOODS_PRICE,\n",
    " NAME_TYPE_SUITE,\n",
    " NAME_INCOME_TYPE,\n",
    " NAME_EDUCATION_TYPE,\n",
    " NAME_FAMILY_STATUS,\n",
    " NAME_HOUSING_TYPE,\n",
    " REGION_POPULATION_RELATIVE,\n",
    " DAYS_BIRTH,\n",
    " DAYS_EMPLOYED,\n",
    " DAYS_REGISTRATION,\n",
    " DAYS_ID_PUBLISH,\n",
    " OWN_CAR_AGE,\n",
    " FLAG_MOBIL,\n",
    " FLAG_EMP_PHONE,\n",
    " FLAG_WORK_PHONE,\n",
    " FLAG_CONT_MOBILE,\n",
    " FLAG_PHONE,\n",
    " FLAG_EMAIL,\n",
    " OCCUPATION_TYPE,\n",
    " CNT_FAM_MEMBERS,\n",
    " REGION_RATING_CLIENT,\n",
    " REGION_RATING_CLIENT_W_CITY,\n",
    " WEEKDAY_APPR_PROCESS_START,\n",
    " HOUR_APPR_PROCESS_START,\n",
    " REG_REGION_NOT_LIVE_REGION,\n",
    " REG_REGION_NOT_WORK_REGION,\n",
    " LIVE_REGION_NOT_WORK_REGION,\n",
    " REG_CITY_NOT_LIVE_CITY,\n",
    " REG_CITY_NOT_WORK_CITY,\n",
    " LIVE_CITY_NOT_WORK_CITY,\n",
    " ORGANIZATION_TYPE,\n",
    " EXT_SOURCE_1,\n",
    " EXT_SOURCE_2,\n",
    " EXT_SOURCE_3,\n",
    " APARTMENTS_AVG,\n",
    " BASEMENTAREA_AVG,\n",
    " YEARS_BEGINEXPLUATATION_AVG,\n",
    " YEARS_BUILD_AVG,\n",
    " COMMONAREA_AVG,\n",
    " ELEVATORS_AVG,\n",
    " ENTRANCES_AVG,\n",
    " FLOORSMAX_AVG,\n",
    " FLOORSMIN_AVG,\n",
    " LANDAREA_AVG,\n",
    " LIVINGAPARTMENTS_AVG,\n",
    " LIVINGAREA_AVG,\n",
    " NONLIVINGAPARTMENTS_AVG,\n",
    " NONLIVINGAREA_AVG,\n",
    " APARTMENTS_MODE,\n",
    " BASEMENTAREA_MODE,\n",
    " YEARS_BEGINEXPLUATATION_MODE,\n",
    " YEARS_BUILD_MODE,\n",
    " COMMONAREA_MODE,\n",
    " ELEVATORS_MODE,\n",
    " ENTRANCES_MODE,\n",
    " FLOORSMAX_MODE,\n",
    " FLOORSMIN_MODE,\n",
    " LANDAREA_MODE,\n",
    " LIVINGAPARTMENTS_MODE,\n",
    " LIVINGAREA_MODE,\n",
    " NONLIVINGAPARTMENTS_MODE,\n",
    " NONLIVINGAREA_MODE,\n",
    " APARTMENTS_MEDI,\n",
    " BASEMENTAREA_MEDI,\n",
    " YEARS_BEGINEXPLUATATION_MEDI,\n",
    " YEARS_BUILD_MEDI,\n",
    " COMMONAREA_MEDI,\n",
    " ELEVATORS_MEDI,\n",
    " ENTRANCES_MEDI,\n",
    " FLOORSMAX_MEDI,\n",
    " FLOORSMIN_MEDI,\n",
    " LANDAREA_MEDI,\n",
    " LIVINGAPARTMENTS_MEDI,\n",
    " LIVINGAREA_MEDI,\n",
    " NONLIVINGAPARTMENTS_MEDI,\n",
    " NONLIVINGAREA_MEDI,\n",
    " FONDKAPREMONT_MODE,\n",
    " HOUSETYPE_MODE,\n",
    " TOTALAREA_MODE,\n",
    " WALLSMATERIAL_MODE,\n",
    " EMERGENCYSTATE_MODE,\n",
    " OBS_30_CNT_SOCIAL_CIRCLE,\n",
    " DEF_30_CNT_SOCIAL_CIRCLE,\n",
    " OBS_60_CNT_SOCIAL_CIRCLE,\n",
    " DEF_60_CNT_SOCIAL_CIRCLE,\n",
    " DAYS_LAST_PHONE_CHANGE,\n",
    " FLAG_DOCUMENT_2,\n",
    " FLAG_DOCUMENT_3,\n",
    " FLAG_DOCUMENT_4,\n",
    " FLAG_DOCUMENT_5,\n",
    " FLAG_DOCUMENT_6,\n",
    " FLAG_DOCUMENT_7,\n",
    " FLAG_DOCUMENT_8,\n",
    " FLAG_DOCUMENT_9,\n",
    " FLAG_DOCUMENT_10,\n",
    " FLAG_DOCUMENT_11,\n",
    " FLAG_DOCUMENT_12,\n",
    " FLAG_DOCUMENT_13,\n",
    " FLAG_DOCUMENT_14,\n",
    " FLAG_DOCUMENT_15,\n",
    " FLAG_DOCUMENT_16,\n",
    " FLAG_DOCUMENT_17,\n",
    " FLAG_DOCUMENT_18,\n",
    " FLAG_DOCUMENT_19,\n",
    " FLAG_DOCUMENT_20,\n",
    " FLAG_DOCUMENT_21,\n",
    " AMT_REQ_CREDIT_BUREAU_HOUR,\n",
    " AMT_REQ_CREDIT_BUREAU_DAY,\n",
    " AMT_REQ_CREDIT_BUREAU_WEEK,\n",
    " AMT_REQ_CREDIT_BUREAU_MON,\n",
    " AMT_REQ_CREDIT_BUREAU_QRT,\n",
    " AMT_REQ_CREDIT_BUREAU_YEAR\n",
    ")\n",
    "FROM '{db_params.DATA_FULL_PATH}application_train.csv' DELIMITER ',' CSV HEADER;\n",
    "\"\"\""
   ],
   "metadata": {
    "collapsed": false,
    "ExecuteTime": {
     "end_time": "2024-03-31T13:38:13.572276Z",
     "start_time": "2024-03-31T13:38:13.546655Z"
    }
   },
   "id": "915fb809b568064e",
   "execution_count": 28
  },
  {
   "cell_type": "code",
   "outputs": [
    {
     "name": "stdout",
     "output_type": "stream",
     "text": [
      "CPU times: user 8.06 ms, sys: 4.95 ms, total: 13 ms\n",
      "Wall time: 17.8 s\n"
     ]
    }
   ],
   "source": [
    "%%time\n",
    "connector.send_sql_query(sql_data_query)"
   ],
   "metadata": {
    "collapsed": false,
    "ExecuteTime": {
     "end_time": "2024-03-31T13:38:31.551979Z",
     "start_time": "2024-03-31T13:38:13.562860Z"
    }
   },
   "id": "f99b542006c7903c",
   "execution_count": 29
  },
  {
   "cell_type": "code",
   "outputs": [],
   "source": [
    "sql_data_query = f\"\"\"\n",
    "SET search_path TO credit_scoring;\n",
    "COPY installments_payments(\n",
    "  SK_ID_PREV,\n",
    "  SK_ID_CURR,\n",
    "  NUM_INSTALMENT_VERSION,\n",
    "  NUM_INSTALMENT_NUMBER,\n",
    "  DAYS_INSTALMENT,\n",
    "  DAYS_ENTRY_PAYMENT,\n",
    "  AMT_INSTALMENT,\n",
    "  AMT_PAYMENT\n",
    ")\n",
    "FROM '{db_params.DATA_FULL_PATH}installments_payments.csv' DELIMITER ',' CSV HEADER;\n",
    "\"\"\""
   ],
   "metadata": {
    "collapsed": false,
    "ExecuteTime": {
     "end_time": "2024-03-31T13:38:31.575254Z",
     "start_time": "2024-03-31T13:38:31.369618Z"
    }
   },
   "id": "34c13fd8079cf462",
   "execution_count": 30
  },
  {
   "cell_type": "code",
   "outputs": [
    {
     "name": "stdout",
     "output_type": "stream",
     "text": [
      "CPU times: user 15.2 ms, sys: 10.4 ms, total: 25.6 ms\n",
      "Wall time: 1min 50s\n"
     ]
    }
   ],
   "source": [
    "%%time\n",
    "connector.send_sql_query(sql_data_query)"
   ],
   "metadata": {
    "collapsed": false,
    "ExecuteTime": {
     "end_time": "2024-03-31T13:40:22.054199Z",
     "start_time": "2024-03-31T13:38:31.423502Z"
    }
   },
   "id": "9acfeb304a56a77a",
   "execution_count": 31
  },
  {
   "cell_type": "code",
   "outputs": [],
   "source": [
    "sql_data_query = f\"\"\"\n",
    "SET search_path TO credit_scoring;\n",
    "COPY credit_card_balance(\n",
    "  SK_ID_PREV,\n",
    "  SK_ID_CURR,\n",
    "  MONTHS_BALANCE,\n",
    "  AMT_BALANCE,\n",
    "  AMT_CREDIT_LIMIT_ACTUAL,\n",
    "  AMT_DRAWINGS_ATM_CURRENT,\n",
    "  AMT_DRAWINGS_CURRENT,\n",
    "  AMT_DRAWINGS_OTHER_CURRENT,\n",
    "  AMT_DRAWINGS_POS_CURRENT,\n",
    "  AMT_INST_MIN_REGULARITY,\n",
    "  AMT_PAYMENT_CURRENT,\n",
    "  AMT_PAYMENT_TOTAL_CURRENT,\n",
    "  AMT_RECEIVABLE_PRINCIPAL,\n",
    "  AMT_RECIVABLE,\n",
    "  AMT_TOTAL_RECEIVABLE,\n",
    "  CNT_DRAWINGS_ATM_CURRENT,\n",
    "  CNT_DRAWINGS_CURRENT,\n",
    "  CNT_DRAWINGS_OTHER_CURRENT,\n",
    "  CNT_DRAWINGS_POS_CURRENT,\n",
    "  CNT_INSTALMENT_MATURE_CUM,\n",
    "  NAME_CONTRACT_STATUS,\n",
    "  SK_DPD,\n",
    "  SK_DPD_DEF\n",
    ")\n",
    "FROM '{db_params.DATA_FULL_PATH}credit_card_balance.csv' DELIMITER ',' CSV HEADER;\n",
    "\"\"\""
   ],
   "metadata": {
    "collapsed": false,
    "ExecuteTime": {
     "end_time": "2024-03-31T13:40:22.309332Z",
     "start_time": "2024-03-31T13:40:22.052050Z"
    }
   },
   "id": "86ddbefc687e00c1",
   "execution_count": 32
  },
  {
   "cell_type": "code",
   "outputs": [
    {
     "name": "stdout",
     "output_type": "stream",
     "text": [
      "CPU times: user 9.83 ms, sys: 10.8 ms, total: 20.6 ms\n",
      "Wall time: 38.7 s\n"
     ]
    }
   ],
   "source": [
    "%%time\n",
    "connector.send_sql_query(sql_data_query)"
   ],
   "metadata": {
    "collapsed": false,
    "ExecuteTime": {
     "end_time": "2024-03-31T13:41:00.838218Z",
     "start_time": "2024-03-31T13:40:22.124991Z"
    }
   },
   "id": "a05a8726e8ba3013",
   "execution_count": 33
  },
  {
   "cell_type": "code",
   "outputs": [],
   "source": [
    "sql_data_query = f\"\"\"\n",
    "SET search_path TO credit_scoring;\n",
    "COPY POS_CASH_balance(\n",
    "  SK_ID_PREV,\n",
    "  SK_ID_CURR,\n",
    "  MONTHS_BALANCE,\n",
    "  CNT_INSTALMENT,\n",
    "  CNT_INSTALMENT_FUTURE,\n",
    "  NAME_CONTRACT_STATUS,\n",
    "  SK_DPD,\n",
    "  SK_DPD_DEF\n",
    ")\n",
    "FROM '{db_params.DATA_FULL_PATH}POS_CASH_balance.csv' DELIMITER ',' CSV HEADER;\n",
    "\"\"\""
   ],
   "metadata": {
    "collapsed": false,
    "ExecuteTime": {
     "end_time": "2024-03-31T13:41:00.854394Z",
     "start_time": "2024-03-31T13:41:00.840776Z"
    }
   },
   "id": "34ab5743d74c5465",
   "execution_count": 34
  },
  {
   "cell_type": "code",
   "outputs": [
    {
     "name": "stdout",
     "output_type": "stream",
     "text": [
      "CPU times: user 4.81 ms, sys: 3.82 ms, total: 8.63 ms\n",
      "Wall time: 33.7 s\n"
     ]
    }
   ],
   "source": [
    "%%time\n",
    "connector.send_sql_query(sql_data_query)"
   ],
   "metadata": {
    "collapsed": false,
    "ExecuteTime": {
     "end_time": "2024-03-31T13:41:34.592956Z",
     "start_time": "2024-03-31T13:41:00.856167Z"
    }
   },
   "id": "43aecbdb29a4a996",
   "execution_count": 35
  },
  {
   "cell_type": "code",
   "outputs": [],
   "source": [
    "sql_data_query = f\"\"\"\n",
    "SET search_path TO credit_scoring;\n",
    "COPY previous_application(\n",
    "  SK_ID_PREV,\n",
    "  SK_ID_CURR,\n",
    "  NAME_CONTRACT_TYPE,\n",
    "  AMT_ANNUITY,\n",
    "  AMT_APPLICATION,\n",
    "  AMT_CREDIT,\n",
    "  AMT_DOWN_PAYMENT,\n",
    "  AMT_GOODS_PRICE,\n",
    "  WEEKDAY_APPR_PROCESS_START,\n",
    "  HOUR_APPR_PROCESS_START,\n",
    "  FLAG_LAST_APPL_PER_CONTRACT,\n",
    "  NFLAG_LAST_APPL_IN_DAY,\n",
    "  RATE_DOWN_PAYMENT,\n",
    "  RATE_INTEREST_PRIMARY,\n",
    "  RATE_INTEREST_PRIVILEGED,\n",
    "  NAME_CASH_LOAN_PURPOSE,\n",
    "  NAME_CONTRACT_STATUS,\n",
    "  DAYS_DECISION,\n",
    "  NAME_PAYMENT_TYPE,\n",
    "  CODE_REJECT_REASON,\n",
    "  NAME_TYPE_SUITE,\n",
    "  NAME_CLIENT_TYPE,\n",
    "  NAME_GOODS_CATEGORY,\n",
    "  NAME_PORTFOLIO,\n",
    "  NAME_PRODUCT_TYPE,\n",
    "  CHANNEL_TYPE,\n",
    "  SELLERPLACE_AREA,\n",
    "  NAME_SELLER_INDUSTRY,\n",
    "  CNT_PAYMENT,\n",
    "  NAME_YIELD_GROUP,\n",
    "  PRODUCT_COMBINATION,\n",
    "  DAYS_FIRST_DRAWING,\n",
    "  DAYS_FIRST_DUE,\n",
    "  DAYS_LAST_DUE_1ST_VERSION,\n",
    "  DAYS_LAST_DUE,\n",
    "  DAYS_TERMINATION,\n",
    "  NFLAG_INSURED_ON_APPROVAL\n",
    ")\n",
    "FROM '{db_params.DATA_FULL_PATH}previous_application.csv' DELIMITER ',' CSV HEADER;\n",
    "\"\"\""
   ],
   "metadata": {
    "collapsed": false,
    "ExecuteTime": {
     "end_time": "2024-03-31T13:41:34.724941Z",
     "start_time": "2024-03-31T13:41:34.593235Z"
    }
   },
   "id": "2efda875c8b4201e",
   "execution_count": 36
  },
  {
   "cell_type": "code",
   "outputs": [
    {
     "name": "stdout",
     "output_type": "stream",
     "text": [
      "CPU times: user 7.55 ms, sys: 4.1 ms, total: 11.6 ms\n",
      "Wall time: 28.2 s\n"
     ]
    }
   ],
   "source": [
    "%%time\n",
    "connector.send_sql_query(sql_data_query)"
   ],
   "metadata": {
    "collapsed": false,
    "ExecuteTime": {
     "end_time": "2024-03-31T13:42:02.873876Z",
     "start_time": "2024-03-31T13:41:34.609986Z"
    }
   },
   "id": "6f3ea32304f5548e",
   "execution_count": 37
  },
  {
   "cell_type": "code",
   "outputs": [],
   "source": [
    "sql_data_query = f\"\"\"\n",
    "SET search_path TO credit_scoring;\n",
    "COPY bureau_balance(\n",
    "SK_ID_BUREAU,\n",
    "MONTHS_BALANCE,\n",
    "STATUS\n",
    ")\n",
    "FROM '{db_params.DATA_FULL_PATH}bureau_balance.csv' DELIMITER ',' CSV HEADER;\n",
    "\"\"\""
   ],
   "metadata": {
    "collapsed": false,
    "ExecuteTime": {
     "end_time": "2024-03-31T13:42:02.936396Z",
     "start_time": "2024-03-31T13:42:02.870405Z"
    }
   },
   "id": "27eb6e67cea2e966",
   "execution_count": 38
  },
  {
   "cell_type": "code",
   "outputs": [
    {
     "name": "stdout",
     "output_type": "stream",
     "text": [
      "CPU times: user 8.89 ms, sys: 4.23 ms, total: 13.1 ms\n",
      "Wall time: 42.6 s\n"
     ]
    }
   ],
   "source": [
    "%%time\n",
    "connector.send_sql_query(sql_data_query)"
   ],
   "metadata": {
    "collapsed": false,
    "ExecuteTime": {
     "end_time": "2024-03-31T13:42:45.531115Z",
     "start_time": "2024-03-31T13:42:02.885751Z"
    }
   },
   "id": "fada1bfc53853a5a",
   "execution_count": 39
  },
  {
   "cell_type": "markdown",
   "source": [
    "## Создание связей в таблицах"
   ],
   "metadata": {
    "collapsed": false
   },
   "id": "971d00299a85105"
  },
  {
   "cell_type": "code",
   "outputs": [
    {
     "name": "stdout",
     "output_type": "stream",
     "text": [
      "CPU times: user 5.77 ms, sys: 5.69 ms, total: 11.5 ms\n",
      "Wall time: 13.2 s\n"
     ]
    }
   ],
   "source": [
    "%%time\n",
    "sql_schema_query = \"\"\"\n",
    "SET search_path TO credit_scoring;\n",
    "\n",
    "-- Application table\n",
    "ALTER TABLE application ADD PRIMARY KEY (SK_ID_CURR);\n",
    "\n",
    "-- Bureau table\n",
    "ALTER TABLE bureau ADD PRIMARY KEY (SK_ID_BUREAU);\n",
    "ALTER TABLE bureau ADD CONSTRAINT fk_bureau_application FOREIGN KEY (SK_ID_CURR) REFERENCES application(SK_ID_CURR);\n",
    "\"\"\"\n",
    "connector.send_sql_query(sql_schema_query)"
   ],
   "metadata": {
    "collapsed": false,
    "ExecuteTime": {
     "end_time": "2024-03-31T13:42:58.692484Z",
     "start_time": "2024-03-31T13:42:45.528391Z"
    }
   },
   "id": "567f390768bf49e6",
   "execution_count": 40
  },
  {
   "cell_type": "code",
   "outputs": [
    {
     "name": "stdout",
     "output_type": "stream",
     "text": [
      "CPU times: user 5.09 ms, sys: 3.8 ms, total: 8.89 ms\n",
      "Wall time: 15.1 s\n"
     ]
    }
   ],
   "source": [
    "%%time\n",
    "sql_schema_query = \"\"\"\n",
    "SET search_path TO credit_scoring;\n",
    "-- Previous Application table\n",
    "ALTER TABLE previous_application ADD PRIMARY KEY (SK_ID_PREV);\n",
    "ALTER TABLE previous_application ADD CONSTRAINT fk_previous_application_application FOREIGN KEY (SK_ID_CURR) REFERENCES application(SK_ID_CURR);\n",
    "\"\"\"\n",
    "connector.send_sql_query(sql_schema_query)"
   ],
   "metadata": {
    "collapsed": false,
    "ExecuteTime": {
     "end_time": "2024-03-31T13:43:13.782562Z",
     "start_time": "2024-03-31T13:42:58.690932Z"
    }
   },
   "id": "cbc590a0829f977c",
   "execution_count": 41
  },
  {
   "cell_type": "code",
   "outputs": [
    {
     "name": "stdout",
     "output_type": "stream",
     "text": [
      "CPU times: user 6.98 ms, sys: 5.23 ms, total: 12.2 ms\n",
      "Wall time: 31.1 s\n"
     ]
    }
   ],
   "source": [
    "%%time\n",
    "sql_schema_query = \"\"\"\n",
    "SET search_path TO credit_scoring;\n",
    "ALTER TABLE pos_cash_balance ADD CONSTRAINT fk_pos_cash_balance_application FOREIGN KEY (SK_ID_CURR) REFERENCES application(SK_ID_CURR);\n",
    "\"\"\"\n",
    "connector.send_sql_query(sql_schema_query)"
   ],
   "metadata": {
    "collapsed": false,
    "ExecuteTime": {
     "end_time": "2024-03-31T13:43:44.915495Z",
     "start_time": "2024-03-31T13:43:13.777888Z"
    }
   },
   "id": "b064a6a80909adf0",
   "execution_count": 42
  },
  {
   "cell_type": "code",
   "outputs": [
    {
     "name": "stdout",
     "output_type": "stream",
     "text": [
      "CPU times: user 7.65 ms, sys: 5.75 ms, total: 13.4 ms\n",
      "Wall time: 9.32 s\n"
     ]
    }
   ],
   "source": [
    "%%time\n",
    "sql_schema_query = \"\"\"\n",
    "SET search_path TO credit_scoring;\n",
    "ALTER TABLE credit_card_balance ADD CONSTRAINT fk_credit_card_balance_application FOREIGN KEY (SK_ID_CURR) REFERENCES application(SK_ID_CURR);\n",
    "\"\"\"\n",
    "connector.send_sql_query(sql_schema_query)"
   ],
   "metadata": {
    "collapsed": false,
    "ExecuteTime": {
     "end_time": "2024-03-31T13:43:54.235510Z",
     "start_time": "2024-03-31T13:43:44.904987Z"
    }
   },
   "id": "92f147610e6d1ee5",
   "execution_count": 43
  },
  {
   "cell_type": "code",
   "outputs": [
    {
     "name": "stdout",
     "output_type": "stream",
     "text": [
      "CPU times: user 6.65 ms, sys: 5.13 ms, total: 11.8 ms\n",
      "Wall time: 23.7 s\n"
     ]
    }
   ],
   "source": [
    "%%time\n",
    "sql_schema_query = \"\"\"\n",
    "SET search_path TO credit_scoring;\n",
    "ALTER TABLE installments_payments ADD CONSTRAINT fk_installments_payments_application FOREIGN KEY (SK_ID_CURR) REFERENCES application(SK_ID_CURR);\n",
    "\"\"\"\n",
    "connector.send_sql_query(sql_schema_query)"
   ],
   "metadata": {
    "collapsed": false,
    "ExecuteTime": {
     "end_time": "2024-03-31T13:44:17.936748Z",
     "start_time": "2024-03-31T13:43:54.234344Z"
    }
   },
   "id": "7be74e2b439ac57d",
   "execution_count": 44
  },
  {
   "cell_type": "markdown",
   "source": [
    "## Задания"
   ],
   "metadata": {
    "collapsed": false
   },
   "id": "771279b14404c309"
  },
  {
   "cell_type": "markdown",
   "source": [
    "Вывести средний доход среди всех клиентов"
   ],
   "metadata": {
    "collapsed": false
   },
   "id": "527db751b424461b"
  },
  {
   "cell_type": "code",
   "outputs": [
    {
     "name": "stderr",
     "output_type": "stream",
     "text": [
      "/Users/vi/DataspellProjects/shift/src/app/utils/db_connector.py:37: UserWarning: pandas only supports SQLAlchemy connectable (engine/connection) or database string URI or sqlite3 DBAPI2 connection. Other DBAPI2 objects are not tested. Please consider using SQLAlchemy.\n",
      "  df = pd.read_sql(query, conn)\n"
     ]
    },
    {
     "name": "stdout",
     "output_type": "stream",
     "text": [
      "CPU times: user 12.3 ms, sys: 27.3 ms, total: 39.6 ms\n",
      "Wall time: 2.22 s\n"
     ]
    },
    {
     "data": {
      "text/plain": "   average_income\n0    170116.05986",
      "text/html": "<div>\n<style scoped>\n    .dataframe tbody tr th:only-of-type {\n        vertical-align: middle;\n    }\n\n    .dataframe tbody tr th {\n        vertical-align: top;\n    }\n\n    .dataframe thead th {\n        text-align: right;\n    }\n</style>\n<table border=\"1\" class=\"dataframe\">\n  <thead>\n    <tr style=\"text-align: right;\">\n      <th></th>\n      <th>average_income</th>\n    </tr>\n  </thead>\n  <tbody>\n    <tr>\n      <th>0</th>\n      <td>170116.05986</td>\n    </tr>\n  </tbody>\n</table>\n</div>"
     },
     "execution_count": 45,
     "metadata": {},
     "output_type": "execute_result"
    }
   ],
   "source": [
    "%%time\n",
    "sql_query = \"\"\"\n",
    "SET search_path TO credit_scoring;\n",
    "SELECT AVG(AMT_INCOME_TOTAL) AS average_income FROM application\n",
    "\"\"\"\n",
    "connector.get_df_from_query(sql_query)"
   ],
   "metadata": {
    "collapsed": false,
    "ExecuteTime": {
     "end_time": "2024-03-31T13:44:20.216551Z",
     "start_time": "2024-03-31T13:44:17.936193Z"
    }
   },
   "id": "7af780d1b1495946",
   "execution_count": 45
  },
  {
   "cell_type": "markdown",
   "source": [
    "вывести минимальный и максимальный возраст среди всех клиентов"
   ],
   "metadata": {
    "collapsed": false
   },
   "id": "609e42ddfa47336a"
  },
  {
   "cell_type": "code",
   "outputs": [
    {
     "name": "stderr",
     "output_type": "stream",
     "text": [
      "/Users/vi/DataspellProjects/shift/src/app/utils/db_connector.py:37: UserWarning: pandas only supports SQLAlchemy connectable (engine/connection) or database string URI or sqlite3 DBAPI2 connection. Other DBAPI2 objects are not tested. Please consider using SQLAlchemy.\n",
      "  df = pd.read_sql(query, conn)\n"
     ]
    },
    {
     "name": "stdout",
     "output_type": "stream",
     "text": [
      "CPU times: user 5.52 ms, sys: 2.9 ms, total: 8.42 ms\n",
      "Wall time: 371 ms\n"
     ]
    },
    {
     "data": {
      "text/plain": "   min_age  max_age\n0       20       69",
      "text/html": "<div>\n<style scoped>\n    .dataframe tbody tr th:only-of-type {\n        vertical-align: middle;\n    }\n\n    .dataframe tbody tr th {\n        vertical-align: top;\n    }\n\n    .dataframe thead th {\n        text-align: right;\n    }\n</style>\n<table border=\"1\" class=\"dataframe\">\n  <thead>\n    <tr style=\"text-align: right;\">\n      <th></th>\n      <th>min_age</th>\n      <th>max_age</th>\n    </tr>\n  </thead>\n  <tbody>\n    <tr>\n      <th>0</th>\n      <td>20</td>\n      <td>69</td>\n    </tr>\n  </tbody>\n</table>\n</div>"
     },
     "execution_count": 46,
     "metadata": {},
     "output_type": "execute_result"
    }
   ],
   "source": [
    "%%time\n",
    "sql_query = \"\"\"\n",
    "SET search_path TO credit_scoring;\n",
    "SELECT\n",
    "MIN(ABS(DAYS_BIRTH)/365) AS min_age,\n",
    "MAX(ABS(DAYS_BIRTH)/365) AS max_age\n",
    "FROM credit_scoring.application;\n",
    "\"\"\"\n",
    "connector.get_df_from_query(sql_query)"
   ],
   "metadata": {
    "collapsed": false,
    "ExecuteTime": {
     "end_time": "2024-03-31T13:44:20.647672Z",
     "start_time": "2024-03-31T13:44:20.209443Z"
    }
   },
   "id": "ad1132125c05a7df",
   "execution_count": 46
  },
  {
   "cell_type": "markdown",
   "source": [
    "Вывести количество мужчин и женщин"
   ],
   "metadata": {
    "collapsed": false
   },
   "id": "6ecc9c7ba9b8867a"
  },
  {
   "cell_type": "code",
   "outputs": [
    {
     "name": "stderr",
     "output_type": "stream",
     "text": [
      "/Users/vi/DataspellProjects/shift/src/app/utils/db_connector.py:37: UserWarning: pandas only supports SQLAlchemy connectable (engine/connection) or database string URI or sqlite3 DBAPI2 connection. Other DBAPI2 objects are not tested. Please consider using SQLAlchemy.\n",
      "  df = pd.read_sql(query, conn)\n"
     ]
    },
    {
     "name": "stdout",
     "output_type": "stream",
     "text": [
      "CPU times: user 8.25 ms, sys: 4.37 ms, total: 12.6 ms\n",
      "Wall time: 518 ms\n"
     ]
    },
    {
     "data": {
      "text/plain": "  code_gender   total\n0           F  235126\n1           M  121125",
      "text/html": "<div>\n<style scoped>\n    .dataframe tbody tr th:only-of-type {\n        vertical-align: middle;\n    }\n\n    .dataframe tbody tr th {\n        vertical-align: top;\n    }\n\n    .dataframe thead th {\n        text-align: right;\n    }\n</style>\n<table border=\"1\" class=\"dataframe\">\n  <thead>\n    <tr style=\"text-align: right;\">\n      <th></th>\n      <th>code_gender</th>\n      <th>total</th>\n    </tr>\n  </thead>\n  <tbody>\n    <tr>\n      <th>0</th>\n      <td>F</td>\n      <td>235126</td>\n    </tr>\n    <tr>\n      <th>1</th>\n      <td>M</td>\n      <td>121125</td>\n    </tr>\n  </tbody>\n</table>\n</div>"
     },
     "execution_count": 47,
     "metadata": {},
     "output_type": "execute_result"
    }
   ],
   "source": [
    "%%time\n",
    "sql_query = \"\"\"\n",
    "SET search_path TO credit_scoring;\n",
    "SELECT\n",
    "    CODE_GENDER,\n",
    "    COUNT(*) AS total\n",
    "FROM credit_scoring.application\n",
    "WHERE CODE_GENDER IN ('M', 'F')\n",
    "GROUP BY CODE_GENDER;\n",
    "\"\"\"\n",
    "connector.get_df_from_query(sql_query)"
   ],
   "metadata": {
    "collapsed": false,
    "ExecuteTime": {
     "end_time": "2024-03-31T13:44:21.255462Z",
     "start_time": "2024-03-31T13:44:20.607462Z"
    }
   },
   "id": "48efab224861642f",
   "execution_count": 47
  },
  {
   "cell_type": "markdown",
   "source": [
    "вывести общую сумму, количество и среднюю сумму, запрошенную клиентами в кредит с авто и без"
   ],
   "metadata": {
    "collapsed": false
   },
   "id": "fd575bd3be1431f8"
  },
  {
   "cell_type": "code",
   "outputs": [
    {
     "name": "stderr",
     "output_type": "stream",
     "text": [
      "/Users/vi/DataspellProjects/shift/src/app/utils/db_connector.py:37: UserWarning: pandas only supports SQLAlchemy connectable (engine/connection) or database string URI or sqlite3 DBAPI2 connection. Other DBAPI2 objects are not tested. Please consider using SQLAlchemy.\n",
      "  df = pd.read_sql(query, conn)\n"
     ]
    },
    {
     "name": "stdout",
     "output_type": "stream",
     "text": [
      "CPU times: user 8.43 ms, sys: 3.94 ms, total: 12.4 ms\n",
      "Wall time: 433 ms\n"
     ]
    },
    {
     "data": {
      "text/plain": "  flag_own_car  total_loans  total_amount  average_amount\n0            N       235235  1.304038e+11   554317.381867\n1            Y       121020  7.900278e+10   652786.569683",
      "text/html": "<div>\n<style scoped>\n    .dataframe tbody tr th:only-of-type {\n        vertical-align: middle;\n    }\n\n    .dataframe tbody tr th {\n        vertical-align: top;\n    }\n\n    .dataframe thead th {\n        text-align: right;\n    }\n</style>\n<table border=\"1\" class=\"dataframe\">\n  <thead>\n    <tr style=\"text-align: right;\">\n      <th></th>\n      <th>flag_own_car</th>\n      <th>total_loans</th>\n      <th>total_amount</th>\n      <th>average_amount</th>\n    </tr>\n  </thead>\n  <tbody>\n    <tr>\n      <th>0</th>\n      <td>N</td>\n      <td>235235</td>\n      <td>1.304038e+11</td>\n      <td>554317.381867</td>\n    </tr>\n    <tr>\n      <th>1</th>\n      <td>Y</td>\n      <td>121020</td>\n      <td>7.900278e+10</td>\n      <td>652786.569683</td>\n    </tr>\n  </tbody>\n</table>\n</div>"
     },
     "execution_count": 48,
     "metadata": {},
     "output_type": "execute_result"
    }
   ],
   "source": [
    "%%time\n",
    "sql_query = \"\"\"\n",
    "SET search_path TO credit_scoring;\n",
    "SELECT\n",
    "    FLAG_OWN_CAR,\n",
    "    COUNT(*) AS total_loans,\n",
    "    SUM(AMT_CREDIT) AS total_amount,\n",
    "    AVG(AMT_CREDIT) AS average_amount\n",
    "FROM credit_scoring.application\n",
    "GROUP BY FLAG_OWN_CAR;\n",
    "\"\"\"\n",
    "connector.get_df_from_query(sql_query)"
   ],
   "metadata": {
    "collapsed": false,
    "ExecuteTime": {
     "end_time": "2024-03-31T13:44:21.874821Z",
     "start_time": "2024-03-31T13:44:21.150290Z"
    }
   },
   "id": "776d7e57e5aca51e",
   "execution_count": 48
  },
  {
   "cell_type": "markdown",
   "source": [
    "вывести доли клиентов с различным образованием"
   ],
   "metadata": {
    "collapsed": false
   },
   "id": "5a9e68738ce29f6f"
  },
  {
   "cell_type": "code",
   "outputs": [
    {
     "name": "stderr",
     "output_type": "stream",
     "text": [
      "/Users/vi/DataspellProjects/shift/src/app/utils/db_connector.py:37: UserWarning: pandas only supports SQLAlchemy connectable (engine/connection) or database string URI or sqlite3 DBAPI2 connection. Other DBAPI2 objects are not tested. Please consider using SQLAlchemy.\n",
      "  df = pd.read_sql(query, conn)\n"
     ]
    },
    {
     "name": "stdout",
     "output_type": "stream",
     "text": [
      "CPU times: user 8.97 ms, sys: 5.38 ms, total: 14.4 ms\n",
      "Wall time: 518 ms\n"
     ]
    },
    {
     "data": {
      "text/plain": "             name_education_type  proportion\n0  Secondary / secondary special    0.708422\n1               Higher education    0.245271\n2              Incomplete higher    0.033687\n3                Lower secondary    0.012045\n4                Academic degree    0.000575",
      "text/html": "<div>\n<style scoped>\n    .dataframe tbody tr th:only-of-type {\n        vertical-align: middle;\n    }\n\n    .dataframe tbody tr th {\n        vertical-align: top;\n    }\n\n    .dataframe thead th {\n        text-align: right;\n    }\n</style>\n<table border=\"1\" class=\"dataframe\">\n  <thead>\n    <tr style=\"text-align: right;\">\n      <th></th>\n      <th>name_education_type</th>\n      <th>proportion</th>\n    </tr>\n  </thead>\n  <tbody>\n    <tr>\n      <th>0</th>\n      <td>Secondary / secondary special</td>\n      <td>0.708422</td>\n    </tr>\n    <tr>\n      <th>1</th>\n      <td>Higher education</td>\n      <td>0.245271</td>\n    </tr>\n    <tr>\n      <th>2</th>\n      <td>Incomplete higher</td>\n      <td>0.033687</td>\n    </tr>\n    <tr>\n      <th>3</th>\n      <td>Lower secondary</td>\n      <td>0.012045</td>\n    </tr>\n    <tr>\n      <th>4</th>\n      <td>Academic degree</td>\n      <td>0.000575</td>\n    </tr>\n  </tbody>\n</table>\n</div>"
     },
     "execution_count": 49,
     "metadata": {},
     "output_type": "execute_result"
    }
   ],
   "source": [
    "%%time\n",
    "sql_query = \"\"\"\n",
    "SET search_path TO credit_scoring;\n",
    "SELECT\n",
    "    NAME_EDUCATION_TYPE,\n",
    "    ROUND((COUNT(*)::DECIMAL / SUM(COUNT(*)) OVER ()), 6) AS proportion\n",
    "FROM credit_scoring.application\n",
    "GROUP BY NAME_EDUCATION_TYPE\n",
    "ORDER BY proportion DESC;\n",
    "\"\"\"\n",
    "connector.get_df_from_query(sql_query)"
   ],
   "metadata": {
    "collapsed": false,
    "ExecuteTime": {
     "end_time": "2024-03-31T13:44:22.300693Z",
     "start_time": "2024-03-31T13:44:21.603498Z"
    }
   },
   "id": "ed446076c3c6d637",
   "execution_count": 49
  },
  {
   "cell_type": "markdown",
   "source": [
    "подсчитать количество полных лет для клиентов, у которых есть во владении автомобиль и недвижимость. вывести топ 10 по возрастанию"
   ],
   "metadata": {
    "collapsed": false
   },
   "id": "ff4984d84a77b758"
  },
  {
   "cell_type": "code",
   "outputs": [
    {
     "name": "stderr",
     "output_type": "stream",
     "text": [
      "/Users/vi/DataspellProjects/shift/src/app/utils/db_connector.py:37: UserWarning: pandas only supports SQLAlchemy connectable (engine/connection) or database string URI or sqlite3 DBAPI2 connection. Other DBAPI2 objects are not tested. Please consider using SQLAlchemy.\n",
      "  df = pd.read_sql(query, conn)\n"
     ]
    },
    {
     "name": "stdout",
     "output_type": "stream",
     "text": [
      "CPU times: user 8.38 ms, sys: 4.46 ms, total: 12.8 ms\n",
      "Wall time: 518 ms\n"
     ]
    },
    {
     "data": {
      "text/plain": "   sk_id_curr  age_years\n0      283094         20\n1      372716         20\n2      135697         21\n3      254228         21\n4      107188         21\n5      128287         21\n6      131919         21\n7      216327         21\n8      301665         21\n9      103397         21",
      "text/html": "<div>\n<style scoped>\n    .dataframe tbody tr th:only-of-type {\n        vertical-align: middle;\n    }\n\n    .dataframe tbody tr th {\n        vertical-align: top;\n    }\n\n    .dataframe thead th {\n        text-align: right;\n    }\n</style>\n<table border=\"1\" class=\"dataframe\">\n  <thead>\n    <tr style=\"text-align: right;\">\n      <th></th>\n      <th>sk_id_curr</th>\n      <th>age_years</th>\n    </tr>\n  </thead>\n  <tbody>\n    <tr>\n      <th>0</th>\n      <td>283094</td>\n      <td>20</td>\n    </tr>\n    <tr>\n      <th>1</th>\n      <td>372716</td>\n      <td>20</td>\n    </tr>\n    <tr>\n      <th>2</th>\n      <td>135697</td>\n      <td>21</td>\n    </tr>\n    <tr>\n      <th>3</th>\n      <td>254228</td>\n      <td>21</td>\n    </tr>\n    <tr>\n      <th>4</th>\n      <td>107188</td>\n      <td>21</td>\n    </tr>\n    <tr>\n      <th>5</th>\n      <td>128287</td>\n      <td>21</td>\n    </tr>\n    <tr>\n      <th>6</th>\n      <td>131919</td>\n      <td>21</td>\n    </tr>\n    <tr>\n      <th>7</th>\n      <td>216327</td>\n      <td>21</td>\n    </tr>\n    <tr>\n      <th>8</th>\n      <td>301665</td>\n      <td>21</td>\n    </tr>\n    <tr>\n      <th>9</th>\n      <td>103397</td>\n      <td>21</td>\n    </tr>\n  </tbody>\n</table>\n</div>"
     },
     "execution_count": 50,
     "metadata": {},
     "output_type": "execute_result"
    }
   ],
   "source": [
    "%%time\n",
    "sql_query = \"\"\"\n",
    "SET search_path TO credit_scoring;\n",
    "SELECT\n",
    "    SK_ID_CURR,\n",
    "    ABS(DAYS_BIRTH) / 365 AS age_years\n",
    "FROM credit_scoring.application\n",
    "WHERE FLAG_OWN_CAR = 'Y' AND FLAG_OWN_REALTY = 'Y'\n",
    "ORDER BY age_years ASC\n",
    "LIMIT 10;\n",
    "\"\"\"\n",
    "connector.get_df_from_query(sql_query)"
   ],
   "metadata": {
    "collapsed": false,
    "ExecuteTime": {
     "end_time": "2024-03-31T13:44:22.756275Z",
     "start_time": "2024-03-31T13:44:22.147922Z"
    }
   },
   "id": "2c2d0155cafae035",
   "execution_count": 50
  },
  {
   "cell_type": "markdown",
   "source": [
    "Вывести тех клиентов, у кого доход на одного члена семьи в два раза больше, чем в среднем на одного члена семьи по выборке"
   ],
   "metadata": {
    "collapsed": false
   },
   "id": "93ebc5476d47f8ba"
  },
  {
   "cell_type": "code",
   "outputs": [
    {
     "name": "stderr",
     "output_type": "stream",
     "text": [
      "/Users/vi/DataspellProjects/shift/src/app/utils/db_connector.py:37: UserWarning: pandas only supports SQLAlchemy connectable (engine/connection) or database string URI or sqlite3 DBAPI2 connection. Other DBAPI2 objects are not tested. Please consider using SQLAlchemy.\n",
      "  df = pd.read_sql(query, conn)\n"
     ]
    },
    {
     "name": "stdout",
     "output_type": "stream",
     "text": [
      "CPU times: user 41.2 ms, sys: 15.4 ms, total: 56.6 ms\n",
      "Wall time: 1.71 s\n"
     ]
    },
    {
     "data": {
      "text/plain": "       sk_id_curr  amt_income_total  cnt_fam_members  income_per_family_member\n0          100002          202500.0              1.0                  202500.0\n1          100033          270000.0              1.0                  270000.0\n2          100053          202500.0              1.0                  202500.0\n3          100070          540000.0              1.0                  540000.0\n4          100079          225000.0              1.0                  225000.0\n...           ...               ...              ...                       ...\n27728      456184          270000.0              1.0                  270000.0\n27729      456189          270000.0              1.0                  270000.0\n27730      456209          202500.0              1.0                  202500.0\n27731      456228          540000.0              2.0                  270000.0\n27732      456236          585000.0              2.0                  292500.0\n\n[27733 rows x 4 columns]",
      "text/html": "<div>\n<style scoped>\n    .dataframe tbody tr th:only-of-type {\n        vertical-align: middle;\n    }\n\n    .dataframe tbody tr th {\n        vertical-align: top;\n    }\n\n    .dataframe thead th {\n        text-align: right;\n    }\n</style>\n<table border=\"1\" class=\"dataframe\">\n  <thead>\n    <tr style=\"text-align: right;\">\n      <th></th>\n      <th>sk_id_curr</th>\n      <th>amt_income_total</th>\n      <th>cnt_fam_members</th>\n      <th>income_per_family_member</th>\n    </tr>\n  </thead>\n  <tbody>\n    <tr>\n      <th>0</th>\n      <td>100002</td>\n      <td>202500.0</td>\n      <td>1.0</td>\n      <td>202500.0</td>\n    </tr>\n    <tr>\n      <th>1</th>\n      <td>100033</td>\n      <td>270000.0</td>\n      <td>1.0</td>\n      <td>270000.0</td>\n    </tr>\n    <tr>\n      <th>2</th>\n      <td>100053</td>\n      <td>202500.0</td>\n      <td>1.0</td>\n      <td>202500.0</td>\n    </tr>\n    <tr>\n      <th>3</th>\n      <td>100070</td>\n      <td>540000.0</td>\n      <td>1.0</td>\n      <td>540000.0</td>\n    </tr>\n    <tr>\n      <th>4</th>\n      <td>100079</td>\n      <td>225000.0</td>\n      <td>1.0</td>\n      <td>225000.0</td>\n    </tr>\n    <tr>\n      <th>...</th>\n      <td>...</td>\n      <td>...</td>\n      <td>...</td>\n      <td>...</td>\n    </tr>\n    <tr>\n      <th>27728</th>\n      <td>456184</td>\n      <td>270000.0</td>\n      <td>1.0</td>\n      <td>270000.0</td>\n    </tr>\n    <tr>\n      <th>27729</th>\n      <td>456189</td>\n      <td>270000.0</td>\n      <td>1.0</td>\n      <td>270000.0</td>\n    </tr>\n    <tr>\n      <th>27730</th>\n      <td>456209</td>\n      <td>202500.0</td>\n      <td>1.0</td>\n      <td>202500.0</td>\n    </tr>\n    <tr>\n      <th>27731</th>\n      <td>456228</td>\n      <td>540000.0</td>\n      <td>2.0</td>\n      <td>270000.0</td>\n    </tr>\n    <tr>\n      <th>27732</th>\n      <td>456236</td>\n      <td>585000.0</td>\n      <td>2.0</td>\n      <td>292500.0</td>\n    </tr>\n  </tbody>\n</table>\n<p>27733 rows × 4 columns</p>\n</div>"
     },
     "execution_count": 51,
     "metadata": {},
     "output_type": "execute_result"
    }
   ],
   "source": [
    "%%time\n",
    "sql_query = \"\"\"\n",
    "SET search_path TO credit_scoring;\n",
    "\n",
    "SELECT\n",
    "    SK_ID_CURR,\n",
    "    AMT_INCOME_TOTAL,\n",
    "    CNT_FAM_MEMBERS,\n",
    "    (AMT_INCOME_TOTAL / CNT_FAM_MEMBERS) AS income_per_family_member\n",
    "FROM credit_scoring.application\n",
    "WHERE (AMT_INCOME_TOTAL / CNT_FAM_MEMBERS) > 2 * (\n",
    "    SELECT AVG(AMT_INCOME_TOTAL / CNT_FAM_MEMBERS) FROM credit_scoring.application\n",
    ")\n",
    "ORDER BY SK_ID_CURR;\n",
    "\n",
    "\"\"\"\n",
    "connector.get_df_from_query(sql_query)"
   ],
   "metadata": {
    "collapsed": false,
    "ExecuteTime": {
     "end_time": "2024-03-31T13:44:24.429128Z",
     "start_time": "2024-03-31T13:44:22.692615Z"
    }
   },
   "id": "8837ff2b88c2a910",
   "execution_count": 51
  },
  {
   "cell_type": "markdown",
   "source": [
    "вывести клиентов старше 60 лет по которым нет данных в bureau"
   ],
   "metadata": {
    "collapsed": false
   },
   "id": "b827edad04820643"
  },
  {
   "cell_type": "code",
   "outputs": [
    {
     "name": "stderr",
     "output_type": "stream",
     "text": [
      "/Users/vi/DataspellProjects/shift/src/app/utils/db_connector.py:37: UserWarning: pandas only supports SQLAlchemy connectable (engine/connection) or database string URI or sqlite3 DBAPI2 connection. Other DBAPI2 objects are not tested. Please consider using SQLAlchemy.\n",
      "  df = pd.read_sql(query, conn)\n"
     ]
    },
    {
     "name": "stdout",
     "output_type": "stream",
     "text": [
      "CPU times: user 15.4 ms, sys: 5.55 ms, total: 21 ms\n",
      "Wall time: 4.35 s\n"
     ]
    },
    {
     "data": {
      "text/plain": "      sk_id_curr  age_years\n0         249376       61.0\n1         113210       64.0\n2         234614       61.0\n3         106076       64.0\n4         124764       62.0\n...          ...        ...\n5051      369504       62.0\n5052      352484       66.0\n5053      144610       67.0\n5054      432774       64.0\n5055      351285       63.0\n\n[5056 rows x 2 columns]",
      "text/html": "<div>\n<style scoped>\n    .dataframe tbody tr th:only-of-type {\n        vertical-align: middle;\n    }\n\n    .dataframe tbody tr th {\n        vertical-align: top;\n    }\n\n    .dataframe thead th {\n        text-align: right;\n    }\n</style>\n<table border=\"1\" class=\"dataframe\">\n  <thead>\n    <tr style=\"text-align: right;\">\n      <th></th>\n      <th>sk_id_curr</th>\n      <th>age_years</th>\n    </tr>\n  </thead>\n  <tbody>\n    <tr>\n      <th>0</th>\n      <td>249376</td>\n      <td>61.0</td>\n    </tr>\n    <tr>\n      <th>1</th>\n      <td>113210</td>\n      <td>64.0</td>\n    </tr>\n    <tr>\n      <th>2</th>\n      <td>234614</td>\n      <td>61.0</td>\n    </tr>\n    <tr>\n      <th>3</th>\n      <td>106076</td>\n      <td>64.0</td>\n    </tr>\n    <tr>\n      <th>4</th>\n      <td>124764</td>\n      <td>62.0</td>\n    </tr>\n    <tr>\n      <th>...</th>\n      <td>...</td>\n      <td>...</td>\n    </tr>\n    <tr>\n      <th>5051</th>\n      <td>369504</td>\n      <td>62.0</td>\n    </tr>\n    <tr>\n      <th>5052</th>\n      <td>352484</td>\n      <td>66.0</td>\n    </tr>\n    <tr>\n      <th>5053</th>\n      <td>144610</td>\n      <td>67.0</td>\n    </tr>\n    <tr>\n      <th>5054</th>\n      <td>432774</td>\n      <td>64.0</td>\n    </tr>\n    <tr>\n      <th>5055</th>\n      <td>351285</td>\n      <td>63.0</td>\n    </tr>\n  </tbody>\n</table>\n<p>5056 rows × 2 columns</p>\n</div>"
     },
     "execution_count": 52,
     "metadata": {},
     "output_type": "execute_result"
    }
   ],
   "source": [
    "%%time\n",
    "sql_query = \"\"\"\n",
    "SET search_path TO credit_scoring;\n",
    "SELECT a.SK_ID_CURR, floor(ABS(a.DAYS_BIRTH) / 365) AS age_years\n",
    "FROM credit_scoring.application AS a\n",
    "LEFT JOIN credit_scoring.bureau AS b ON a.SK_ID_CURR = b.SK_ID_CURR\n",
    "WHERE b.SK_ID_CURR IS NULL\n",
    "AND floor(ABS(a.DAYS_BIRTH) / 365) > 60;\n",
    "\"\"\"\n",
    "connector.get_df_from_query(sql_query)"
   ],
   "metadata": {
    "collapsed": false,
    "ExecuteTime": {
     "end_time": "2024-03-31T13:44:28.836931Z",
     "start_time": "2024-03-31T13:44:24.430904Z"
    }
   },
   "id": "178638214144a5fe",
   "execution_count": 52
  },
  {
   "cell_type": "markdown",
   "source": [
    "Вывести женщин, у которых в истории bureau было больше двух кредитов, просроченных на 61 день и более. отсортировать в порядке убывания по кол-ву таких кредитов"
   ],
   "metadata": {
    "collapsed": false
   },
   "id": "9a4375223c044e02"
  },
  {
   "cell_type": "code",
   "outputs": [
    {
     "name": "stderr",
     "output_type": "stream",
     "text": [
      "/Users/vi/DataspellProjects/shift/src/app/utils/db_connector.py:37: UserWarning: pandas only supports SQLAlchemy connectable (engine/connection) or database string URI or sqlite3 DBAPI2 connection. Other DBAPI2 objects are not tested. Please consider using SQLAlchemy.\n",
      "  df = pd.read_sql(query, conn)\n"
     ]
    },
    {
     "name": "stdout",
     "output_type": "stream",
     "text": [
      "CPU times: user 11 ms, sys: 6.83 ms, total: 17.9 ms\n",
      "Wall time: 36.9 s\n"
     ]
    },
    {
     "data": {
      "text/plain": "     sk_id_curr  cnt_credit\n0        279826          14\n1        441227          13\n2        246788          13\n3        129529          10\n4        164862          10\n..          ...         ...\n335      184667           3\n336      182879           3\n337      394391           3\n338      272607           3\n339      396989           3\n\n[340 rows x 2 columns]",
      "text/html": "<div>\n<style scoped>\n    .dataframe tbody tr th:only-of-type {\n        vertical-align: middle;\n    }\n\n    .dataframe tbody tr th {\n        vertical-align: top;\n    }\n\n    .dataframe thead th {\n        text-align: right;\n    }\n</style>\n<table border=\"1\" class=\"dataframe\">\n  <thead>\n    <tr style=\"text-align: right;\">\n      <th></th>\n      <th>sk_id_curr</th>\n      <th>cnt_credit</th>\n    </tr>\n  </thead>\n  <tbody>\n    <tr>\n      <th>0</th>\n      <td>279826</td>\n      <td>14</td>\n    </tr>\n    <tr>\n      <th>1</th>\n      <td>441227</td>\n      <td>13</td>\n    </tr>\n    <tr>\n      <th>2</th>\n      <td>246788</td>\n      <td>13</td>\n    </tr>\n    <tr>\n      <th>3</th>\n      <td>129529</td>\n      <td>10</td>\n    </tr>\n    <tr>\n      <th>4</th>\n      <td>164862</td>\n      <td>10</td>\n    </tr>\n    <tr>\n      <th>...</th>\n      <td>...</td>\n      <td>...</td>\n    </tr>\n    <tr>\n      <th>335</th>\n      <td>184667</td>\n      <td>3</td>\n    </tr>\n    <tr>\n      <th>336</th>\n      <td>182879</td>\n      <td>3</td>\n    </tr>\n    <tr>\n      <th>337</th>\n      <td>394391</td>\n      <td>3</td>\n    </tr>\n    <tr>\n      <th>338</th>\n      <td>272607</td>\n      <td>3</td>\n    </tr>\n    <tr>\n      <th>339</th>\n      <td>396989</td>\n      <td>3</td>\n    </tr>\n  </tbody>\n</table>\n<p>340 rows × 2 columns</p>\n</div>"
     },
     "execution_count": 53,
     "metadata": {},
     "output_type": "execute_result"
    }
   ],
   "source": [
    "%%time\n",
    "sql_query = \"\"\"\n",
    "SET search_path TO credit_scoring;\n",
    "WITH CTE AS\n",
    "  (SELECT sk_id_curr, SUM(status) AS cnt_credit\n",
    "   FROM bureau\n",
    "   JOIN\n",
    "     (SELECT sk_id_bureau, 1 AS status\n",
    "      FROM bureau_balance\n",
    "      WHERE status in ('3','4','5')\n",
    "      GROUP BY sk_id_bureau) AS bb ON bureau.sk_id_bureau = bb.sk_id_bureau\n",
    "   GROUP BY sk_id_curr)\n",
    "\n",
    "SELECT a.sk_id_curr,\n",
    "       cnt_credit\n",
    "FROM application AS a\n",
    "JOIN CTE ON a.sk_id_curr = CTE.sk_id_curr\n",
    "WHERE code_gender = 'F' AND cnt_credit > 2\n",
    "ORDER BY cnt_credit DESC\n",
    "\"\"\"\n",
    "connector.get_df_from_query(sql_query)"
   ],
   "metadata": {
    "collapsed": false,
    "ExecuteTime": {
     "end_time": "2024-03-31T13:45:05.743942Z",
     "start_time": "2024-03-31T13:44:28.814396Z"
    }
   },
   "id": "bb35ec1efd4d1b8",
   "execution_count": 53
  },
  {
   "cell_type": "markdown",
   "source": [
    "По данным из bureau (БКИ) расчитать долю просрочки в активных займах для каждого клиента. вывести топ 7 мужчин с наибольшей суммой просрочки, указав для них, помимо прочего, сумму активных кредитов и суммы всех кредитов (активных и закрытых)."
   ],
   "metadata": {
    "collapsed": false
   },
   "id": "2f02a1f510a7a05d"
  },
  {
   "cell_type": "code",
   "outputs": [
    {
     "name": "stderr",
     "output_type": "stream",
     "text": [
      "/Users/vi/DataspellProjects/shift/src/app/utils/db_connector.py:37: UserWarning: pandas only supports SQLAlchemy connectable (engine/connection) or database string URI or sqlite3 DBAPI2 connection. Other DBAPI2 objects are not tested. Please consider using SQLAlchemy.\n",
      "  df = pd.read_sql(query, conn)\n"
     ]
    },
    {
     "name": "stdout",
     "output_type": "stream",
     "text": [
      "CPU times: user 9.03 ms, sys: 5.21 ms, total: 14.2 ms\n",
      "Wall time: 11.7 s\n"
     ]
    },
    {
     "data": {
      "text/plain": "   sk_id_curr  overdueshare  totaloverdue  activecreditssum  totalcreditssum\n0      435405      0.997578    3681063.00         3690000.0        4054000.5\n1      427996      0.371418    1571697.00         4231615.5        7431583.5\n2      394113      0.870897    1332472.50         1530000.0        1825801.0\n3      266765      0.907018    1224474.90         1350000.0        1421955.0\n4      167085      4.925314     780192.00          158404.5         176404.5\n5      154595      0.749991     742491.00          990000.0        4245754.5\n6      262411      0.538240     709669.25         1318500.0        1773000.0",
      "text/html": "<div>\n<style scoped>\n    .dataframe tbody tr th:only-of-type {\n        vertical-align: middle;\n    }\n\n    .dataframe tbody tr th {\n        vertical-align: top;\n    }\n\n    .dataframe thead th {\n        text-align: right;\n    }\n</style>\n<table border=\"1\" class=\"dataframe\">\n  <thead>\n    <tr style=\"text-align: right;\">\n      <th></th>\n      <th>sk_id_curr</th>\n      <th>overdueshare</th>\n      <th>totaloverdue</th>\n      <th>activecreditssum</th>\n      <th>totalcreditssum</th>\n    </tr>\n  </thead>\n  <tbody>\n    <tr>\n      <th>0</th>\n      <td>435405</td>\n      <td>0.997578</td>\n      <td>3681063.00</td>\n      <td>3690000.0</td>\n      <td>4054000.5</td>\n    </tr>\n    <tr>\n      <th>1</th>\n      <td>427996</td>\n      <td>0.371418</td>\n      <td>1571697.00</td>\n      <td>4231615.5</td>\n      <td>7431583.5</td>\n    </tr>\n    <tr>\n      <th>2</th>\n      <td>394113</td>\n      <td>0.870897</td>\n      <td>1332472.50</td>\n      <td>1530000.0</td>\n      <td>1825801.0</td>\n    </tr>\n    <tr>\n      <th>3</th>\n      <td>266765</td>\n      <td>0.907018</td>\n      <td>1224474.90</td>\n      <td>1350000.0</td>\n      <td>1421955.0</td>\n    </tr>\n    <tr>\n      <th>4</th>\n      <td>167085</td>\n      <td>4.925314</td>\n      <td>780192.00</td>\n      <td>158404.5</td>\n      <td>176404.5</td>\n    </tr>\n    <tr>\n      <th>5</th>\n      <td>154595</td>\n      <td>0.749991</td>\n      <td>742491.00</td>\n      <td>990000.0</td>\n      <td>4245754.5</td>\n    </tr>\n    <tr>\n      <th>6</th>\n      <td>262411</td>\n      <td>0.538240</td>\n      <td>709669.25</td>\n      <td>1318500.0</td>\n      <td>1773000.0</td>\n    </tr>\n  </tbody>\n</table>\n</div>"
     },
     "execution_count": 54,
     "metadata": {},
     "output_type": "execute_result"
    }
   ],
   "source": [
    "%%time\n",
    "sql_query = \"\"\"\n",
    "SET search_path TO credit_scoring;\n",
    "WITH CreditInfo AS (\n",
    "    SELECT\n",
    "        bureau.SK_ID_CURR,\n",
    "        SUM(CASE WHEN CREDIT_ACTIVE = 'Active' THEN AMT_CREDIT_SUM_OVERDUE ELSE 0 END) AS TotalOverdue,\n",
    "        SUM(CASE WHEN CREDIT_ACTIVE = 'Active' THEN AMT_CREDIT_SUM ELSE 0 END) AS ActiveCreditsSum,\n",
    "        SUM(AMT_CREDIT_SUM) AS TotalCreditsSum,\n",
    "        CASE \n",
    "            WHEN SUM(CASE WHEN CREDIT_ACTIVE = 'Active' THEN AMT_CREDIT_SUM ELSE 0 END) > 0 THEN \n",
    "                SUM(CASE WHEN CREDIT_ACTIVE = 'Active' THEN AMT_CREDIT_SUM_OVERDUE ELSE 0 END) / \n",
    "                SUM(CASE WHEN CREDIT_ACTIVE = 'Active' THEN AMT_CREDIT_SUM ELSE 0 END) \n",
    "            ELSE 0 \n",
    "        END AS OverdueShare\n",
    "    FROM bureau\n",
    "    GROUP BY bureau.SK_ID_CURR\n",
    "),\n",
    "RankedMen AS (\n",
    "    SELECT\n",
    "        app.SK_ID_CURR,\n",
    "        ci.TotalOverdue,\n",
    "        ci.ActiveCreditsSum,\n",
    "        ci.TotalCreditsSum,\n",
    "        ci.OverdueShare,\n",
    "        RANK() OVER (ORDER BY ci.TotalOverdue DESC) AS Rank\n",
    "    FROM application AS app\n",
    "    JOIN CreditInfo AS ci ON app.SK_ID_CURR = ci.SK_ID_CURR\n",
    "    WHERE app.CODE_GENDER = 'M' AND ci.TotalOverdue > 0\n",
    ")\n",
    "SELECT SK_ID_CURR, OverdueShare, TotalOverdue, ActiveCreditsSum, TotalCreditsSum\n",
    "FROM RankedMen\n",
    "WHERE Rank <= 7;\n",
    "\"\"\"\n",
    "connector.get_df_from_query(sql_query)"
   ],
   "metadata": {
    "collapsed": false,
    "ExecuteTime": {
     "end_time": "2024-03-31T13:45:17.465077Z",
     "start_time": "2024-03-31T13:45:05.751291Z"
    }
   },
   "id": "fcf22311c31cfd96",
   "execution_count": 54
  },
  {
   "cell_type": "markdown",
   "source": [
    "## Генерация своих признаков"
   ],
   "metadata": {
    "collapsed": false
   },
   "id": "8fdd105bef46f49a"
  },
  {
   "cell_type": "markdown",
   "source": [
    "Молодые семьи с 2мя и больше детьми"
   ],
   "metadata": {
    "collapsed": false
   },
   "id": "eb08e0d50a89bb29"
  },
  {
   "cell_type": "code",
   "outputs": [
    {
     "name": "stderr",
     "output_type": "stream",
     "text": [
      "/Users/vi/DataspellProjects/shift/src/app/utils/db_connector.py:37: UserWarning: pandas only supports SQLAlchemy connectable (engine/connection) or database string URI or sqlite3 DBAPI2 connection. Other DBAPI2 objects are not tested. Please consider using SQLAlchemy.\n",
      "  df = pd.read_sql(query, conn)\n"
     ]
    },
    {
     "name": "stdout",
     "output_type": "stream",
     "text": [
      "CPU times: user 12.7 ms, sys: 4.28 ms, total: 17 ms\n",
      "Wall time: 827 ms\n"
     ]
    },
    {
     "data": {
      "text/plain": "      sk_id_curr  age  cnt_children\n0         160631   21             2\n1         400044   21             2\n2         263170   21             2\n3         121972   21             2\n4         278296   21             2\n...          ...  ...           ...\n1884      399218   27             2\n1885      399944   27             2\n1886      400724   27             2\n1887      401031   27             2\n1888      402835   27             2\n\n[1889 rows x 3 columns]",
      "text/html": "<div>\n<style scoped>\n    .dataframe tbody tr th:only-of-type {\n        vertical-align: middle;\n    }\n\n    .dataframe tbody tr th {\n        vertical-align: top;\n    }\n\n    .dataframe thead th {\n        text-align: right;\n    }\n</style>\n<table border=\"1\" class=\"dataframe\">\n  <thead>\n    <tr style=\"text-align: right;\">\n      <th></th>\n      <th>sk_id_curr</th>\n      <th>age</th>\n      <th>cnt_children</th>\n    </tr>\n  </thead>\n  <tbody>\n    <tr>\n      <th>0</th>\n      <td>160631</td>\n      <td>21</td>\n      <td>2</td>\n    </tr>\n    <tr>\n      <th>1</th>\n      <td>400044</td>\n      <td>21</td>\n      <td>2</td>\n    </tr>\n    <tr>\n      <th>2</th>\n      <td>263170</td>\n      <td>21</td>\n      <td>2</td>\n    </tr>\n    <tr>\n      <th>3</th>\n      <td>121972</td>\n      <td>21</td>\n      <td>2</td>\n    </tr>\n    <tr>\n      <th>4</th>\n      <td>278296</td>\n      <td>21</td>\n      <td>2</td>\n    </tr>\n    <tr>\n      <th>...</th>\n      <td>...</td>\n      <td>...</td>\n      <td>...</td>\n    </tr>\n    <tr>\n      <th>1884</th>\n      <td>399218</td>\n      <td>27</td>\n      <td>2</td>\n    </tr>\n    <tr>\n      <th>1885</th>\n      <td>399944</td>\n      <td>27</td>\n      <td>2</td>\n    </tr>\n    <tr>\n      <th>1886</th>\n      <td>400724</td>\n      <td>27</td>\n      <td>2</td>\n    </tr>\n    <tr>\n      <th>1887</th>\n      <td>401031</td>\n      <td>27</td>\n      <td>2</td>\n    </tr>\n    <tr>\n      <th>1888</th>\n      <td>402835</td>\n      <td>27</td>\n      <td>2</td>\n    </tr>\n  </tbody>\n</table>\n<p>1889 rows × 3 columns</p>\n</div>"
     },
     "execution_count": 55,
     "metadata": {},
     "output_type": "execute_result"
    }
   ],
   "source": [
    "%%time\n",
    "sql_query = \"\"\"\n",
    "SET search_path TO credit_scoring;\n",
    "SELECT\n",
    "    SK_ID_CURR,\n",
    "    ABS(DAYS_BIRTH) / 365 AS Age,\n",
    "    CNT_CHILDREN\n",
    "FROM application\n",
    "WHERE\n",
    "    ABS(DAYS_BIRTH) / 365 <= 27\n",
    "    AND CNT_CHILDREN >= 2\n",
    "ORDER BY Age ASC;\n",
    "\"\"\"\n",
    "connector.get_df_from_query(sql_query)"
   ],
   "metadata": {
    "collapsed": false,
    "ExecuteTime": {
     "end_time": "2024-03-31T13:45:18.369202Z",
     "start_time": "2024-03-31T13:45:17.449975Z"
    }
   },
   "id": "8717cd268104269e",
   "execution_count": 55
  },
  {
   "cell_type": "markdown",
   "source": [
    "Отношение кредита к сумме платежа по кредиту"
   ],
   "metadata": {
    "collapsed": false
   },
   "id": "d328390bad5ead67"
  },
  {
   "cell_type": "code",
   "outputs": [
    {
     "name": "stderr",
     "output_type": "stream",
     "text": [
      "/Users/vi/DataspellProjects/shift/src/app/utils/db_connector.py:37: UserWarning: pandas only supports SQLAlchemy connectable (engine/connection) or database string URI or sqlite3 DBAPI2 connection. Other DBAPI2 objects are not tested. Please consider using SQLAlchemy.\n",
      "  df = pd.read_sql(query, conn)\n"
     ]
    },
    {
     "name": "stdout",
     "output_type": "stream",
     "text": [
      "CPU times: user 315 ms, sys: 106 ms, total: 421 ms\n",
      "Wall time: 1.95 s\n"
     ]
    },
    {
     "data": {
      "text/plain": "        sk_id_curr  annuity_credit_ratio\n0           100001             27.664698\n1           100005             12.824870\n2           100013              9.505482\n3           100028             32.130726\n4           100038             19.506035\n...            ...                   ...\n356250      456251              9.242325\n356251      456252             22.459692\n356252      456253             22.604624\n356253      456254             18.317595\n356254      456255             13.742557\n\n[356255 rows x 2 columns]",
      "text/html": "<div>\n<style scoped>\n    .dataframe tbody tr th:only-of-type {\n        vertical-align: middle;\n    }\n\n    .dataframe tbody tr th {\n        vertical-align: top;\n    }\n\n    .dataframe thead th {\n        text-align: right;\n    }\n</style>\n<table border=\"1\" class=\"dataframe\">\n  <thead>\n    <tr style=\"text-align: right;\">\n      <th></th>\n      <th>sk_id_curr</th>\n      <th>annuity_credit_ratio</th>\n    </tr>\n  </thead>\n  <tbody>\n    <tr>\n      <th>0</th>\n      <td>100001</td>\n      <td>27.664698</td>\n    </tr>\n    <tr>\n      <th>1</th>\n      <td>100005</td>\n      <td>12.824870</td>\n    </tr>\n    <tr>\n      <th>2</th>\n      <td>100013</td>\n      <td>9.505482</td>\n    </tr>\n    <tr>\n      <th>3</th>\n      <td>100028</td>\n      <td>32.130726</td>\n    </tr>\n    <tr>\n      <th>4</th>\n      <td>100038</td>\n      <td>19.506035</td>\n    </tr>\n    <tr>\n      <th>...</th>\n      <td>...</td>\n      <td>...</td>\n    </tr>\n    <tr>\n      <th>356250</th>\n      <td>456251</td>\n      <td>9.242325</td>\n    </tr>\n    <tr>\n      <th>356251</th>\n      <td>456252</td>\n      <td>22.459692</td>\n    </tr>\n    <tr>\n      <th>356252</th>\n      <td>456253</td>\n      <td>22.604624</td>\n    </tr>\n    <tr>\n      <th>356253</th>\n      <td>456254</td>\n      <td>18.317595</td>\n    </tr>\n    <tr>\n      <th>356254</th>\n      <td>456255</td>\n      <td>13.742557</td>\n    </tr>\n  </tbody>\n</table>\n<p>356255 rows × 2 columns</p>\n</div>"
     },
     "execution_count": 56,
     "metadata": {},
     "output_type": "execute_result"
    }
   ],
   "source": [
    "%%time\n",
    "sql_query = \"\"\"\n",
    "SET search_path TO credit_scoring;\n",
    "SELECT sk_id_curr, (amt_credit / amt_annuity) AS annuity_credit_ratio\n",
    "FROM application\n",
    "\"\"\"\n",
    "connector.get_df_from_query(sql_query)"
   ],
   "metadata": {
    "collapsed": false,
    "ExecuteTime": {
     "end_time": "2024-03-31T13:45:20.799769Z",
     "start_time": "2024-03-31T13:45:18.774290Z"
    }
   },
   "id": "6bf84608b0e41680",
   "execution_count": 56
  },
  {
   "cell_type": "markdown",
   "source": [
    "Средний лимит по карте по клиентам"
   ],
   "metadata": {
    "collapsed": false
   },
   "id": "b058a07a34ac64ff"
  },
  {
   "cell_type": "code",
   "outputs": [
    {
     "name": "stderr",
     "output_type": "stream",
     "text": [
      "/Users/vi/DataspellProjects/shift/src/app/utils/db_connector.py:37: UserWarning: pandas only supports SQLAlchemy connectable (engine/connection) or database string URI or sqlite3 DBAPI2 connection. Other DBAPI2 objects are not tested. Please consider using SQLAlchemy.\n",
      "  df = pd.read_sql(query, conn)\n"
     ]
    },
    {
     "name": "stdout",
     "output_type": "stream",
     "text": [
      "CPU times: user 275 ms, sys: 45.4 ms, total: 320 ms\n",
      "Wall time: 18.3 s\n"
     ]
    },
    {
     "data": {
      "text/plain": "        sk_id_curr  averagecreditcardlimit\n0           217324               1350000.0\n1           180956               1350000.0\n2           150126               1350000.0\n3           135194               1350000.0\n4           154897               1350000.0\n...            ...                     ...\n103553      363214                     0.0\n103554      370279                     0.0\n103555      370288                     0.0\n103556      381912                     0.0\n103557      431237                     0.0\n\n[103558 rows x 2 columns]",
      "text/html": "<div>\n<style scoped>\n    .dataframe tbody tr th:only-of-type {\n        vertical-align: middle;\n    }\n\n    .dataframe tbody tr th {\n        vertical-align: top;\n    }\n\n    .dataframe thead th {\n        text-align: right;\n    }\n</style>\n<table border=\"1\" class=\"dataframe\">\n  <thead>\n    <tr style=\"text-align: right;\">\n      <th></th>\n      <th>sk_id_curr</th>\n      <th>averagecreditcardlimit</th>\n    </tr>\n  </thead>\n  <tbody>\n    <tr>\n      <th>0</th>\n      <td>217324</td>\n      <td>1350000.0</td>\n    </tr>\n    <tr>\n      <th>1</th>\n      <td>180956</td>\n      <td>1350000.0</td>\n    </tr>\n    <tr>\n      <th>2</th>\n      <td>150126</td>\n      <td>1350000.0</td>\n    </tr>\n    <tr>\n      <th>3</th>\n      <td>135194</td>\n      <td>1350000.0</td>\n    </tr>\n    <tr>\n      <th>4</th>\n      <td>154897</td>\n      <td>1350000.0</td>\n    </tr>\n    <tr>\n      <th>...</th>\n      <td>...</td>\n      <td>...</td>\n    </tr>\n    <tr>\n      <th>103553</th>\n      <td>363214</td>\n      <td>0.0</td>\n    </tr>\n    <tr>\n      <th>103554</th>\n      <td>370279</td>\n      <td>0.0</td>\n    </tr>\n    <tr>\n      <th>103555</th>\n      <td>370288</td>\n      <td>0.0</td>\n    </tr>\n    <tr>\n      <th>103556</th>\n      <td>381912</td>\n      <td>0.0</td>\n    </tr>\n    <tr>\n      <th>103557</th>\n      <td>431237</td>\n      <td>0.0</td>\n    </tr>\n  </tbody>\n</table>\n<p>103558 rows × 2 columns</p>\n</div>"
     },
     "execution_count": 57,
     "metadata": {},
     "output_type": "execute_result"
    }
   ],
   "source": [
    "%%time\n",
    "sql_query = \"\"\"\n",
    "SET search_path TO credit_scoring;\n",
    "SELECT\n",
    "    SK_ID_CURR,\n",
    "    AVG(AMT_CREDIT_LIMIT_ACTUAL) AS AverageCreditCardLimit\n",
    "FROM credit_card_balance\n",
    "GROUP BY SK_ID_CURR\n",
    "ORDER BY AverageCreditCardLimit DESC;\n",
    "\"\"\"\n",
    "connector.get_df_from_query(sql_query)"
   ],
   "metadata": {
    "collapsed": false,
    "ExecuteTime": {
     "end_time": "2024-03-31T13:45:39.089094Z",
     "start_time": "2024-03-31T13:45:20.743451Z"
    }
   },
   "id": "7aa1725438918dae",
   "execution_count": 57
  },
  {
   "cell_type": "markdown",
   "source": [
    "Доля кредитного использования  — отношение общей суммы задолженности по кредитным картам к общему кредитному лимиту, доступному клиенту"
   ],
   "metadata": {
    "collapsed": false
   },
   "id": "1a32da86a0199a55"
  },
  {
   "cell_type": "code",
   "outputs": [
    {
     "name": "stderr",
     "output_type": "stream",
     "text": [
      "/Users/vi/DataspellProjects/shift/src/app/utils/db_connector.py:37: UserWarning: pandas only supports SQLAlchemy connectable (engine/connection) or database string URI or sqlite3 DBAPI2 connection. Other DBAPI2 objects are not tested. Please consider using SQLAlchemy.\n",
      "  df = pd.read_sql(query, conn)\n"
     ]
    },
    {
     "name": "stdout",
     "output_type": "stream",
     "text": [
      "CPU times: user 109 ms, sys: 18 ms, total: 127 ms\n",
      "Wall time: 11 s\n"
     ]
    },
    {
     "data": {
      "text/plain": "        sk_id_curr  creditutilizationratio\n0           155492                2.138789\n1           172610                2.131796\n2           289267                1.564907\n3           148211                1.398834\n4           377094                1.286950\n...            ...                     ...\n103553      179113               -0.007783\n103554      385987               -0.009199\n103555      203520               -0.010800\n103556      172723               -0.084848\n103557      337680               -0.084848\n\n[103558 rows x 2 columns]",
      "text/html": "<div>\n<style scoped>\n    .dataframe tbody tr th:only-of-type {\n        vertical-align: middle;\n    }\n\n    .dataframe tbody tr th {\n        vertical-align: top;\n    }\n\n    .dataframe thead th {\n        text-align: right;\n    }\n</style>\n<table border=\"1\" class=\"dataframe\">\n  <thead>\n    <tr style=\"text-align: right;\">\n      <th></th>\n      <th>sk_id_curr</th>\n      <th>creditutilizationratio</th>\n    </tr>\n  </thead>\n  <tbody>\n    <tr>\n      <th>0</th>\n      <td>155492</td>\n      <td>2.138789</td>\n    </tr>\n    <tr>\n      <th>1</th>\n      <td>172610</td>\n      <td>2.131796</td>\n    </tr>\n    <tr>\n      <th>2</th>\n      <td>289267</td>\n      <td>1.564907</td>\n    </tr>\n    <tr>\n      <th>3</th>\n      <td>148211</td>\n      <td>1.398834</td>\n    </tr>\n    <tr>\n      <th>4</th>\n      <td>377094</td>\n      <td>1.286950</td>\n    </tr>\n    <tr>\n      <th>...</th>\n      <td>...</td>\n      <td>...</td>\n    </tr>\n    <tr>\n      <th>103553</th>\n      <td>179113</td>\n      <td>-0.007783</td>\n    </tr>\n    <tr>\n      <th>103554</th>\n      <td>385987</td>\n      <td>-0.009199</td>\n    </tr>\n    <tr>\n      <th>103555</th>\n      <td>203520</td>\n      <td>-0.010800</td>\n    </tr>\n    <tr>\n      <th>103556</th>\n      <td>172723</td>\n      <td>-0.084848</td>\n    </tr>\n    <tr>\n      <th>103557</th>\n      <td>337680</td>\n      <td>-0.084848</td>\n    </tr>\n  </tbody>\n</table>\n<p>103558 rows × 2 columns</p>\n</div>"
     },
     "execution_count": 58,
     "metadata": {},
     "output_type": "execute_result"
    }
   ],
   "source": [
    "%%time\n",
    "sql_query = \"\"\"\n",
    "SET search_path TO credit_scoring;\n",
    "SELECT\n",
    "    SK_ID_CURR,\n",
    "    CASE \n",
    "        WHEN SUM(AMT_CREDIT_LIMIT_ACTUAL) > 0 THEN \n",
    "            SUM(AMT_BALANCE) / SUM(AMT_CREDIT_LIMIT_ACTUAL)\n",
    "        ELSE \n",
    "            0 \n",
    "    END AS CreditUtilizationRatio\n",
    "FROM credit_card_balance\n",
    "GROUP BY SK_ID_CURR\n",
    "ORDER BY CreditUtilizationRatio DESC;\n",
    "\"\"\"\n",
    "connector.get_df_from_query(sql_query)"
   ],
   "metadata": {
    "collapsed": false,
    "ExecuteTime": {
     "end_time": "2024-03-31T13:45:50.115731Z",
     "start_time": "2024-03-31T13:45:39.088186Z"
    }
   },
   "id": "c4e4216bd0953a10",
   "execution_count": 58
  },
  {
   "cell_type": "markdown",
   "source": [
    "Отношение платежа по кредиту к зарплате для каждого клиента"
   ],
   "metadata": {
    "collapsed": false
   },
   "id": "a493370efdead1a3"
  },
  {
   "cell_type": "code",
   "outputs": [
    {
     "name": "stderr",
     "output_type": "stream",
     "text": [
      "/Users/vi/DataspellProjects/shift/src/app/utils/db_connector.py:37: UserWarning: pandas only supports SQLAlchemy connectable (engine/connection) or database string URI or sqlite3 DBAPI2 connection. Other DBAPI2 objects are not tested. Please consider using SQLAlchemy.\n",
      "  df = pd.read_sql(query, conn)\n"
     ]
    },
    {
     "name": "stdout",
     "output_type": "stream",
     "text": [
      "CPU times: user 365 ms, sys: 109 ms, total: 474 ms\n",
      "Wall time: 8 s\n"
     ]
    },
    {
     "data": {
      "text/plain": "        sk_id_curr  ratio_annuity_income\n0           125263              0.108720\n1           399518              0.063978\n2           399518              0.000000\n3           200527              0.073292\n4           200527              0.073292\n...            ...                   ...\n489632      410949              0.033717\n489633      115067              0.071000\n489634      377669              0.000000\n489635      431028              0.000000\n489636      363575              0.162650\n\n[489637 rows x 2 columns]",
      "text/html": "<div>\n<style scoped>\n    .dataframe tbody tr th:only-of-type {\n        vertical-align: middle;\n    }\n\n    .dataframe tbody tr th {\n        vertical-align: top;\n    }\n\n    .dataframe thead th {\n        text-align: right;\n    }\n</style>\n<table border=\"1\" class=\"dataframe\">\n  <thead>\n    <tr style=\"text-align: right;\">\n      <th></th>\n      <th>sk_id_curr</th>\n      <th>ratio_annuity_income</th>\n    </tr>\n  </thead>\n  <tbody>\n    <tr>\n      <th>0</th>\n      <td>125263</td>\n      <td>0.108720</td>\n    </tr>\n    <tr>\n      <th>1</th>\n      <td>399518</td>\n      <td>0.063978</td>\n    </tr>\n    <tr>\n      <th>2</th>\n      <td>399518</td>\n      <td>0.000000</td>\n    </tr>\n    <tr>\n      <th>3</th>\n      <td>200527</td>\n      <td>0.073292</td>\n    </tr>\n    <tr>\n      <th>4</th>\n      <td>200527</td>\n      <td>0.073292</td>\n    </tr>\n    <tr>\n      <th>...</th>\n      <td>...</td>\n      <td>...</td>\n    </tr>\n    <tr>\n      <th>489632</th>\n      <td>410949</td>\n      <td>0.033717</td>\n    </tr>\n    <tr>\n      <th>489633</th>\n      <td>115067</td>\n      <td>0.071000</td>\n    </tr>\n    <tr>\n      <th>489634</th>\n      <td>377669</td>\n      <td>0.000000</td>\n    </tr>\n    <tr>\n      <th>489635</th>\n      <td>431028</td>\n      <td>0.000000</td>\n    </tr>\n    <tr>\n      <th>489636</th>\n      <td>363575</td>\n      <td>0.162650</td>\n    </tr>\n  </tbody>\n</table>\n<p>489637 rows × 2 columns</p>\n</div>"
     },
     "execution_count": 59,
     "metadata": {},
     "output_type": "execute_result"
    }
   ],
   "source": [
    "%%time\n",
    "sql_query = \"\"\"\n",
    "SET search_path TO credit_scoring;\n",
    "SELECT a.sk_id_curr,\n",
    "       bur.amt_annuity / a.amt_income_total AS ratio_annuity_income\n",
    "FROM application a\n",
    "JOIN bureau bur ON a.sk_id_curr = bur.sk_id_curr\n",
    "WHERE bur.amt_annuity IS NOT NULL;\n",
    "\"\"\"\n",
    "connector.get_df_from_query(sql_query)"
   ],
   "metadata": {
    "collapsed": false,
    "ExecuteTime": {
     "end_time": "2024-03-31T13:45:58.127935Z",
     "start_time": "2024-03-31T13:45:50.116461Z"
    }
   },
   "id": "fd2b466b4a7f9924",
   "execution_count": 59
  }
 ],
 "metadata": {
  "kernelspec": {
   "display_name": "Python 3",
   "language": "python",
   "name": "python3"
  },
  "language_info": {
   "codemirror_mode": {
    "name": "ipython",
    "version": 2
   },
   "file_extension": ".py",
   "mimetype": "text/x-python",
   "name": "python",
   "nbconvert_exporter": "python",
   "pygments_lexer": "ipython2",
   "version": "2.7.6"
  }
 },
 "nbformat": 4,
 "nbformat_minor": 5
}
